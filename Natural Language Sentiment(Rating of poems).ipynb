{
 "cells": [
  {
   "cell_type": "markdown",
   "id": "86cb14c9-38d5-4b28-a2c0-9513043ec86a",
   "metadata": {},
   "source": [
    "<div style=\"text-align: center; padding: 10px; background-color: #065B82; color:#ffffff; font-size: 40px; box-shadow: 0px 4px 8px rgba(0, 0, 0, 0.1);\">NATURAL LANGUAGE SENTIMENT (RATING OF POEMS)</div>\n"
   ]
  },
  {
   "cell_type": "markdown",
   "id": "dcb31089-ef19-4723-9304-15c8e052c354",
   "metadata": {},
   "source": [
    "\n",
    "\n",
    "<div style=\"text-align: center; padding: 10px; color:#000000; font-size: 30px;\">Josephine Taiwo Kayode</div>\n"
   ]
  },
  {
   "cell_type": "markdown",
   "id": "e89fb727-d82a-4d37-b13a-13d9946dd859",
   "metadata": {},
   "source": [
    "><img src = \"image/im.jpg\" style=\"display: block; margin: auto;\" />/>"
   ]
  },
  {
   "cell_type": "markdown",
   "id": "48a99225-51cd-40f2-8cff-739a588ea1d8",
   "metadata": {},
   "source": [
    "<div style=\"text-align: Left; padding: 10px; background-color: #013754; color:#ffffff; font-size: 30px; box-shadow: 0px 4px 8px rgba(0, 0, 0, 0.1);\">1.0 Project Overview</div>"
   ]
  },
  {
   "cell_type": "markdown",
   "id": "68f14bee-b9bc-4334-8c6a-24c74af65197",
   "metadata": {},
   "source": [
    "\n",
    "Natural Language Sentiment refers to understanding and figuring out the feelings or emotions expressed in human language, like whether a statement is happy, sad, or neutral. Reading a poem can stir emotions, but everyone feels differently. This project helps with that. By decoding sentiments and predicting engagement, we are figuring out the feelings in comments about the poems and predicting how much people might like and comment on each poem. It's like having a digital friend who decodes the collective sentiment for a more insightful experience.\n",
    "\n",
    "Objective: The primary goal of this project is to harness the power of Natural Language Processing (NLP) to analyze the sentiment of poems. We aim to predict the sentiment (positive, negative, neutral) and forecast the number of likes and comments each poem might receive based on the sentiments expressed. \n",
    "\n",
    "Key Components:\n",
    "\n",
    "a. Data Collection: \n",
    "Gathering the dataset through web scrappings, ensuring they are prepared for preprocessing\n",
    "\n",
    "b. Data Preprocessing: \n",
    "Clean and preprocess the datasets, including tasks such as taking out missing values, type casting, vectorization and exploring techniques for feature extraction a representation of text data.\n",
    "\n",
    "c. Sentiment Analysis Model: \n",
    "Build and train a sentiment analysis model using state-of-the-art Natural Language Processing techniques.\r\n",
    "Evaluate the model's performance on a validation set andfinetune  as needed for accurate sentiment predictino\n",
    "\n",
    "d. Text Mining: To utilize text mining techniques to extract meaningful insights from poets' profiles, poems, and comments, enabling deeper analysis and understanding of the data.\n",
    "\n",
    "e.  Predictive Modeling for Likes and Comments: \n",
    "Explore regression models to predict the number of likes andratingss based on the sentimen and ratingst of each poem.\r\n",
    ".\r\n",
    "\n",
    "\r"
   ]
  },
  {
   "cell_type": "markdown",
   "id": "6da314a3-9e12-4d69-a4ad-11722d21849d",
   "metadata": {},
   "source": [
    "\n",
    "<div style=\"text-align: Left; padding: 10px; background-color: #013754; color:#ffffff; font-size: 30px; box-shadow: 0px 4px 8px rgba(0, 0, 0, 0.1);\">2.0 Data Collection</div>"
   ]
  },
  {
   "cell_type": "markdown",
   "id": "b9b37ecd-3ed4-443d-918c-b17a26bb58b7",
   "metadata": {},
   "source": [
    "All the data used in this project was collected through web scraping, a technique used to extract information from websites. This explains that the data was not readily available in a structured format and had to be extracted from the platform's web pages: <a href=\"https://allpoetry.com/\" target=\"_blank\">AllPoetry.com</a> .\n"
   ]
  },
  {
   "cell_type": "markdown",
   "id": "af9cb65b-dfcb-4e76-bbf7-63e396232f6d",
   "metadata": {},
   "source": [
    "## 2.1 Importing Dataset"
   ]
  },
  {
   "cell_type": "code",
   "execution_count": 1,
   "id": "297eb3ff-d2c2-4c7f-b6d7-b919612cbe44",
   "metadata": {},
   "outputs": [],
   "source": [
    "#Data Loading and Preprocessing\n",
    "import pandas as pd #For data manipulation and analysis.\n",
    "import numpy as np  #For numerical operations on arrays and matrices.\n",
    "import re #Regular expression library for string manipulation.\n",
    "import string #Provides common string operations.\n",
    "\n",
    "#Data Visualization\n",
    "import seaborn as sns #For creating visualizations and plots.\n",
    "import matplotlib.pyplot as plt #For creating interactive and static plots using Plotly.\n",
    "import plotly.express as px #For creating interactive and static plots using Plotly.\n",
    "import plotly.graph_objects as go #For creating interactive and static plots using Plotly.\n",
    "from plotly.subplots import make_subplots #For creating interactive and static plots using Plotly.\n",
    "\n",
    "#Data Encoding and Transformation\n",
    "from sklearn.preprocessing import OneHotEncoder #For encoding categorical features.\n",
    "from sklearn.preprocessing import LabelEncoder  #For encoding categorical features.\n",
    "from scipy.sparse import csr_matrix #For efficient sparse matrix representation.\n",
    "\n",
    "#Text Processing and Analysis\n",
    "import nltk #Natural Language Toolkit for text processing.\n",
    "from nltk import pos_tag, word_tokenize #Part-of-speech tagging and word tokenization.\n",
    "from nltk.corpus import stopwords #Common stopwords for text analysis.\n",
    "from nltk.stem import WordNetLemmatizer #Lemmatization for word normalization.\n",
    "from textblob import TextBlob #Text processing library for sentiment analysis.\n",
    "from sklearn.feature_extraction.text import TfidfVectorizer #Term Frequency-Inverse Document Frequency vectorization for text data.\n",
    "\n",
    "#WordCloud and Image Processing\n",
    "from wordcloud import WordCloud #For generating word clouds.\n",
    "from PIL import Image #: Python Imaging Library for image processing.\n",
    "\n",
    "#Interactive Visualization Export\n",
    "import chart_studio.tools as cst #For exporting Plotly visualizations to Chart Studio.\n",
    "import chart_studio.plotly as py #For exporting Plotly visualizations to Chart Studio.\n",
    "import plotly.offline as pyo #For offline Plotly visualizations and rendering.\n",
    "import plotly.io as pio #For offline Plotly visualizations and rendering.\n",
    "from collections import Counter\n",
    "\n",
    "\n",
    "# data modelling\n",
    "from sklearn.model_selection import train_test_split\n",
    "from sklearn.linear_model import LogisticRegression\n",
    "from sklearn.tree import DecisionTreeRegressor\n",
    "from sklearn.linear_model import LinearRegression\n",
    "from sklearn.svm import SVR\n",
    "from sklearn.ensemble import RandomForestRegressor\n",
    "from sklearn.metrics import mean_absolute_error\n",
    "from sklearn.metrics import mean_squared_error\n",
    "from sklearn import pipeline\n",
    "from xgboost import XGBRegressor\n",
    "\n",
    "\n",
    "# data evaluation \n",
    "from sklearn.metrics import classification_report\n",
    "from sklearn.metrics import recall_score\n",
    "from sklearn.metrics import precision_score\n",
    "from sklearn.metrics import f1_score\n",
    "import pickle as pkl\n",
    "\n",
    "\n",
    "#Additional Utilities\n",
    "import random #For generating random numbers\n",
    "from collections import Counter #For counting occurrences of elements\n",
    "from matplotlib.figure import Figure #For creating Matplotlib figures\n",
    "import sys #Provides access to some variables used or maintained by the Python interpreter\n",
    "import warnings #For handling warnings\n",
    "warnings.filterwarnings(\"ignore\")\n",
    "\n",
    " \n",
    "\n",
    "\n",
    "\n"
   ]
  },
  {
   "cell_type": "markdown",
   "id": "f262e74c-29ef-431d-bbbd-d61b26ce2d31",
   "metadata": {},
   "source": [
    "## 2.2 Poet's Profile"
   ]
  },
  {
   "cell_type": "markdown",
   "id": "6e306a9a-9971-4052-9440-bbc8fd6fbb67",
   "metadata": {},
   "source": [
    "Description: This dataset contains information about poets and their interactions on the platform. It includes various attributes associated with each poet.\n",
    "\n",
    "#### Columns:\n",
    "\n",
    "poet_id: Unique identifier for each poet.\n",
    "\n",
    "followers: Number of followers the poet has.\n",
    "\n",
    "following: Number of other users that the poet is following.\n",
    "\n",
    "message_out: Number of messages sent by the poet.\n",
    "\n",
    "message_in: Number of messages received by the poet.\n",
    "\n",
    "membership: Type of membership\n",
    "\n",
    "level: Level of the poet on the platform.\n",
    "\n",
    "region: Geographical region associated with the poet.\n",
    "\n",
    "gold: Gold metric.\n",
    "\n",
    "silver: Silver metric.\n",
    "\n",
    "bronze: Bronze  metric.\n",
    "\n",
    "hm: Another metric or attribute associated with the poet.\n",
    "\n",
    "#### Size: 526 rows and 12 columns.\n"
   ]
  },
  {
   "cell_type": "code",
   "execution_count": 2,
   "id": "aca07918-8153-46db-ae5e-873cb0bedb20",
   "metadata": {},
   "outputs": [],
   "source": [
    "df_poet = pd.read_csv('datasets/poets.csv')"
   ]
  },
  {
   "cell_type": "code",
   "execution_count": 3,
   "id": "9b4ab068-3756-4435-b969-57ccd74bbf5e",
   "metadata": {},
   "outputs": [
    {
     "data": {
      "text/html": [
       "<div>\n",
       "<style scoped>\n",
       "    .dataframe tbody tr th:only-of-type {\n",
       "        vertical-align: middle;\n",
       "    }\n",
       "\n",
       "    .dataframe tbody tr th {\n",
       "        vertical-align: top;\n",
       "    }\n",
       "\n",
       "    .dataframe thead th {\n",
       "        text-align: right;\n",
       "    }\n",
       "</style>\n",
       "<table border=\"1\" class=\"dataframe\">\n",
       "  <thead>\n",
       "    <tr style=\"text-align: right;\">\n",
       "      <th></th>\n",
       "      <th>id</th>\n",
       "      <th>followers</th>\n",
       "      <th>following</th>\n",
       "      <th>message_out</th>\n",
       "      <th>message_in</th>\n",
       "      <th>membership</th>\n",
       "      <th>level</th>\n",
       "      <th>region</th>\n",
       "      <th>gold</th>\n",
       "      <th>silver</th>\n",
       "      <th>bronze</th>\n",
       "      <th>hm</th>\n",
       "    </tr>\n",
       "  </thead>\n",
       "  <tbody>\n",
       "    <tr>\n",
       "      <th>0</th>\n",
       "      <td>1</td>\n",
       "      <td>711</td>\n",
       "      <td>432</td>\n",
       "      <td>13416</td>\n",
       "      <td>7722</td>\n",
       "      <td>silver</td>\n",
       "      <td>top gun</td>\n",
       "      <td>Texas</td>\n",
       "      <td>247</td>\n",
       "      <td>243</td>\n",
       "      <td>198</td>\n",
       "      <td>429</td>\n",
       "    </tr>\n",
       "    <tr>\n",
       "      <th>1</th>\n",
       "      <td>2</td>\n",
       "      <td>17</td>\n",
       "      <td>17</td>\n",
       "      <td>47</td>\n",
       "      <td>51</td>\n",
       "      <td>Free</td>\n",
       "      <td>topaz horse</td>\n",
       "      <td>NaN</td>\n",
       "      <td>0</td>\n",
       "      <td>0</td>\n",
       "      <td>0</td>\n",
       "      <td>0</td>\n",
       "    </tr>\n",
       "    <tr>\n",
       "      <th>2</th>\n",
       "      <td>3</td>\n",
       "      <td>88</td>\n",
       "      <td>7</td>\n",
       "      <td>939</td>\n",
       "      <td>1014</td>\n",
       "      <td>Free</td>\n",
       "      <td>topaz horse</td>\n",
       "      <td>Louisiana</td>\n",
       "      <td>0</td>\n",
       "      <td>0</td>\n",
       "      <td>0</td>\n",
       "      <td>0</td>\n",
       "    </tr>\n",
       "    <tr>\n",
       "      <th>3</th>\n",
       "      <td>4</td>\n",
       "      <td>319</td>\n",
       "      <td>87</td>\n",
       "      <td>4731</td>\n",
       "      <td>4978</td>\n",
       "      <td>gold</td>\n",
       "      <td>leap-frog</td>\n",
       "      <td>NaN</td>\n",
       "      <td>115</td>\n",
       "      <td>120</td>\n",
       "      <td>92</td>\n",
       "      <td>193</td>\n",
       "    </tr>\n",
       "    <tr>\n",
       "      <th>4</th>\n",
       "      <td>5</td>\n",
       "      <td>376</td>\n",
       "      <td>519</td>\n",
       "      <td>4249</td>\n",
       "      <td>6596</td>\n",
       "      <td>silver</td>\n",
       "      <td>perfect palomino</td>\n",
       "      <td>NaN</td>\n",
       "      <td>187</td>\n",
       "      <td>234</td>\n",
       "      <td>235</td>\n",
       "      <td>905</td>\n",
       "    </tr>\n",
       "    <tr>\n",
       "      <th>5</th>\n",
       "      <td>6</td>\n",
       "      <td>56</td>\n",
       "      <td>41</td>\n",
       "      <td>324</td>\n",
       "      <td>226</td>\n",
       "      <td>Free</td>\n",
       "      <td>citrine experience</td>\n",
       "      <td>Kansas</td>\n",
       "      <td>2</td>\n",
       "      <td>4</td>\n",
       "      <td>3</td>\n",
       "      <td>3</td>\n",
       "    </tr>\n",
       "    <tr>\n",
       "      <th>6</th>\n",
       "      <td>7</td>\n",
       "      <td>22</td>\n",
       "      <td>19</td>\n",
       "      <td>74</td>\n",
       "      <td>69</td>\n",
       "      <td>gold</td>\n",
       "      <td>perfect palomino</td>\n",
       "      <td>NaN</td>\n",
       "      <td>0</td>\n",
       "      <td>1</td>\n",
       "      <td>0</td>\n",
       "      <td>2</td>\n",
       "    </tr>\n",
       "    <tr>\n",
       "      <th>7</th>\n",
       "      <td>8</td>\n",
       "      <td>109</td>\n",
       "      <td>72</td>\n",
       "      <td>549</td>\n",
       "      <td>522</td>\n",
       "      <td>Free</td>\n",
       "      <td>perfect palomino</td>\n",
       "      <td>NaN</td>\n",
       "      <td>0</td>\n",
       "      <td>2</td>\n",
       "      <td>0</td>\n",
       "      <td>1</td>\n",
       "    </tr>\n",
       "    <tr>\n",
       "      <th>8</th>\n",
       "      <td>9</td>\n",
       "      <td>251</td>\n",
       "      <td>251</td>\n",
       "      <td>2400</td>\n",
       "      <td>2233</td>\n",
       "      <td>Free</td>\n",
       "      <td>lyric diamond</td>\n",
       "      <td>Virginia</td>\n",
       "      <td>38</td>\n",
       "      <td>42</td>\n",
       "      <td>51</td>\n",
       "      <td>267</td>\n",
       "    </tr>\n",
       "    <tr>\n",
       "      <th>9</th>\n",
       "      <td>10</td>\n",
       "      <td>50</td>\n",
       "      <td>15</td>\n",
       "      <td>228</td>\n",
       "      <td>286</td>\n",
       "      <td>Free</td>\n",
       "      <td>citrine experience</td>\n",
       "      <td>NaN</td>\n",
       "      <td>2</td>\n",
       "      <td>1</td>\n",
       "      <td>2</td>\n",
       "      <td>7</td>\n",
       "    </tr>\n",
       "  </tbody>\n",
       "</table>\n",
       "</div>"
      ],
      "text/plain": [
       "   id  followers  following  message_out  message_in membership  \\\n",
       "0   1        711        432        13416        7722     silver   \n",
       "1   2         17         17           47          51       Free   \n",
       "2   3         88          7          939        1014       Free   \n",
       "3   4        319         87         4731        4978       gold   \n",
       "4   5        376        519         4249        6596     silver   \n",
       "5   6         56         41          324         226       Free   \n",
       "6   7         22         19           74          69       gold   \n",
       "7   8        109         72          549         522       Free   \n",
       "8   9        251        251         2400        2233       Free   \n",
       "9  10         50         15          228         286       Free   \n",
       "\n",
       "                level     region  gold  silver  bronze   hm  \n",
       "0             top gun      Texas   247     243     198  429  \n",
       "1         topaz horse        NaN     0       0       0    0  \n",
       "2         topaz horse  Louisiana     0       0       0    0  \n",
       "3           leap-frog        NaN   115     120      92  193  \n",
       "4    perfect palomino        NaN   187     234     235  905  \n",
       "5  citrine experience     Kansas     2       4       3    3  \n",
       "6    perfect palomino        NaN     0       1       0    2  \n",
       "7    perfect palomino        NaN     0       2       0    1  \n",
       "8       lyric diamond   Virginia    38      42      51  267  \n",
       "9  citrine experience        NaN     2       1       2    7  "
      ]
     },
     "execution_count": 3,
     "metadata": {},
     "output_type": "execute_result"
    }
   ],
   "source": [
    "df_poet.head(10)"
   ]
  },
  {
   "cell_type": "markdown",
   "id": "ffb12243-a41d-42bc-bdb3-8d90489ec2f5",
   "metadata": {},
   "source": [
    "## 2.3 Poem Data"
   ]
  },
  {
   "cell_type": "markdown",
   "id": "4e771c35-1eb0-4108-aa62-c592dcd384bc",
   "metadata": {},
   "source": [
    "Description: This dataset contain information about individual poems posted on the platform.\n",
    "\n",
    "#### Columns:\n",
    "\n",
    "poem_id: Unique identifier for each poem.\n",
    "\n",
    "user_id: Identifier for the user who posted the poem.\n",
    "\n",
    "title: Title of the poem.\n",
    "\n",
    "poem: The actual text content of the poem.\n",
    "\n",
    "likes: The number of likes received by the poem.\n",
    "\n",
    "#### Size: 19,713 rows and 5 columns."
   ]
  },
  {
   "cell_type": "code",
   "execution_count": 4,
   "id": "bf9fcc95-d323-44e4-b974-a717d894c45b",
   "metadata": {},
   "outputs": [],
   "source": [
    "df_poem = pd.read_csv('datasets/poems.csv')"
   ]
  },
  {
   "cell_type": "code",
   "execution_count": 5,
   "id": "3b74713c-8f80-4c77-b0a9-85ffd88cb003",
   "metadata": {},
   "outputs": [
    {
     "data": {
      "text/html": [
       "<div>\n",
       "<style scoped>\n",
       "    .dataframe tbody tr th:only-of-type {\n",
       "        vertical-align: middle;\n",
       "    }\n",
       "\n",
       "    .dataframe tbody tr th {\n",
       "        vertical-align: top;\n",
       "    }\n",
       "\n",
       "    .dataframe thead th {\n",
       "        text-align: right;\n",
       "    }\n",
       "</style>\n",
       "<table border=\"1\" class=\"dataframe\">\n",
       "  <thead>\n",
       "    <tr style=\"text-align: right;\">\n",
       "      <th></th>\n",
       "      <th>poem_id</th>\n",
       "      <th>user_id</th>\n",
       "      <th>title</th>\n",
       "      <th>poem</th>\n",
       "      <th>likes</th>\n",
       "    </tr>\n",
       "  </thead>\n",
       "  <tbody>\n",
       "    <tr>\n",
       "      <th>0</th>\n",
       "      <td>1</td>\n",
       "      <td>1</td>\n",
       "      <td>11-5-2022</td>\n",
       "      <td>On November 5th**Twenty twenty-two*you and I* ...</td>\n",
       "      <td>13</td>\n",
       "    </tr>\n",
       "    <tr>\n",
       "      <th>1</th>\n",
       "      <td>2</td>\n",
       "      <td>1</td>\n",
       "      <td>A Fate That*s Been Sung</td>\n",
       "      <td>Sometimes we grow to*understand our pain.*  ...</td>\n",
       "      <td>3</td>\n",
       "    </tr>\n",
       "    <tr>\n",
       "      <th>2</th>\n",
       "      <td>3</td>\n",
       "      <td>1</td>\n",
       "      <td>The Carnation Dances In June</td>\n",
       "      <td>when spring ended*and summer days began*she bl...</td>\n",
       "      <td>4</td>\n",
       "    </tr>\n",
       "    <tr>\n",
       "      <th>3</th>\n",
       "      <td>4</td>\n",
       "      <td>1</td>\n",
       "      <td>When Did I Become The Other Woman....?</td>\n",
       "      <td>in the night when crickets chirp*and the winds...</td>\n",
       "      <td>10</td>\n",
       "    </tr>\n",
       "    <tr>\n",
       "      <th>4</th>\n",
       "      <td>5</td>\n",
       "      <td>1</td>\n",
       "      <td>The Storms Reminder of You</td>\n",
       "      <td>it is when skies are grey*and thunder growls*a...</td>\n",
       "      <td>10</td>\n",
       "    </tr>\n",
       "    <tr>\n",
       "      <th>5</th>\n",
       "      <td>6</td>\n",
       "      <td>1</td>\n",
       "      <td>In Memory of Sonja (Allseasonverse)</td>\n",
       "      <td>the universe spins*slowly around us*babies are...</td>\n",
       "      <td>19</td>\n",
       "    </tr>\n",
       "    <tr>\n",
       "      <th>6</th>\n",
       "      <td>7</td>\n",
       "      <td>1</td>\n",
       "      <td>Panic On Display</td>\n",
       "      <td>dressed in a glittered orchid gown*I*m like a ...</td>\n",
       "      <td>5</td>\n",
       "    </tr>\n",
       "    <tr>\n",
       "      <th>7</th>\n",
       "      <td>8</td>\n",
       "      <td>1</td>\n",
       "      <td>The Shame</td>\n",
       "      <td>darkness is my fortress*inside I hide*from pry...</td>\n",
       "      <td>55</td>\n",
       "    </tr>\n",
       "    <tr>\n",
       "      <th>8</th>\n",
       "      <td>9</td>\n",
       "      <td>1</td>\n",
       "      <td>Weightless</td>\n",
       "      <td>my body was weakening*giving up on me*I could ...</td>\n",
       "      <td>8</td>\n",
       "    </tr>\n",
       "    <tr>\n",
       "      <th>9</th>\n",
       "      <td>10</td>\n",
       "      <td>1</td>\n",
       "      <td>Foundation Cracking</td>\n",
       "      <td>my foundation was applied*at an early age in l...</td>\n",
       "      <td>5</td>\n",
       "    </tr>\n",
       "  </tbody>\n",
       "</table>\n",
       "</div>"
      ],
      "text/plain": [
       "   poem_id  user_id                                   title  \\\n",
       "0        1        1                               11-5-2022   \n",
       "1        2        1                 A Fate That*s Been Sung   \n",
       "2        3        1            The Carnation Dances In June   \n",
       "3        4        1  When Did I Become The Other Woman....?   \n",
       "4        5        1              The Storms Reminder of You   \n",
       "5        6        1     In Memory of Sonja (Allseasonverse)   \n",
       "6        7        1                        Panic On Display   \n",
       "7        8        1                               The Shame   \n",
       "8        9        1                              Weightless   \n",
       "9       10        1                     Foundation Cracking   \n",
       "\n",
       "                                                poem  likes  \n",
       "0  On November 5th**Twenty twenty-two*you and I* ...     13  \n",
       "1    Sometimes we grow to*understand our pain.*  ...      3  \n",
       "2  when spring ended*and summer days began*she bl...      4  \n",
       "3  in the night when crickets chirp*and the winds...     10  \n",
       "4  it is when skies are grey*and thunder growls*a...     10  \n",
       "5  the universe spins*slowly around us*babies are...     19  \n",
       "6  dressed in a glittered orchid gown*I*m like a ...      5  \n",
       "7  darkness is my fortress*inside I hide*from pry...     55  \n",
       "8  my body was weakening*giving up on me*I could ...      8  \n",
       "9  my foundation was applied*at an early age in l...      5  "
      ]
     },
     "execution_count": 5,
     "metadata": {},
     "output_type": "execute_result"
    }
   ],
   "source": [
    "df_poem.head(10)"
   ]
  },
  {
   "cell_type": "code",
   "execution_count": 6,
   "id": "d007c31e-40bf-4071-b80d-d42b92a80cbf",
   "metadata": {},
   "outputs": [
    {
     "data": {
      "text/plain": [
       "0        On November 5th**Twenty twenty-two*you and I* ...\n",
       "1          Sometimes we grow to*understand our pain.*  ...\n",
       "2        when spring ended*and summer days began*she bl...\n",
       "3        in the night when crickets chirp*and the winds...\n",
       "4        it is when skies are grey*and thunder growls*a...\n",
       "                               ...                        \n",
       "19708    Here*In the sun light*With the rays of light*W...\n",
       "19709    The only thing I believe in*Is that we have a*...\n",
       "19710    Love is a very powerful Force for peace? Which...\n",
       "19711    Currents in and out*So many issues so lil time...\n",
       "19712    Is what I am*Standing strong*With the flow*Is ...\n",
       "Name: poem, Length: 19713, dtype: object"
      ]
     },
     "execution_count": 6,
     "metadata": {},
     "output_type": "execute_result"
    }
   ],
   "source": [
    "df_poem[\"poem\"]"
   ]
  },
  {
   "cell_type": "code",
   "execution_count": 7,
   "id": "41b07292-b28b-4a5b-804b-bb454b6747c0",
   "metadata": {},
   "outputs": [
    {
     "data": {
      "text/plain": [
       "0        13\n",
       "1         3\n",
       "2         4\n",
       "3        10\n",
       "4        10\n",
       "         ..\n",
       "19708     1\n",
       "19709     1\n",
       "19710     2\n",
       "19711     2\n",
       "19712     0\n",
       "Name: likes, Length: 19713, dtype: int64"
      ]
     },
     "execution_count": 7,
     "metadata": {},
     "output_type": "execute_result"
    }
   ],
   "source": [
    "df_poem[\"likes\"]"
   ]
  },
  {
   "cell_type": "markdown",
   "id": "4f108cf4-3bc9-4ff0-a36c-6d75e0b025b6",
   "metadata": {},
   "source": [
    "## 2.4 Comment Data"
   ]
  },
  {
   "cell_type": "markdown",
   "id": "bf885cac-803c-4d4d-93f1-19b6f4c4deb6",
   "metadata": {},
   "source": [
    "Description: This dataset contain comments associated with poems.\n",
    "\n",
    "poem_id: Identifier linking the comment to a specific poem.\n",
    "\n",
    "comment: The text content of the comment.\n",
    "\n",
    "Size: \n",
    "159,371 rows and 2 columns.\r\n"
   ]
  },
  {
   "cell_type": "code",
   "execution_count": 8,
   "id": "b6d933f2-2948-403d-984e-0118b5f1b9ba",
   "metadata": {},
   "outputs": [],
   "source": [
    "\n",
    "df_comment = pd.read_csv('datasets/comments.csv')"
   ]
  },
  {
   "cell_type": "code",
   "execution_count": 9,
   "id": "b8b5f7eb-1746-4996-8bf6-978faa18600e",
   "metadata": {},
   "outputs": [
    {
     "data": {
      "text/html": [
       "<div>\n",
       "<style scoped>\n",
       "    .dataframe tbody tr th:only-of-type {\n",
       "        vertical-align: middle;\n",
       "    }\n",
       "\n",
       "    .dataframe tbody tr th {\n",
       "        vertical-align: top;\n",
       "    }\n",
       "\n",
       "    .dataframe thead th {\n",
       "        text-align: right;\n",
       "    }\n",
       "</style>\n",
       "<table border=\"1\" class=\"dataframe\">\n",
       "  <thead>\n",
       "    <tr style=\"text-align: right;\">\n",
       "      <th></th>\n",
       "      <th>poem_id</th>\n",
       "      <th>comment</th>\n",
       "    </tr>\n",
       "  </thead>\n",
       "  <tbody>\n",
       "    <tr>\n",
       "      <th>1</th>\n",
       "      <td>1</td>\n",
       "      <td>Wings   So filled with love and congratulation...</td>\n",
       "    </tr>\n",
       "    <tr>\n",
       "      <th>2</th>\n",
       "      <td>1</td>\n",
       "      <td>And may it last long and be wonerful.  well p...</td>\n",
       "    </tr>\n",
       "    <tr>\n",
       "      <th>3</th>\n",
       "      <td>1</td>\n",
       "      <td>Congrats! a bit late but nerveless happy endi...</td>\n",
       "    </tr>\n",
       "    <tr>\n",
       "      <th>4</th>\n",
       "      <td>1</td>\n",
       "      <td>What a beautiful piece. Thank you so much for...</td>\n",
       "    </tr>\n",
       "    <tr>\n",
       "      <th>5</th>\n",
       "      <td>1</td>\n",
       "      <td>Wow* wonderful. I loved the way you penned down</td>\n",
       "    </tr>\n",
       "    <tr>\n",
       "      <th>...</th>\n",
       "      <td>...</td>\n",
       "      <td>...</td>\n",
       "    </tr>\n",
       "    <tr>\n",
       "      <th>159367</th>\n",
       "      <td>19711</td>\n",
       "      <td>NaN</td>\n",
       "    </tr>\n",
       "    <tr>\n",
       "      <th>159368</th>\n",
       "      <td>19712</td>\n",
       "      <td>Amen   Nice job.</td>\n",
       "    </tr>\n",
       "    <tr>\n",
       "      <th>159369</th>\n",
       "      <td>19712</td>\n",
       "      <td>NaN</td>\n",
       "    </tr>\n",
       "    <tr>\n",
       "      <th>159370</th>\n",
       "      <td>19713</td>\n",
       "      <td>Lovely piece here* indeed we are in some stra...</td>\n",
       "    </tr>\n",
       "    <tr>\n",
       "      <th>159371</th>\n",
       "      <td>19713</td>\n",
       "      <td>NaN</td>\n",
       "    </tr>\n",
       "  </tbody>\n",
       "</table>\n",
       "<p>159371 rows × 2 columns</p>\n",
       "</div>"
      ],
      "text/plain": [
       "        poem_id                                            comment\n",
       "1             1  Wings   So filled with love and congratulation...\n",
       "2             1   And may it last long and be wonerful.  well p...\n",
       "3             1   Congrats! a bit late but nerveless happy endi...\n",
       "4             1   What a beautiful piece. Thank you so much for...\n",
       "5             1    Wow* wonderful. I loved the way you penned down\n",
       "...         ...                                                ...\n",
       "159367    19711                                                NaN\n",
       "159368    19712                                   Amen   Nice job.\n",
       "159369    19712                                                NaN\n",
       "159370    19713   Lovely piece here* indeed we are in some stra...\n",
       "159371    19713                                                NaN\n",
       "\n",
       "[159371 rows x 2 columns]"
      ]
     },
     "execution_count": 9,
     "metadata": {},
     "output_type": "execute_result"
    }
   ],
   "source": [
    "df_comment"
   ]
  },
  {
   "cell_type": "markdown",
   "id": "87846c4a-4e16-43a1-a11e-f0468a7178e0",
   "metadata": {},
   "source": [
    "\n",
    "<div style=\"text-align: Left; padding: 10px; background-color: #013754; color:#ffffff; font-size: 30px; box-shadow: 0px 4px 8px rgba(0, 0, 0, 0.1);\">3.0 Data Preprocessing</div>"
   ]
  },
  {
   "cell_type": "markdown",
   "id": "36788dd1-73eb-491a-9149-a801cb1703ab",
   "metadata": {},
   "source": [
    "In this stage, several crucial steps were undertaken to ensure the dataset's readiness for sentiment analysis on poems. The process involved cleaning the data, handling missing values, encoding categorical variables, and preparing the text data for analysis."
   ]
  },
  {
   "cell_type": "markdown",
   "id": "b974cfdf-0ce6-421a-b166-431389d3120a",
   "metadata": {},
   "source": [
    "## PREPROCESSING FOR POET'S PROFILE DATA"
   ]
  },
  {
   "cell_type": "code",
   "execution_count": 10,
   "id": "494354f7-2de4-4532-b6ad-0d8c80f3fea2",
   "metadata": {},
   "outputs": [
    {
     "name": "stdout",
     "output_type": "stream",
     "text": [
      "<class 'pandas.core.frame.DataFrame'>\n",
      "RangeIndex: 526 entries, 0 to 525\n",
      "Data columns (total 12 columns):\n",
      " #   Column       Non-Null Count  Dtype \n",
      "---  ------       --------------  ----- \n",
      " 0   id           526 non-null    int64 \n",
      " 1   followers    526 non-null    int64 \n",
      " 2   following    526 non-null    int64 \n",
      " 3   message_out  526 non-null    int64 \n",
      " 4   message_in   526 non-null    int64 \n",
      " 5   membership   526 non-null    object\n",
      " 6   level        472 non-null    object\n",
      " 7   region       220 non-null    object\n",
      " 8   gold         526 non-null    int64 \n",
      " 9   silver       526 non-null    int64 \n",
      " 10  bronze       526 non-null    int64 \n",
      " 11  hm           526 non-null    int64 \n",
      "dtypes: int64(9), object(3)\n",
      "memory usage: 49.4+ KB\n"
     ]
    }
   ],
   "source": [
    "df_poet.info()"
   ]
  },
  {
   "cell_type": "markdown",
   "id": "03a3f001-f7a0-4e01-89b1-fb0bd996658a",
   "metadata": {},
   "source": [
    "#### Handling null values"
   ]
  },
  {
   "cell_type": "markdown",
   "id": "8eb89a0c-8728-4d3c-bbd3-ee850145c03b",
   "metadata": {},
   "source": [
    "Null values were identified in this dataset, and appropriate measures were taken to remove them. This ensures that the data used for analysis is complete and avoids any potential issues associated with missing values."
   ]
  },
  {
   "cell_type": "code",
   "execution_count": 11,
   "id": "8814f9c7-4230-4ed2-8568-642a8fa681ad",
   "metadata": {},
   "outputs": [
    {
     "data": {
      "text/plain": [
       "id               0\n",
       "followers        0\n",
       "following        0\n",
       "message_out      0\n",
       "message_in       0\n",
       "membership       0\n",
       "level           54\n",
       "region         306\n",
       "gold             0\n",
       "silver           0\n",
       "bronze           0\n",
       "hm               0\n",
       "dtype: int64"
      ]
     },
     "execution_count": 11,
     "metadata": {},
     "output_type": "execute_result"
    }
   ],
   "source": [
    "df_poet.isna().sum()"
   ]
  },
  {
   "cell_type": "code",
   "execution_count": 12,
   "id": "3e5e2c64-3c03-404e-b6d4-c859e72cf0bd",
   "metadata": {},
   "outputs": [],
   "source": [
    "\n",
    "df_poet[\"level\"] = df_poet[\"level\"].fillna(\"missing\")\n",
    "df_poet[\"region\"] = df_poet[\"region\"].fillna(\"Not found\")"
   ]
  },
  {
   "cell_type": "code",
   "execution_count": 13,
   "id": "41152eab-82ee-4e22-8ee8-575395d1528c",
   "metadata": {},
   "outputs": [
    {
     "data": {
      "text/plain": [
       "id             0\n",
       "followers      0\n",
       "following      0\n",
       "message_out    0\n",
       "message_in     0\n",
       "membership     0\n",
       "level          0\n",
       "region         0\n",
       "gold           0\n",
       "silver         0\n",
       "bronze         0\n",
       "hm             0\n",
       "dtype: int64"
      ]
     },
     "execution_count": 13,
     "metadata": {},
     "output_type": "execute_result"
    }
   ],
   "source": [
    "\n",
    "df_poet.isna().sum()"
   ]
  },
  {
   "cell_type": "markdown",
   "id": "260ba3bf-2fc7-4f16-8fa3-3201afb4e429",
   "metadata": {},
   "source": [
    "#### Data Type Conversion"
   ]
  },
  {
   "cell_type": "markdown",
   "id": "e3e9445c-fe14-49de-ba6d-db186251d115",
   "metadata": {},
   "source": [
    "The data types of object columns were converted using label encoding. This step is essential for preparing the data for machine learning models, as they often require numerical input."
   ]
  },
  {
   "cell_type": "code",
   "execution_count": 14,
   "id": "0ae4d38c-93e7-4b8c-b859-61a0a2145227",
   "metadata": {},
   "outputs": [],
   "source": [
    "\n",
    "encoder1 = LabelEncoder()"
   ]
  },
  {
   "cell_type": "code",
   "execution_count": 15,
   "id": "896eaead-0635-4162-903d-73306e2edd18",
   "metadata": {},
   "outputs": [],
   "source": [
    "df_poet[\"membership\"] = encoder1.fit_transform(df_poet[\"membership\"])\n",
    "df_poet[\"level\"] = encoder1.fit_transform(df_poet[\"level\"])\n",
    "df_poet[\"region\"] = encoder1.fit_transform(df_poet[\"region\"])\n"
   ]
  },
  {
   "cell_type": "code",
   "execution_count": 16,
   "id": "47b36545-1043-48d6-8878-9025f2fada0f",
   "metadata": {},
   "outputs": [
    {
     "name": "stdout",
     "output_type": "stream",
     "text": [
      "<class 'pandas.core.frame.DataFrame'>\n",
      "RangeIndex: 526 entries, 0 to 525\n",
      "Data columns (total 12 columns):\n",
      " #   Column       Non-Null Count  Dtype\n",
      "---  ------       --------------  -----\n",
      " 0   id           526 non-null    int64\n",
      " 1   followers    526 non-null    int64\n",
      " 2   following    526 non-null    int64\n",
      " 3   message_out  526 non-null    int64\n",
      " 4   message_in   526 non-null    int64\n",
      " 5   membership   526 non-null    int32\n",
      " 6   level        526 non-null    int32\n",
      " 7   region       526 non-null    int32\n",
      " 8   gold         526 non-null    int64\n",
      " 9   silver       526 non-null    int64\n",
      " 10  bronze       526 non-null    int64\n",
      " 11  hm           526 non-null    int64\n",
      "dtypes: int32(3), int64(9)\n",
      "memory usage: 43.3 KB\n"
     ]
    }
   ],
   "source": [
    "df_poet.info()"
   ]
  },
  {
   "cell_type": "markdown",
   "id": "80f16af6-42ea-4a6d-89db-b1292f77ec94",
   "metadata": {},
   "source": [
    "## PREPROCESSING FOR POEM DATA"
   ]
  },
  {
   "cell_type": "code",
   "execution_count": 17,
   "id": "f45f1429-5072-43ab-ae7f-d7fa75176a3c",
   "metadata": {},
   "outputs": [
    {
     "name": "stdout",
     "output_type": "stream",
     "text": [
      "<class 'pandas.core.frame.DataFrame'>\n",
      "RangeIndex: 19713 entries, 0 to 19712\n",
      "Data columns (total 5 columns):\n",
      " #   Column   Non-Null Count  Dtype \n",
      "---  ------   --------------  ----- \n",
      " 0   poem_id  19713 non-null  int64 \n",
      " 1   user_id  19713 non-null  int64 \n",
      " 2   title    19669 non-null  object\n",
      " 3   poem     19674 non-null  object\n",
      " 4   likes    19713 non-null  int64 \n",
      "dtypes: int64(3), object(2)\n",
      "memory usage: 770.2+ KB\n"
     ]
    }
   ],
   "source": [
    "df_poem.info()"
   ]
  },
  {
   "cell_type": "markdown",
   "id": "30732b02-7831-4a9b-a933-0fc85af62d48",
   "metadata": {},
   "source": [
    "#### Handling null values"
   ]
  },
  {
   "cell_type": "markdown",
   "id": "ae4858ba-0221-4571-bd02-c7d55b9f4207",
   "metadata": {},
   "source": [
    "\n",
    "Null values were identified in this dataset, and appropriate measures were taken to remove them. This ensures that the data used for analysis is complete and avoids any potential issues associated with missing values."
   ]
  },
  {
   "cell_type": "code",
   "execution_count": 18,
   "id": "5e637e99-7d9c-43f1-950d-3f6fb631ba3e",
   "metadata": {},
   "outputs": [],
   "source": [
    "\n",
    "df_poem.dropna(subset=[\"title\"], inplace=True)\n",
    "df_poem.dropna(subset=[\"poem\"], inplace=True)"
   ]
  },
  {
   "cell_type": "code",
   "execution_count": 19,
   "id": "4ac2281c-1bec-4d54-b15b-b6da55e086cb",
   "metadata": {},
   "outputs": [
    {
     "data": {
      "text/plain": [
       "poem_id    0\n",
       "user_id    0\n",
       "title      0\n",
       "poem       0\n",
       "likes      0\n",
       "dtype: int64"
      ]
     },
     "execution_count": 19,
     "metadata": {},
     "output_type": "execute_result"
    }
   ],
   "source": [
    "df_poem.isna().sum()"
   ]
  },
  {
   "cell_type": "code",
   "execution_count": 20,
   "id": "e637aa14-c503-4f7f-ad37-3ac6cffc2f5a",
   "metadata": {},
   "outputs": [
    {
     "name": "stdout",
     "output_type": "stream",
     "text": [
      "<class 'pandas.core.series.Series'>\n",
      "Index: 19664 entries, 0 to 19712\n",
      "Series name: likes\n",
      "Non-Null Count  Dtype\n",
      "--------------  -----\n",
      "19664 non-null  int64\n",
      "dtypes: int64(1)\n",
      "memory usage: 307.2 KB\n"
     ]
    }
   ],
   "source": [
    "df_poem[\"likes\"].info()"
   ]
  },
  {
   "cell_type": "markdown",
   "id": "5a1cebde-bf54-4cda-9a99-34fbeb8d96a1",
   "metadata": {},
   "source": [
    "## PREPROCESSING FOR COMMENT DATA "
   ]
  },
  {
   "cell_type": "markdown",
   "id": "1cbcd83f-4fc5-4989-b249-0c4c5cd049dd",
   "metadata": {},
   "source": [
    "#### Handling null values"
   ]
  },
  {
   "cell_type": "code",
   "execution_count": 27,
   "id": "42a24712-2259-4450-a736-ad08afc48b6e",
   "metadata": {},
   "outputs": [
    {
     "name": "stdout",
     "output_type": "stream",
     "text": [
      "<class 'pandas.core.frame.DataFrame'>\n",
      "Index: 159371 entries, 1 to 159371\n",
      "Data columns (total 2 columns):\n",
      " #   Column   Non-Null Count   Dtype \n",
      "---  ------   --------------   ----- \n",
      " 0   poem_id  159371 non-null  int64 \n",
      " 1   comment  155466 non-null  object\n",
      "dtypes: int64(1), object(1)\n",
      "memory usage: 3.6+ MB\n"
     ]
    }
   ],
   "source": [
    "df_comment.info()"
   ]
  },
  {
   "cell_type": "code",
   "execution_count": 28,
   "id": "d4946b66-e94e-4496-a7f9-017152af4750",
   "metadata": {},
   "outputs": [
    {
     "data": {
      "text/plain": [
       "poem_id       0\n",
       "comment    3905\n",
       "dtype: int64"
      ]
     },
     "execution_count": 28,
     "metadata": {},
     "output_type": "execute_result"
    }
   ],
   "source": [
    "df_comment.isna().sum()"
   ]
  },
  {
   "cell_type": "code",
   "execution_count": 29,
   "id": "d9948e89-9379-4434-bccd-e3f0ea316285",
   "metadata": {},
   "outputs": [],
   "source": [
    "df_comment.dropna(subset=[\"comment\"], inplace=True)"
   ]
  },
  {
   "cell_type": "code",
   "execution_count": 30,
   "id": "f4f0863b-87d3-42b8-827d-112f3a57a646",
   "metadata": {},
   "outputs": [
    {
     "data": {
      "text/plain": [
       "poem_id    0\n",
       "comment    0\n",
       "dtype: int64"
      ]
     },
     "execution_count": 30,
     "metadata": {},
     "output_type": "execute_result"
    }
   ],
   "source": [
    "df_comment.isna().sum()"
   ]
  },
  {
   "cell_type": "markdown",
   "id": "297bf06b-7d12-481d-b4ef-075bc5b69c76",
   "metadata": {},
   "source": [
    "## TEXT DATA PROCESSING (COMMENT COLUMN)"
   ]
  },
  {
   "cell_type": "markdown",
   "id": "6823ec25-2898-47b2-9b3e-34d876762baf",
   "metadata": {},
   "source": [
    "\n",
    "\n",
    "The TF-IDF (Term Frequency-Inverse Document Frequency) vectorization technique was applied to the comment column. This transformation converts the raw text into numerical features, considering the importance of each term in the context of the entire dataset. It is a critical step for preparing the text data for machine learning models."
   ]
  },
  {
   "cell_type": "code",
   "execution_count": 31,
   "id": "9f8e1ec3-41e8-41ed-82bd-d7082df15c07",
   "metadata": {},
   "outputs": [],
   "source": [
    "tfidf_vectorizer1 = TfidfVectorizer()"
   ]
  },
  {
   "cell_type": "code",
   "execution_count": 32,
   "id": "40bbb9c5-8b9f-4703-8f22-7e57169ec80d",
   "metadata": {},
   "outputs": [],
   "source": [
    "comments = df_comment['comment']"
   ]
  },
  {
   "cell_type": "code",
   "execution_count": 33,
   "id": "f2dc1b8b-e468-4dbc-a043-a2a3049ae287",
   "metadata": {},
   "outputs": [],
   "source": [
    "X = tfidf_vectorizer1.fit_transform(comments)"
   ]
  },
  {
   "cell_type": "code",
   "execution_count": 34,
   "id": "79da9abd-3b16-41e4-b03b-90ef8bd52474",
   "metadata": {},
   "outputs": [],
   "source": [
    "feature_names = tfidf_vectorizer1.get_feature_names_out()"
   ]
  },
  {
   "cell_type": "code",
   "execution_count": 35,
   "id": "d0bed560-930a-4bf5-a288-a996c42cb003",
   "metadata": {},
   "outputs": [
    {
     "data": {
      "text/plain": [
       "(50246,)"
      ]
     },
     "execution_count": 35,
     "metadata": {},
     "output_type": "execute_result"
    }
   ],
   "source": [
    "feature_names.shape"
   ]
  },
  {
   "cell_type": "code",
   "execution_count": 36,
   "id": "8e021d5f-cf05-42b5-b1ba-6ec1c2e7362b",
   "metadata": {},
   "outputs": [],
   "source": [
    "df_comments_vec_comments = pd.DataFrame.sparse.from_spmatrix(X, columns=feature_names)"
   ]
  },
  {
   "cell_type": "code",
   "execution_count": 37,
   "id": "298820be-8203-459f-af95-ff21a6163df1",
   "metadata": {},
   "outputs": [
    {
     "data": {
      "text/html": [
       "<div>\n",
       "<style scoped>\n",
       "    .dataframe tbody tr th:only-of-type {\n",
       "        vertical-align: middle;\n",
       "    }\n",
       "\n",
       "    .dataframe tbody tr th {\n",
       "        vertical-align: top;\n",
       "    }\n",
       "\n",
       "    .dataframe thead th {\n",
       "        text-align: right;\n",
       "    }\n",
       "</style>\n",
       "<table border=\"1\" class=\"dataframe\">\n",
       "  <thead>\n",
       "    <tr style=\"text-align: right;\">\n",
       "      <th></th>\n",
       "      <th>00</th>\n",
       "      <th>000</th>\n",
       "      <th>005</th>\n",
       "      <th>007</th>\n",
       "      <th>01</th>\n",
       "      <th>02</th>\n",
       "      <th>03</th>\n",
       "      <th>0338</th>\n",
       "      <th>04</th>\n",
       "      <th>05</th>\n",
       "      <th>...</th>\n",
       "      <th>zulhaqim</th>\n",
       "      <th>zulu</th>\n",
       "      <th>zur</th>\n",
       "      <th>zuse</th>\n",
       "      <th>zyada</th>\n",
       "      <th>zz</th>\n",
       "      <th>zzblpoyynr</th>\n",
       "      <th>zzz</th>\n",
       "      <th>zzzz</th>\n",
       "      <th>zzzzz</th>\n",
       "    </tr>\n",
       "  </thead>\n",
       "  <tbody>\n",
       "    <tr>\n",
       "      <th>0</th>\n",
       "      <td>0.0</td>\n",
       "      <td>0.0</td>\n",
       "      <td>0.0</td>\n",
       "      <td>0.0</td>\n",
       "      <td>0.0</td>\n",
       "      <td>0.0</td>\n",
       "      <td>0.0</td>\n",
       "      <td>0.0</td>\n",
       "      <td>0.0</td>\n",
       "      <td>0.0</td>\n",
       "      <td>...</td>\n",
       "      <td>0.0</td>\n",
       "      <td>0.0</td>\n",
       "      <td>0.0</td>\n",
       "      <td>0.0</td>\n",
       "      <td>0.0</td>\n",
       "      <td>0.0</td>\n",
       "      <td>0.0</td>\n",
       "      <td>0.0</td>\n",
       "      <td>0.0</td>\n",
       "      <td>0.0</td>\n",
       "    </tr>\n",
       "    <tr>\n",
       "      <th>1</th>\n",
       "      <td>0.0</td>\n",
       "      <td>0.0</td>\n",
       "      <td>0.0</td>\n",
       "      <td>0.0</td>\n",
       "      <td>0.0</td>\n",
       "      <td>0.0</td>\n",
       "      <td>0.0</td>\n",
       "      <td>0.0</td>\n",
       "      <td>0.0</td>\n",
       "      <td>0.0</td>\n",
       "      <td>...</td>\n",
       "      <td>0.0</td>\n",
       "      <td>0.0</td>\n",
       "      <td>0.0</td>\n",
       "      <td>0.0</td>\n",
       "      <td>0.0</td>\n",
       "      <td>0.0</td>\n",
       "      <td>0.0</td>\n",
       "      <td>0.0</td>\n",
       "      <td>0.0</td>\n",
       "      <td>0.0</td>\n",
       "    </tr>\n",
       "    <tr>\n",
       "      <th>2</th>\n",
       "      <td>0.0</td>\n",
       "      <td>0.0</td>\n",
       "      <td>0.0</td>\n",
       "      <td>0.0</td>\n",
       "      <td>0.0</td>\n",
       "      <td>0.0</td>\n",
       "      <td>0.0</td>\n",
       "      <td>0.0</td>\n",
       "      <td>0.0</td>\n",
       "      <td>0.0</td>\n",
       "      <td>...</td>\n",
       "      <td>0.0</td>\n",
       "      <td>0.0</td>\n",
       "      <td>0.0</td>\n",
       "      <td>0.0</td>\n",
       "      <td>0.0</td>\n",
       "      <td>0.0</td>\n",
       "      <td>0.0</td>\n",
       "      <td>0.0</td>\n",
       "      <td>0.0</td>\n",
       "      <td>0.0</td>\n",
       "    </tr>\n",
       "    <tr>\n",
       "      <th>3</th>\n",
       "      <td>0.0</td>\n",
       "      <td>0.0</td>\n",
       "      <td>0.0</td>\n",
       "      <td>0.0</td>\n",
       "      <td>0.0</td>\n",
       "      <td>0.0</td>\n",
       "      <td>0.0</td>\n",
       "      <td>0.0</td>\n",
       "      <td>0.0</td>\n",
       "      <td>0.0</td>\n",
       "      <td>...</td>\n",
       "      <td>0.0</td>\n",
       "      <td>0.0</td>\n",
       "      <td>0.0</td>\n",
       "      <td>0.0</td>\n",
       "      <td>0.0</td>\n",
       "      <td>0.0</td>\n",
       "      <td>0.0</td>\n",
       "      <td>0.0</td>\n",
       "      <td>0.0</td>\n",
       "      <td>0.0</td>\n",
       "    </tr>\n",
       "    <tr>\n",
       "      <th>4</th>\n",
       "      <td>0.0</td>\n",
       "      <td>0.0</td>\n",
       "      <td>0.0</td>\n",
       "      <td>0.0</td>\n",
       "      <td>0.0</td>\n",
       "      <td>0.0</td>\n",
       "      <td>0.0</td>\n",
       "      <td>0.0</td>\n",
       "      <td>0.0</td>\n",
       "      <td>0.0</td>\n",
       "      <td>...</td>\n",
       "      <td>0.0</td>\n",
       "      <td>0.0</td>\n",
       "      <td>0.0</td>\n",
       "      <td>0.0</td>\n",
       "      <td>0.0</td>\n",
       "      <td>0.0</td>\n",
       "      <td>0.0</td>\n",
       "      <td>0.0</td>\n",
       "      <td>0.0</td>\n",
       "      <td>0.0</td>\n",
       "    </tr>\n",
       "    <tr>\n",
       "      <th>...</th>\n",
       "      <td>...</td>\n",
       "      <td>...</td>\n",
       "      <td>...</td>\n",
       "      <td>...</td>\n",
       "      <td>...</td>\n",
       "      <td>...</td>\n",
       "      <td>...</td>\n",
       "      <td>...</td>\n",
       "      <td>...</td>\n",
       "      <td>...</td>\n",
       "      <td>...</td>\n",
       "      <td>...</td>\n",
       "      <td>...</td>\n",
       "      <td>...</td>\n",
       "      <td>...</td>\n",
       "      <td>...</td>\n",
       "      <td>...</td>\n",
       "      <td>...</td>\n",
       "      <td>...</td>\n",
       "      <td>...</td>\n",
       "      <td>...</td>\n",
       "    </tr>\n",
       "    <tr>\n",
       "      <th>155461</th>\n",
       "      <td>0.0</td>\n",
       "      <td>0.0</td>\n",
       "      <td>0.0</td>\n",
       "      <td>0.0</td>\n",
       "      <td>0.0</td>\n",
       "      <td>0.0</td>\n",
       "      <td>0.0</td>\n",
       "      <td>0.0</td>\n",
       "      <td>0.0</td>\n",
       "      <td>0.0</td>\n",
       "      <td>...</td>\n",
       "      <td>0.0</td>\n",
       "      <td>0.0</td>\n",
       "      <td>0.0</td>\n",
       "      <td>0.0</td>\n",
       "      <td>0.0</td>\n",
       "      <td>0.0</td>\n",
       "      <td>0.0</td>\n",
       "      <td>0.0</td>\n",
       "      <td>0.0</td>\n",
       "      <td>0.0</td>\n",
       "    </tr>\n",
       "    <tr>\n",
       "      <th>155462</th>\n",
       "      <td>0.0</td>\n",
       "      <td>0.0</td>\n",
       "      <td>0.0</td>\n",
       "      <td>0.0</td>\n",
       "      <td>0.0</td>\n",
       "      <td>0.0</td>\n",
       "      <td>0.0</td>\n",
       "      <td>0.0</td>\n",
       "      <td>0.0</td>\n",
       "      <td>0.0</td>\n",
       "      <td>...</td>\n",
       "      <td>0.0</td>\n",
       "      <td>0.0</td>\n",
       "      <td>0.0</td>\n",
       "      <td>0.0</td>\n",
       "      <td>0.0</td>\n",
       "      <td>0.0</td>\n",
       "      <td>0.0</td>\n",
       "      <td>0.0</td>\n",
       "      <td>0.0</td>\n",
       "      <td>0.0</td>\n",
       "    </tr>\n",
       "    <tr>\n",
       "      <th>155463</th>\n",
       "      <td>0.0</td>\n",
       "      <td>0.0</td>\n",
       "      <td>0.0</td>\n",
       "      <td>0.0</td>\n",
       "      <td>0.0</td>\n",
       "      <td>0.0</td>\n",
       "      <td>0.0</td>\n",
       "      <td>0.0</td>\n",
       "      <td>0.0</td>\n",
       "      <td>0.0</td>\n",
       "      <td>...</td>\n",
       "      <td>0.0</td>\n",
       "      <td>0.0</td>\n",
       "      <td>0.0</td>\n",
       "      <td>0.0</td>\n",
       "      <td>0.0</td>\n",
       "      <td>0.0</td>\n",
       "      <td>0.0</td>\n",
       "      <td>0.0</td>\n",
       "      <td>0.0</td>\n",
       "      <td>0.0</td>\n",
       "    </tr>\n",
       "    <tr>\n",
       "      <th>155464</th>\n",
       "      <td>0.0</td>\n",
       "      <td>0.0</td>\n",
       "      <td>0.0</td>\n",
       "      <td>0.0</td>\n",
       "      <td>0.0</td>\n",
       "      <td>0.0</td>\n",
       "      <td>0.0</td>\n",
       "      <td>0.0</td>\n",
       "      <td>0.0</td>\n",
       "      <td>0.0</td>\n",
       "      <td>...</td>\n",
       "      <td>0.0</td>\n",
       "      <td>0.0</td>\n",
       "      <td>0.0</td>\n",
       "      <td>0.0</td>\n",
       "      <td>0.0</td>\n",
       "      <td>0.0</td>\n",
       "      <td>0.0</td>\n",
       "      <td>0.0</td>\n",
       "      <td>0.0</td>\n",
       "      <td>0.0</td>\n",
       "    </tr>\n",
       "    <tr>\n",
       "      <th>155465</th>\n",
       "      <td>0.0</td>\n",
       "      <td>0.0</td>\n",
       "      <td>0.0</td>\n",
       "      <td>0.0</td>\n",
       "      <td>0.0</td>\n",
       "      <td>0.0</td>\n",
       "      <td>0.0</td>\n",
       "      <td>0.0</td>\n",
       "      <td>0.0</td>\n",
       "      <td>0.0</td>\n",
       "      <td>...</td>\n",
       "      <td>0.0</td>\n",
       "      <td>0.0</td>\n",
       "      <td>0.0</td>\n",
       "      <td>0.0</td>\n",
       "      <td>0.0</td>\n",
       "      <td>0.0</td>\n",
       "      <td>0.0</td>\n",
       "      <td>0.0</td>\n",
       "      <td>0.0</td>\n",
       "      <td>0.0</td>\n",
       "    </tr>\n",
       "  </tbody>\n",
       "</table>\n",
       "<p>155466 rows × 50246 columns</p>\n",
       "</div>"
      ],
      "text/plain": [
       "         00  000  005  007   01   02   03  0338   04   05  ...  zulhaqim  \\\n",
       "0       0.0  0.0  0.0  0.0  0.0  0.0  0.0   0.0  0.0  0.0  ...       0.0   \n",
       "1       0.0  0.0  0.0  0.0  0.0  0.0  0.0   0.0  0.0  0.0  ...       0.0   \n",
       "2       0.0  0.0  0.0  0.0  0.0  0.0  0.0   0.0  0.0  0.0  ...       0.0   \n",
       "3       0.0  0.0  0.0  0.0  0.0  0.0  0.0   0.0  0.0  0.0  ...       0.0   \n",
       "4       0.0  0.0  0.0  0.0  0.0  0.0  0.0   0.0  0.0  0.0  ...       0.0   \n",
       "...     ...  ...  ...  ...  ...  ...  ...   ...  ...  ...  ...       ...   \n",
       "155461  0.0  0.0  0.0  0.0  0.0  0.0  0.0   0.0  0.0  0.0  ...       0.0   \n",
       "155462  0.0  0.0  0.0  0.0  0.0  0.0  0.0   0.0  0.0  0.0  ...       0.0   \n",
       "155463  0.0  0.0  0.0  0.0  0.0  0.0  0.0   0.0  0.0  0.0  ...       0.0   \n",
       "155464  0.0  0.0  0.0  0.0  0.0  0.0  0.0   0.0  0.0  0.0  ...       0.0   \n",
       "155465  0.0  0.0  0.0  0.0  0.0  0.0  0.0   0.0  0.0  0.0  ...       0.0   \n",
       "\n",
       "        zulu  zur  zuse  zyada   zz  zzblpoyynr  zzz  zzzz  zzzzz  \n",
       "0        0.0  0.0   0.0    0.0  0.0         0.0  0.0   0.0    0.0  \n",
       "1        0.0  0.0   0.0    0.0  0.0         0.0  0.0   0.0    0.0  \n",
       "2        0.0  0.0   0.0    0.0  0.0         0.0  0.0   0.0    0.0  \n",
       "3        0.0  0.0   0.0    0.0  0.0         0.0  0.0   0.0    0.0  \n",
       "4        0.0  0.0   0.0    0.0  0.0         0.0  0.0   0.0    0.0  \n",
       "...      ...  ...   ...    ...  ...         ...  ...   ...    ...  \n",
       "155461   0.0  0.0   0.0    0.0  0.0         0.0  0.0   0.0    0.0  \n",
       "155462   0.0  0.0   0.0    0.0  0.0         0.0  0.0   0.0    0.0  \n",
       "155463   0.0  0.0   0.0    0.0  0.0         0.0  0.0   0.0    0.0  \n",
       "155464   0.0  0.0   0.0    0.0  0.0         0.0  0.0   0.0    0.0  \n",
       "155465   0.0  0.0   0.0    0.0  0.0         0.0  0.0   0.0    0.0  \n",
       "\n",
       "[155466 rows x 50246 columns]"
      ]
     },
     "execution_count": 37,
     "metadata": {},
     "output_type": "execute_result"
    }
   ],
   "source": [
    "df_comments_vec_comments"
   ]
  },
  {
   "cell_type": "markdown",
   "id": "93a0b0b9-9ee9-414b-85bc-da642e3d2164",
   "metadata": {},
   "source": [
    "## TEXT DATA PROCESSING (TITLE COLUMN)"
   ]
  },
  {
   "cell_type": "markdown",
   "id": "138119a6-c0db-4ce2-8d22-de81db918a64",
   "metadata": {},
   "source": [
    "The TF-IDF (Term Frequency-Inverse Document Frequency) vectorization technique was applied to the title column. This transformation converts the raw text into numerical features, considering the importance of each term in the context of the entire dataset. It is a critical step for preparing the text data for machine learning models."
   ]
  },
  {
   "cell_type": "code",
   "execution_count": 38,
   "id": "2b564544-cb92-4073-93f0-a6297e49978f",
   "metadata": {},
   "outputs": [],
   "source": [
    "tfidf_vectorizer_title = TfidfVectorizer()"
   ]
  },
  {
   "cell_type": "code",
   "execution_count": 39,
   "id": "8f55da9c-a13f-4079-a76a-b8a59314a999",
   "metadata": {},
   "outputs": [],
   "source": [
    "Title = df_poem['title']"
   ]
  },
  {
   "cell_type": "code",
   "execution_count": 40,
   "id": "e4eb75e8-a53f-4d22-85cc-87f3322b5d21",
   "metadata": {},
   "outputs": [],
   "source": [
    "X2 = tfidf_vectorizer_title.fit_transform(Title)"
   ]
  },
  {
   "cell_type": "code",
   "execution_count": 41,
   "id": "ae68513e-66c2-4f0d-9bff-14b4d86dc037",
   "metadata": {},
   "outputs": [],
   "source": [
    "feature_names2 = tfidf_vectorizer_title.get_feature_names_out()"
   ]
  },
  {
   "cell_type": "code",
   "execution_count": 42,
   "id": "e623f684-4568-439a-a3ea-9c9bc3a308af",
   "metadata": {},
   "outputs": [
    {
     "data": {
      "text/plain": [
       "(11985,)"
      ]
     },
     "execution_count": 42,
     "metadata": {},
     "output_type": "execute_result"
    }
   ],
   "source": [
    "feature_names2.shape"
   ]
  },
  {
   "cell_type": "code",
   "execution_count": 43,
   "id": "5a24f42e-e3de-4b47-90c8-c670cbc04c2a",
   "metadata": {},
   "outputs": [],
   "source": [
    "\n",
    "df_poem_vec_title = pd.DataFrame.sparse.from_spmatrix(X2, columns=feature_names2)"
   ]
  },
  {
   "cell_type": "code",
   "execution_count": 44,
   "id": "8097fe22-14bb-47b8-b942-a7a8ad48877a",
   "metadata": {},
   "outputs": [
    {
     "data": {
      "text/html": [
       "<div>\n",
       "<style scoped>\n",
       "    .dataframe tbody tr th:only-of-type {\n",
       "        vertical-align: middle;\n",
       "    }\n",
       "\n",
       "    .dataframe tbody tr th {\n",
       "        vertical-align: top;\n",
       "    }\n",
       "\n",
       "    .dataframe thead th {\n",
       "        text-align: right;\n",
       "    }\n",
       "</style>\n",
       "<table border=\"1\" class=\"dataframe\">\n",
       "  <thead>\n",
       "    <tr style=\"text-align: right;\">\n",
       "      <th></th>\n",
       "      <th>00</th>\n",
       "      <th>000</th>\n",
       "      <th>006</th>\n",
       "      <th>0076</th>\n",
       "      <th>01</th>\n",
       "      <th>0101720242</th>\n",
       "      <th>01132242</th>\n",
       "      <th>011420231</th>\n",
       "      <th>011520243</th>\n",
       "      <th>011520247</th>\n",
       "      <th>...</th>\n",
       "      <th>ztill</th>\n",
       "      <th>zucchini</th>\n",
       "      <th>zuegma</th>\n",
       "      <th>zulmut</th>\n",
       "      <th>zur</th>\n",
       "      <th>zuu</th>\n",
       "      <th>zuzu</th>\n",
       "      <th>zweet</th>\n",
       "      <th>zylent</th>\n",
       "      <th>zzzz</th>\n",
       "    </tr>\n",
       "  </thead>\n",
       "  <tbody>\n",
       "    <tr>\n",
       "      <th>0</th>\n",
       "      <td>0.0</td>\n",
       "      <td>0.0</td>\n",
       "      <td>0.0</td>\n",
       "      <td>0.0</td>\n",
       "      <td>0.0</td>\n",
       "      <td>0.0</td>\n",
       "      <td>0.0</td>\n",
       "      <td>0.0</td>\n",
       "      <td>0.0</td>\n",
       "      <td>0.0</td>\n",
       "      <td>...</td>\n",
       "      <td>0.0</td>\n",
       "      <td>0.0</td>\n",
       "      <td>0.0</td>\n",
       "      <td>0.0</td>\n",
       "      <td>0.0</td>\n",
       "      <td>0.0</td>\n",
       "      <td>0.0</td>\n",
       "      <td>0.0</td>\n",
       "      <td>0.0</td>\n",
       "      <td>0.0</td>\n",
       "    </tr>\n",
       "    <tr>\n",
       "      <th>1</th>\n",
       "      <td>0.0</td>\n",
       "      <td>0.0</td>\n",
       "      <td>0.0</td>\n",
       "      <td>0.0</td>\n",
       "      <td>0.0</td>\n",
       "      <td>0.0</td>\n",
       "      <td>0.0</td>\n",
       "      <td>0.0</td>\n",
       "      <td>0.0</td>\n",
       "      <td>0.0</td>\n",
       "      <td>...</td>\n",
       "      <td>0.0</td>\n",
       "      <td>0.0</td>\n",
       "      <td>0.0</td>\n",
       "      <td>0.0</td>\n",
       "      <td>0.0</td>\n",
       "      <td>0.0</td>\n",
       "      <td>0.0</td>\n",
       "      <td>0.0</td>\n",
       "      <td>0.0</td>\n",
       "      <td>0.0</td>\n",
       "    </tr>\n",
       "    <tr>\n",
       "      <th>2</th>\n",
       "      <td>0.0</td>\n",
       "      <td>0.0</td>\n",
       "      <td>0.0</td>\n",
       "      <td>0.0</td>\n",
       "      <td>0.0</td>\n",
       "      <td>0.0</td>\n",
       "      <td>0.0</td>\n",
       "      <td>0.0</td>\n",
       "      <td>0.0</td>\n",
       "      <td>0.0</td>\n",
       "      <td>...</td>\n",
       "      <td>0.0</td>\n",
       "      <td>0.0</td>\n",
       "      <td>0.0</td>\n",
       "      <td>0.0</td>\n",
       "      <td>0.0</td>\n",
       "      <td>0.0</td>\n",
       "      <td>0.0</td>\n",
       "      <td>0.0</td>\n",
       "      <td>0.0</td>\n",
       "      <td>0.0</td>\n",
       "    </tr>\n",
       "    <tr>\n",
       "      <th>3</th>\n",
       "      <td>0.0</td>\n",
       "      <td>0.0</td>\n",
       "      <td>0.0</td>\n",
       "      <td>0.0</td>\n",
       "      <td>0.0</td>\n",
       "      <td>0.0</td>\n",
       "      <td>0.0</td>\n",
       "      <td>0.0</td>\n",
       "      <td>0.0</td>\n",
       "      <td>0.0</td>\n",
       "      <td>...</td>\n",
       "      <td>0.0</td>\n",
       "      <td>0.0</td>\n",
       "      <td>0.0</td>\n",
       "      <td>0.0</td>\n",
       "      <td>0.0</td>\n",
       "      <td>0.0</td>\n",
       "      <td>0.0</td>\n",
       "      <td>0.0</td>\n",
       "      <td>0.0</td>\n",
       "      <td>0.0</td>\n",
       "    </tr>\n",
       "    <tr>\n",
       "      <th>4</th>\n",
       "      <td>0.0</td>\n",
       "      <td>0.0</td>\n",
       "      <td>0.0</td>\n",
       "      <td>0.0</td>\n",
       "      <td>0.0</td>\n",
       "      <td>0.0</td>\n",
       "      <td>0.0</td>\n",
       "      <td>0.0</td>\n",
       "      <td>0.0</td>\n",
       "      <td>0.0</td>\n",
       "      <td>...</td>\n",
       "      <td>0.0</td>\n",
       "      <td>0.0</td>\n",
       "      <td>0.0</td>\n",
       "      <td>0.0</td>\n",
       "      <td>0.0</td>\n",
       "      <td>0.0</td>\n",
       "      <td>0.0</td>\n",
       "      <td>0.0</td>\n",
       "      <td>0.0</td>\n",
       "      <td>0.0</td>\n",
       "    </tr>\n",
       "    <tr>\n",
       "      <th>...</th>\n",
       "      <td>...</td>\n",
       "      <td>...</td>\n",
       "      <td>...</td>\n",
       "      <td>...</td>\n",
       "      <td>...</td>\n",
       "      <td>...</td>\n",
       "      <td>...</td>\n",
       "      <td>...</td>\n",
       "      <td>...</td>\n",
       "      <td>...</td>\n",
       "      <td>...</td>\n",
       "      <td>...</td>\n",
       "      <td>...</td>\n",
       "      <td>...</td>\n",
       "      <td>...</td>\n",
       "      <td>...</td>\n",
       "      <td>...</td>\n",
       "      <td>...</td>\n",
       "      <td>...</td>\n",
       "      <td>...</td>\n",
       "      <td>...</td>\n",
       "    </tr>\n",
       "    <tr>\n",
       "      <th>19659</th>\n",
       "      <td>0.0</td>\n",
       "      <td>0.0</td>\n",
       "      <td>0.0</td>\n",
       "      <td>0.0</td>\n",
       "      <td>0.0</td>\n",
       "      <td>0.0</td>\n",
       "      <td>0.0</td>\n",
       "      <td>0.0</td>\n",
       "      <td>0.0</td>\n",
       "      <td>0.0</td>\n",
       "      <td>...</td>\n",
       "      <td>0.0</td>\n",
       "      <td>0.0</td>\n",
       "      <td>0.0</td>\n",
       "      <td>0.0</td>\n",
       "      <td>0.0</td>\n",
       "      <td>0.0</td>\n",
       "      <td>0.0</td>\n",
       "      <td>0.0</td>\n",
       "      <td>0.0</td>\n",
       "      <td>0.0</td>\n",
       "    </tr>\n",
       "    <tr>\n",
       "      <th>19660</th>\n",
       "      <td>0.0</td>\n",
       "      <td>0.0</td>\n",
       "      <td>0.0</td>\n",
       "      <td>0.0</td>\n",
       "      <td>0.0</td>\n",
       "      <td>0.0</td>\n",
       "      <td>0.0</td>\n",
       "      <td>0.0</td>\n",
       "      <td>0.0</td>\n",
       "      <td>0.0</td>\n",
       "      <td>...</td>\n",
       "      <td>0.0</td>\n",
       "      <td>0.0</td>\n",
       "      <td>0.0</td>\n",
       "      <td>0.0</td>\n",
       "      <td>0.0</td>\n",
       "      <td>0.0</td>\n",
       "      <td>0.0</td>\n",
       "      <td>0.0</td>\n",
       "      <td>0.0</td>\n",
       "      <td>0.0</td>\n",
       "    </tr>\n",
       "    <tr>\n",
       "      <th>19661</th>\n",
       "      <td>0.0</td>\n",
       "      <td>0.0</td>\n",
       "      <td>0.0</td>\n",
       "      <td>0.0</td>\n",
       "      <td>0.0</td>\n",
       "      <td>0.0</td>\n",
       "      <td>0.0</td>\n",
       "      <td>0.0</td>\n",
       "      <td>0.0</td>\n",
       "      <td>0.0</td>\n",
       "      <td>...</td>\n",
       "      <td>0.0</td>\n",
       "      <td>0.0</td>\n",
       "      <td>0.0</td>\n",
       "      <td>0.0</td>\n",
       "      <td>0.0</td>\n",
       "      <td>0.0</td>\n",
       "      <td>0.0</td>\n",
       "      <td>0.0</td>\n",
       "      <td>0.0</td>\n",
       "      <td>0.0</td>\n",
       "    </tr>\n",
       "    <tr>\n",
       "      <th>19662</th>\n",
       "      <td>0.0</td>\n",
       "      <td>0.0</td>\n",
       "      <td>0.0</td>\n",
       "      <td>0.0</td>\n",
       "      <td>0.0</td>\n",
       "      <td>0.0</td>\n",
       "      <td>0.0</td>\n",
       "      <td>0.0</td>\n",
       "      <td>0.0</td>\n",
       "      <td>0.0</td>\n",
       "      <td>...</td>\n",
       "      <td>0.0</td>\n",
       "      <td>0.0</td>\n",
       "      <td>0.0</td>\n",
       "      <td>0.0</td>\n",
       "      <td>0.0</td>\n",
       "      <td>0.0</td>\n",
       "      <td>0.0</td>\n",
       "      <td>0.0</td>\n",
       "      <td>0.0</td>\n",
       "      <td>0.0</td>\n",
       "    </tr>\n",
       "    <tr>\n",
       "      <th>19663</th>\n",
       "      <td>0.0</td>\n",
       "      <td>0.0</td>\n",
       "      <td>0.0</td>\n",
       "      <td>0.0</td>\n",
       "      <td>0.0</td>\n",
       "      <td>0.0</td>\n",
       "      <td>0.0</td>\n",
       "      <td>0.0</td>\n",
       "      <td>0.0</td>\n",
       "      <td>0.0</td>\n",
       "      <td>...</td>\n",
       "      <td>0.0</td>\n",
       "      <td>0.0</td>\n",
       "      <td>0.0</td>\n",
       "      <td>0.0</td>\n",
       "      <td>0.0</td>\n",
       "      <td>0.0</td>\n",
       "      <td>0.0</td>\n",
       "      <td>0.0</td>\n",
       "      <td>0.0</td>\n",
       "      <td>0.0</td>\n",
       "    </tr>\n",
       "  </tbody>\n",
       "</table>\n",
       "<p>19664 rows × 11985 columns</p>\n",
       "</div>"
      ],
      "text/plain": [
       "        00  000  006  0076   01  0101720242  01132242  011420231  011520243  \\\n",
       "0      0.0  0.0  0.0   0.0  0.0         0.0       0.0        0.0        0.0   \n",
       "1      0.0  0.0  0.0   0.0  0.0         0.0       0.0        0.0        0.0   \n",
       "2      0.0  0.0  0.0   0.0  0.0         0.0       0.0        0.0        0.0   \n",
       "3      0.0  0.0  0.0   0.0  0.0         0.0       0.0        0.0        0.0   \n",
       "4      0.0  0.0  0.0   0.0  0.0         0.0       0.0        0.0        0.0   \n",
       "...    ...  ...  ...   ...  ...         ...       ...        ...        ...   \n",
       "19659  0.0  0.0  0.0   0.0  0.0         0.0       0.0        0.0        0.0   \n",
       "19660  0.0  0.0  0.0   0.0  0.0         0.0       0.0        0.0        0.0   \n",
       "19661  0.0  0.0  0.0   0.0  0.0         0.0       0.0        0.0        0.0   \n",
       "19662  0.0  0.0  0.0   0.0  0.0         0.0       0.0        0.0        0.0   \n",
       "19663  0.0  0.0  0.0   0.0  0.0         0.0       0.0        0.0        0.0   \n",
       "\n",
       "       011520247  ...  ztill  zucchini  zuegma  zulmut  zur  zuu  zuzu  zweet  \\\n",
       "0            0.0  ...    0.0       0.0     0.0     0.0  0.0  0.0   0.0    0.0   \n",
       "1            0.0  ...    0.0       0.0     0.0     0.0  0.0  0.0   0.0    0.0   \n",
       "2            0.0  ...    0.0       0.0     0.0     0.0  0.0  0.0   0.0    0.0   \n",
       "3            0.0  ...    0.0       0.0     0.0     0.0  0.0  0.0   0.0    0.0   \n",
       "4            0.0  ...    0.0       0.0     0.0     0.0  0.0  0.0   0.0    0.0   \n",
       "...          ...  ...    ...       ...     ...     ...  ...  ...   ...    ...   \n",
       "19659        0.0  ...    0.0       0.0     0.0     0.0  0.0  0.0   0.0    0.0   \n",
       "19660        0.0  ...    0.0       0.0     0.0     0.0  0.0  0.0   0.0    0.0   \n",
       "19661        0.0  ...    0.0       0.0     0.0     0.0  0.0  0.0   0.0    0.0   \n",
       "19662        0.0  ...    0.0       0.0     0.0     0.0  0.0  0.0   0.0    0.0   \n",
       "19663        0.0  ...    0.0       0.0     0.0     0.0  0.0  0.0   0.0    0.0   \n",
       "\n",
       "       zylent  zzzz  \n",
       "0         0.0   0.0  \n",
       "1         0.0   0.0  \n",
       "2         0.0   0.0  \n",
       "3         0.0   0.0  \n",
       "4         0.0   0.0  \n",
       "...       ...   ...  \n",
       "19659     0.0   0.0  \n",
       "19660     0.0   0.0  \n",
       "19661     0.0   0.0  \n",
       "19662     0.0   0.0  \n",
       "19663     0.0   0.0  \n",
       "\n",
       "[19664 rows x 11985 columns]"
      ]
     },
     "execution_count": 44,
     "metadata": {},
     "output_type": "execute_result"
    }
   ],
   "source": [
    "df_poem_vec_title"
   ]
  },
  {
   "cell_type": "markdown",
   "id": "4f0c0995-55b9-4e0a-ba34-e671d1bf84e6",
   "metadata": {},
   "source": [
    "## TEXT DATA PROCESSING (POEM COLUMN)"
   ]
  },
  {
   "cell_type": "markdown",
   "id": "ed31ebc9-b34f-4df0-91b9-ba361eeb8da0",
   "metadata": {},
   "source": [
    "The TF-IDF (Term Frequency-Inverse Document Frequency) vectorization technique was applied to the poem column. This transformation converts the raw text into numerical features, considering the importance of each term in the context of the entire dataset. It is a critical step for preparing the text data for machine learning models."
   ]
  },
  {
   "cell_type": "code",
   "execution_count": 45,
   "id": "2f20b90a-7852-4ef8-ae36-77429e15b9a6",
   "metadata": {},
   "outputs": [],
   "source": [
    "tfidf_vectorizer_poem = TfidfVectorizer()"
   ]
  },
  {
   "cell_type": "code",
   "execution_count": 46,
   "id": "7b5838b0-0cfd-493d-806e-d7fbd9cfe937",
   "metadata": {},
   "outputs": [],
   "source": [
    "Poem = df_poem['poem']"
   ]
  },
  {
   "cell_type": "code",
   "execution_count": 47,
   "id": "6d564530-6f5e-49aa-8099-fa2b2d47ceb5",
   "metadata": {},
   "outputs": [],
   "source": [
    "\n",
    "\n",
    "X3 = tfidf_vectorizer_poem.fit_transform(Poem)"
   ]
  },
  {
   "cell_type": "code",
   "execution_count": 48,
   "id": "96ddde68-35f9-4200-bf79-b63314b9aaa6",
   "metadata": {},
   "outputs": [],
   "source": [
    "feature_names3 = tfidf_vectorizer_poem.get_feature_names_out()"
   ]
  },
  {
   "cell_type": "code",
   "execution_count": 49,
   "id": "ebf3c671-520f-46ac-a862-131512741985",
   "metadata": {},
   "outputs": [
    {
     "data": {
      "text/plain": [
       "array(['00', '000', '0000', ..., 'zzz', 'zzzar', 'zzzz'], dtype=object)"
      ]
     },
     "execution_count": 49,
     "metadata": {},
     "output_type": "execute_result"
    }
   ],
   "source": [
    "feature_names3"
   ]
  },
  {
   "cell_type": "code",
   "execution_count": 50,
   "id": "d21cc566-fabf-4b56-8936-bd6ebb9e0e01",
   "metadata": {},
   "outputs": [],
   "source": [
    "df_vec_poems = pd.DataFrame.sparse.from_spmatrix(X3, columns=feature_names3)"
   ]
  },
  {
   "cell_type": "code",
   "execution_count": 51,
   "id": "52b5f1c0-2bab-4b1f-a28b-d78ffe437589",
   "metadata": {},
   "outputs": [
    {
     "data": {
      "text/html": [
       "<div>\n",
       "<style scoped>\n",
       "    .dataframe tbody tr th:only-of-type {\n",
       "        vertical-align: middle;\n",
       "    }\n",
       "\n",
       "    .dataframe tbody tr th {\n",
       "        vertical-align: top;\n",
       "    }\n",
       "\n",
       "    .dataframe thead th {\n",
       "        text-align: right;\n",
       "    }\n",
       "</style>\n",
       "<table border=\"1\" class=\"dataframe\">\n",
       "  <thead>\n",
       "    <tr style=\"text-align: right;\">\n",
       "      <th></th>\n",
       "      <th>00</th>\n",
       "      <th>000</th>\n",
       "      <th>0000</th>\n",
       "      <th>0001</th>\n",
       "      <th>0002</th>\n",
       "      <th>001</th>\n",
       "      <th>0024</th>\n",
       "      <th>003</th>\n",
       "      <th>004</th>\n",
       "      <th>006</th>\n",
       "      <th>...</th>\n",
       "      <th>zurra</th>\n",
       "      <th>zuzu</th>\n",
       "      <th>zwetsloot</th>\n",
       "      <th>zygote</th>\n",
       "      <th>zyndagi</th>\n",
       "      <th>zyw</th>\n",
       "      <th>zywa</th>\n",
       "      <th>zzz</th>\n",
       "      <th>zzzar</th>\n",
       "      <th>zzzz</th>\n",
       "    </tr>\n",
       "  </thead>\n",
       "  <tbody>\n",
       "    <tr>\n",
       "      <th>0</th>\n",
       "      <td>0.0</td>\n",
       "      <td>0.0</td>\n",
       "      <td>0.0</td>\n",
       "      <td>0.0</td>\n",
       "      <td>0.0</td>\n",
       "      <td>0.0</td>\n",
       "      <td>0.0</td>\n",
       "      <td>0.0</td>\n",
       "      <td>0.0</td>\n",
       "      <td>0.0</td>\n",
       "      <td>...</td>\n",
       "      <td>0.0</td>\n",
       "      <td>0.0</td>\n",
       "      <td>0.0</td>\n",
       "      <td>0.0</td>\n",
       "      <td>0.0</td>\n",
       "      <td>0.0</td>\n",
       "      <td>0.0</td>\n",
       "      <td>0.0</td>\n",
       "      <td>0.0</td>\n",
       "      <td>0.0</td>\n",
       "    </tr>\n",
       "    <tr>\n",
       "      <th>1</th>\n",
       "      <td>0.0</td>\n",
       "      <td>0.0</td>\n",
       "      <td>0.0</td>\n",
       "      <td>0.0</td>\n",
       "      <td>0.0</td>\n",
       "      <td>0.0</td>\n",
       "      <td>0.0</td>\n",
       "      <td>0.0</td>\n",
       "      <td>0.0</td>\n",
       "      <td>0.0</td>\n",
       "      <td>...</td>\n",
       "      <td>0.0</td>\n",
       "      <td>0.0</td>\n",
       "      <td>0.0</td>\n",
       "      <td>0.0</td>\n",
       "      <td>0.0</td>\n",
       "      <td>0.0</td>\n",
       "      <td>0.0</td>\n",
       "      <td>0.0</td>\n",
       "      <td>0.0</td>\n",
       "      <td>0.0</td>\n",
       "    </tr>\n",
       "    <tr>\n",
       "      <th>2</th>\n",
       "      <td>0.0</td>\n",
       "      <td>0.0</td>\n",
       "      <td>0.0</td>\n",
       "      <td>0.0</td>\n",
       "      <td>0.0</td>\n",
       "      <td>0.0</td>\n",
       "      <td>0.0</td>\n",
       "      <td>0.0</td>\n",
       "      <td>0.0</td>\n",
       "      <td>0.0</td>\n",
       "      <td>...</td>\n",
       "      <td>0.0</td>\n",
       "      <td>0.0</td>\n",
       "      <td>0.0</td>\n",
       "      <td>0.0</td>\n",
       "      <td>0.0</td>\n",
       "      <td>0.0</td>\n",
       "      <td>0.0</td>\n",
       "      <td>0.0</td>\n",
       "      <td>0.0</td>\n",
       "      <td>0.0</td>\n",
       "    </tr>\n",
       "    <tr>\n",
       "      <th>3</th>\n",
       "      <td>0.0</td>\n",
       "      <td>0.0</td>\n",
       "      <td>0.0</td>\n",
       "      <td>0.0</td>\n",
       "      <td>0.0</td>\n",
       "      <td>0.0</td>\n",
       "      <td>0.0</td>\n",
       "      <td>0.0</td>\n",
       "      <td>0.0</td>\n",
       "      <td>0.0</td>\n",
       "      <td>...</td>\n",
       "      <td>0.0</td>\n",
       "      <td>0.0</td>\n",
       "      <td>0.0</td>\n",
       "      <td>0.0</td>\n",
       "      <td>0.0</td>\n",
       "      <td>0.0</td>\n",
       "      <td>0.0</td>\n",
       "      <td>0.0</td>\n",
       "      <td>0.0</td>\n",
       "      <td>0.0</td>\n",
       "    </tr>\n",
       "    <tr>\n",
       "      <th>4</th>\n",
       "      <td>0.0</td>\n",
       "      <td>0.0</td>\n",
       "      <td>0.0</td>\n",
       "      <td>0.0</td>\n",
       "      <td>0.0</td>\n",
       "      <td>0.0</td>\n",
       "      <td>0.0</td>\n",
       "      <td>0.0</td>\n",
       "      <td>0.0</td>\n",
       "      <td>0.0</td>\n",
       "      <td>...</td>\n",
       "      <td>0.0</td>\n",
       "      <td>0.0</td>\n",
       "      <td>0.0</td>\n",
       "      <td>0.0</td>\n",
       "      <td>0.0</td>\n",
       "      <td>0.0</td>\n",
       "      <td>0.0</td>\n",
       "      <td>0.0</td>\n",
       "      <td>0.0</td>\n",
       "      <td>0.0</td>\n",
       "    </tr>\n",
       "    <tr>\n",
       "      <th>...</th>\n",
       "      <td>...</td>\n",
       "      <td>...</td>\n",
       "      <td>...</td>\n",
       "      <td>...</td>\n",
       "      <td>...</td>\n",
       "      <td>...</td>\n",
       "      <td>...</td>\n",
       "      <td>...</td>\n",
       "      <td>...</td>\n",
       "      <td>...</td>\n",
       "      <td>...</td>\n",
       "      <td>...</td>\n",
       "      <td>...</td>\n",
       "      <td>...</td>\n",
       "      <td>...</td>\n",
       "      <td>...</td>\n",
       "      <td>...</td>\n",
       "      <td>...</td>\n",
       "      <td>...</td>\n",
       "      <td>...</td>\n",
       "      <td>...</td>\n",
       "    </tr>\n",
       "    <tr>\n",
       "      <th>19659</th>\n",
       "      <td>0.0</td>\n",
       "      <td>0.0</td>\n",
       "      <td>0.0</td>\n",
       "      <td>0.0</td>\n",
       "      <td>0.0</td>\n",
       "      <td>0.0</td>\n",
       "      <td>0.0</td>\n",
       "      <td>0.0</td>\n",
       "      <td>0.0</td>\n",
       "      <td>0.0</td>\n",
       "      <td>...</td>\n",
       "      <td>0.0</td>\n",
       "      <td>0.0</td>\n",
       "      <td>0.0</td>\n",
       "      <td>0.0</td>\n",
       "      <td>0.0</td>\n",
       "      <td>0.0</td>\n",
       "      <td>0.0</td>\n",
       "      <td>0.0</td>\n",
       "      <td>0.0</td>\n",
       "      <td>0.0</td>\n",
       "    </tr>\n",
       "    <tr>\n",
       "      <th>19660</th>\n",
       "      <td>0.0</td>\n",
       "      <td>0.0</td>\n",
       "      <td>0.0</td>\n",
       "      <td>0.0</td>\n",
       "      <td>0.0</td>\n",
       "      <td>0.0</td>\n",
       "      <td>0.0</td>\n",
       "      <td>0.0</td>\n",
       "      <td>0.0</td>\n",
       "      <td>0.0</td>\n",
       "      <td>...</td>\n",
       "      <td>0.0</td>\n",
       "      <td>0.0</td>\n",
       "      <td>0.0</td>\n",
       "      <td>0.0</td>\n",
       "      <td>0.0</td>\n",
       "      <td>0.0</td>\n",
       "      <td>0.0</td>\n",
       "      <td>0.0</td>\n",
       "      <td>0.0</td>\n",
       "      <td>0.0</td>\n",
       "    </tr>\n",
       "    <tr>\n",
       "      <th>19661</th>\n",
       "      <td>0.0</td>\n",
       "      <td>0.0</td>\n",
       "      <td>0.0</td>\n",
       "      <td>0.0</td>\n",
       "      <td>0.0</td>\n",
       "      <td>0.0</td>\n",
       "      <td>0.0</td>\n",
       "      <td>0.0</td>\n",
       "      <td>0.0</td>\n",
       "      <td>0.0</td>\n",
       "      <td>...</td>\n",
       "      <td>0.0</td>\n",
       "      <td>0.0</td>\n",
       "      <td>0.0</td>\n",
       "      <td>0.0</td>\n",
       "      <td>0.0</td>\n",
       "      <td>0.0</td>\n",
       "      <td>0.0</td>\n",
       "      <td>0.0</td>\n",
       "      <td>0.0</td>\n",
       "      <td>0.0</td>\n",
       "    </tr>\n",
       "    <tr>\n",
       "      <th>19662</th>\n",
       "      <td>0.0</td>\n",
       "      <td>0.0</td>\n",
       "      <td>0.0</td>\n",
       "      <td>0.0</td>\n",
       "      <td>0.0</td>\n",
       "      <td>0.0</td>\n",
       "      <td>0.0</td>\n",
       "      <td>0.0</td>\n",
       "      <td>0.0</td>\n",
       "      <td>0.0</td>\n",
       "      <td>...</td>\n",
       "      <td>0.0</td>\n",
       "      <td>0.0</td>\n",
       "      <td>0.0</td>\n",
       "      <td>0.0</td>\n",
       "      <td>0.0</td>\n",
       "      <td>0.0</td>\n",
       "      <td>0.0</td>\n",
       "      <td>0.0</td>\n",
       "      <td>0.0</td>\n",
       "      <td>0.0</td>\n",
       "    </tr>\n",
       "    <tr>\n",
       "      <th>19663</th>\n",
       "      <td>0.0</td>\n",
       "      <td>0.0</td>\n",
       "      <td>0.0</td>\n",
       "      <td>0.0</td>\n",
       "      <td>0.0</td>\n",
       "      <td>0.0</td>\n",
       "      <td>0.0</td>\n",
       "      <td>0.0</td>\n",
       "      <td>0.0</td>\n",
       "      <td>0.0</td>\n",
       "      <td>...</td>\n",
       "      <td>0.0</td>\n",
       "      <td>0.0</td>\n",
       "      <td>0.0</td>\n",
       "      <td>0.0</td>\n",
       "      <td>0.0</td>\n",
       "      <td>0.0</td>\n",
       "      <td>0.0</td>\n",
       "      <td>0.0</td>\n",
       "      <td>0.0</td>\n",
       "      <td>0.0</td>\n",
       "    </tr>\n",
       "  </tbody>\n",
       "</table>\n",
       "<p>19664 rows × 60392 columns</p>\n",
       "</div>"
      ],
      "text/plain": [
       "        00  000  0000  0001  0002  001  0024  003  004  006  ...  zurra  zuzu  \\\n",
       "0      0.0  0.0   0.0   0.0   0.0  0.0   0.0  0.0  0.0  0.0  ...    0.0   0.0   \n",
       "1      0.0  0.0   0.0   0.0   0.0  0.0   0.0  0.0  0.0  0.0  ...    0.0   0.0   \n",
       "2      0.0  0.0   0.0   0.0   0.0  0.0   0.0  0.0  0.0  0.0  ...    0.0   0.0   \n",
       "3      0.0  0.0   0.0   0.0   0.0  0.0   0.0  0.0  0.0  0.0  ...    0.0   0.0   \n",
       "4      0.0  0.0   0.0   0.0   0.0  0.0   0.0  0.0  0.0  0.0  ...    0.0   0.0   \n",
       "...    ...  ...   ...   ...   ...  ...   ...  ...  ...  ...  ...    ...   ...   \n",
       "19659  0.0  0.0   0.0   0.0   0.0  0.0   0.0  0.0  0.0  0.0  ...    0.0   0.0   \n",
       "19660  0.0  0.0   0.0   0.0   0.0  0.0   0.0  0.0  0.0  0.0  ...    0.0   0.0   \n",
       "19661  0.0  0.0   0.0   0.0   0.0  0.0   0.0  0.0  0.0  0.0  ...    0.0   0.0   \n",
       "19662  0.0  0.0   0.0   0.0   0.0  0.0   0.0  0.0  0.0  0.0  ...    0.0   0.0   \n",
       "19663  0.0  0.0   0.0   0.0   0.0  0.0   0.0  0.0  0.0  0.0  ...    0.0   0.0   \n",
       "\n",
       "       zwetsloot  zygote  zyndagi  zyw  zywa  zzz  zzzar  zzzz  \n",
       "0            0.0     0.0      0.0  0.0   0.0  0.0    0.0   0.0  \n",
       "1            0.0     0.0      0.0  0.0   0.0  0.0    0.0   0.0  \n",
       "2            0.0     0.0      0.0  0.0   0.0  0.0    0.0   0.0  \n",
       "3            0.0     0.0      0.0  0.0   0.0  0.0    0.0   0.0  \n",
       "4            0.0     0.0      0.0  0.0   0.0  0.0    0.0   0.0  \n",
       "...          ...     ...      ...  ...   ...  ...    ...   ...  \n",
       "19659        0.0     0.0      0.0  0.0   0.0  0.0    0.0   0.0  \n",
       "19660        0.0     0.0      0.0  0.0   0.0  0.0    0.0   0.0  \n",
       "19661        0.0     0.0      0.0  0.0   0.0  0.0    0.0   0.0  \n",
       "19662        0.0     0.0      0.0  0.0   0.0  0.0    0.0   0.0  \n",
       "19663        0.0     0.0      0.0  0.0   0.0  0.0    0.0   0.0  \n",
       "\n",
       "[19664 rows x 60392 columns]"
      ]
     },
     "execution_count": 51,
     "metadata": {},
     "output_type": "execute_result"
    }
   ],
   "source": [
    "df_vec_poems"
   ]
  },
  {
   "cell_type": "code",
   "execution_count": 52,
   "id": "3fe3467d-0e59-448a-a42a-550f9a244231",
   "metadata": {},
   "outputs": [
    {
     "name": "stdout",
     "output_type": "stream",
     "text": [
      "<class 'pandas.core.frame.DataFrame'>\n",
      "Index: 19664 entries, 0 to 19712\n",
      "Data columns (total 5 columns):\n",
      " #   Column   Non-Null Count  Dtype \n",
      "---  ------   --------------  ----- \n",
      " 0   poem_id  19664 non-null  int64 \n",
      " 1   user_id  19664 non-null  int64 \n",
      " 2   title    19664 non-null  object\n",
      " 3   poem     19664 non-null  object\n",
      " 4   likes    19664 non-null  int64 \n",
      "dtypes: int64(3), object(2)\n",
      "memory usage: 921.8+ KB\n"
     ]
    }
   ],
   "source": [
    "df_poem.info()"
   ]
  },
  {
   "cell_type": "code",
   "execution_count": 53,
   "id": "cb6e7482-14b6-442b-8bd6-cad7ee9065ed",
   "metadata": {},
   "outputs": [
    {
     "data": {
      "text/plain": [
       "0        13\n",
       "1         3\n",
       "2         4\n",
       "3        10\n",
       "4        10\n",
       "         ..\n",
       "19708     1\n",
       "19709     1\n",
       "19710     2\n",
       "19711     2\n",
       "19712     0\n",
       "Name: likes, Length: 19664, dtype: int64"
      ]
     },
     "execution_count": 53,
     "metadata": {},
     "output_type": "execute_result"
    }
   ],
   "source": [
    "df_poem[\"likes\"]"
   ]
  },
  {
   "cell_type": "code",
   "execution_count": 54,
   "id": "c670f7d3-6e42-41bf-82c5-ff039e9a724e",
   "metadata": {},
   "outputs": [
    {
     "data": {
      "text/plain": [
       "poem_id    0\n",
       "user_id    0\n",
       "title      0\n",
       "poem       0\n",
       "likes      0\n",
       "dtype: int64"
      ]
     },
     "execution_count": 54,
     "metadata": {},
     "output_type": "execute_result"
    }
   ],
   "source": [
    "df_poem.isnull().sum()"
   ]
  },
  {
   "cell_type": "code",
   "execution_count": 55,
   "id": "cdca1e8e-e69d-4864-900e-6df29b37a9e5",
   "metadata": {},
   "outputs": [],
   "source": [
    "df_poem.dropna(inplace=True)"
   ]
  },
  {
   "cell_type": "code",
   "execution_count": 56,
   "id": "f18b2943-e5e5-41cb-9451-7a7db4eb00b6",
   "metadata": {},
   "outputs": [
    {
     "data": {
      "text/plain": [
       "poem_id    0\n",
       "user_id    0\n",
       "title      0\n",
       "poem       0\n",
       "likes      0\n",
       "dtype: int64"
      ]
     },
     "execution_count": 56,
     "metadata": {},
     "output_type": "execute_result"
    }
   ],
   "source": [
    "df_poem.isnull().sum()"
   ]
  },
  {
   "cell_type": "code",
   "execution_count": 57,
   "id": "4d34b8b8-75ec-4af5-803e-5a9db7b1ba67",
   "metadata": {},
   "outputs": [
    {
     "data": {
      "text/plain": [
       "0        13\n",
       "1         3\n",
       "2         4\n",
       "3        10\n",
       "4        10\n",
       "         ..\n",
       "19708     1\n",
       "19709     1\n",
       "19710     2\n",
       "19711     2\n",
       "19712     0\n",
       "Name: likes, Length: 19664, dtype: int64"
      ]
     },
     "execution_count": 57,
     "metadata": {},
     "output_type": "execute_result"
    }
   ],
   "source": [
    "df_poem[\"likes\"]"
   ]
  },
  {
   "cell_type": "markdown",
   "id": "03f9bb8a-b215-4590-8e82-d8c403517215",
   "metadata": {},
   "source": [
    "## DATA INTEGRATION"
   ]
  },
  {
   "cell_type": "markdown",
   "id": "e79363bf-70d1-474e-aca7-13e52e3eb15c",
   "metadata": {},
   "source": [
    "The 'df_poet' and 'df_poem' datasets were merged based on the common identifier 'id' and 'user_id' using an inner join. This consolidation brings together information about poets and their associated poems in a single dataset."
   ]
  },
  {
   "cell_type": "code",
   "execution_count": 58,
   "id": "b644d510-e396-4605-905a-579e44eba7b3",
   "metadata": {},
   "outputs": [],
   "source": [
    "df_main = pd.merge(left = df_poet, right = df_poem, how='inner', left_on='id', right_on='user_id')"
   ]
  },
  {
   "cell_type": "code",
   "execution_count": 59,
   "id": "0953f84c-130f-4935-b2fa-ff33bbd53430",
   "metadata": {},
   "outputs": [
    {
     "name": "stdout",
     "output_type": "stream",
     "text": [
      "<class 'pandas.core.frame.DataFrame'>\n",
      "RangeIndex: 19664 entries, 0 to 19663\n",
      "Data columns (total 17 columns):\n",
      " #   Column       Non-Null Count  Dtype \n",
      "---  ------       --------------  ----- \n",
      " 0   id           19664 non-null  int64 \n",
      " 1   followers    19664 non-null  int64 \n",
      " 2   following    19664 non-null  int64 \n",
      " 3   message_out  19664 non-null  int64 \n",
      " 4   message_in   19664 non-null  int64 \n",
      " 5   membership   19664 non-null  int32 \n",
      " 6   level        19664 non-null  int32 \n",
      " 7   region       19664 non-null  int32 \n",
      " 8   gold         19664 non-null  int64 \n",
      " 9   silver       19664 non-null  int64 \n",
      " 10  bronze       19664 non-null  int64 \n",
      " 11  hm           19664 non-null  int64 \n",
      " 12  poem_id      19664 non-null  int64 \n",
      " 13  user_id      19664 non-null  int64 \n",
      " 14  title        19664 non-null  object\n",
      " 15  poem         19664 non-null  object\n",
      " 16  likes        19664 non-null  int64 \n",
      "dtypes: int32(3), int64(12), object(2)\n",
      "memory usage: 2.3+ MB\n"
     ]
    }
   ],
   "source": [
    "df_main.info()"
   ]
  },
  {
   "cell_type": "code",
   "execution_count": 60,
   "id": "4a6a4de6-ac6a-405e-b7d0-b0f218837e33",
   "metadata": {},
   "outputs": [
    {
     "data": {
      "text/plain": [
       "0        13\n",
       "1         3\n",
       "2         4\n",
       "3        10\n",
       "4        10\n",
       "         ..\n",
       "19708     1\n",
       "19709     1\n",
       "19710     2\n",
       "19711     2\n",
       "19712     0\n",
       "Name: likes, Length: 19664, dtype: int64"
      ]
     },
     "execution_count": 60,
     "metadata": {},
     "output_type": "execute_result"
    }
   ],
   "source": [
    "df_poem[\"likes\"]"
   ]
  },
  {
   "cell_type": "markdown",
   "id": "8183274c-1228-42c1-8efb-1ae822150e59",
   "metadata": {},
   "source": [
    "## SENTIMENT POLARITY / RATING CALCULATION"
   ]
  },
  {
   "cell_type": "markdown",
   "id": "cb8a714d-1384-41b3-8857-a6e57ebde65e",
   "metadata": {},
   "source": [
    "Sentiment polarity was computed for both comments and poems using the TextBlob library. The function getPolarity was defined, taking a text input and returning its sentiment polarity. This sentiment analysis provides a numerical representation of the emotional tone of comments and poems.\n",
    "\n",
    "The \"rating\" column is generated by applying sentiment analysis to the \"comment\" column using the TextBlob library. The sentiment polarity of each comment is calculated, representing the degree of positivity or negativity, and stored in the \"rating\" column. This process helps quantify the sentiment expressed in the comments, potentially indicating the overall sentiment towards poems or poets."
   ]
  },
  {
   "cell_type": "code",
   "execution_count": 339,
   "id": "2b1262f4-89c0-4543-9c6a-150e66023e50",
   "metadata": {},
   "outputs": [],
   "source": [
    "def getPolarity(comment):\n",
    "    return TextBlob(comment).sentiment.polarity "
   ]
  },
  {
   "cell_type": "code",
   "execution_count": 340,
   "id": "80c59f25-4d6b-4b1e-a7fb-763aa82350b0",
   "metadata": {},
   "outputs": [],
   "source": [
    "df_comment['rating']=df_comment['comment'].apply(getPolarity)"
   ]
  },
  {
   "cell_type": "code",
   "execution_count": 341,
   "id": "602526ca-852b-49d0-b0e4-fa5d9668bee7",
   "metadata": {},
   "outputs": [],
   "source": [
    "\n",
    "def get_rating(poem_id):\n",
    "    comments_for_poem = df_comment[df_comment['poem_id'] == poem_id]\n",
    "    return comments_for_poem['rating'].mean()\n",
    "\n",
    "df_main['rating'] = df_main['poem_id'].apply(get_rating)"
   ]
  },
  {
   "cell_type": "code",
   "execution_count": 342,
   "id": "58191823-fe6a-4ada-9671-509b0edb9119",
   "metadata": {},
   "outputs": [
    {
     "data": {
      "text/html": [
       "<div>\n",
       "<style scoped>\n",
       "    .dataframe tbody tr th:only-of-type {\n",
       "        vertical-align: middle;\n",
       "    }\n",
       "\n",
       "    .dataframe tbody tr th {\n",
       "        vertical-align: top;\n",
       "    }\n",
       "\n",
       "    .dataframe thead th {\n",
       "        text-align: right;\n",
       "    }\n",
       "</style>\n",
       "<table border=\"1\" class=\"dataframe\">\n",
       "  <thead>\n",
       "    <tr style=\"text-align: right;\">\n",
       "      <th></th>\n",
       "      <th>id</th>\n",
       "      <th>followers</th>\n",
       "      <th>following</th>\n",
       "      <th>message_out</th>\n",
       "      <th>message_in</th>\n",
       "      <th>membership</th>\n",
       "      <th>level</th>\n",
       "      <th>region</th>\n",
       "      <th>gold</th>\n",
       "      <th>silver</th>\n",
       "      <th>bronze</th>\n",
       "      <th>hm</th>\n",
       "      <th>poem_id</th>\n",
       "      <th>user_id</th>\n",
       "      <th>title</th>\n",
       "      <th>poem</th>\n",
       "      <th>likes</th>\n",
       "      <th>rating</th>\n",
       "    </tr>\n",
       "  </thead>\n",
       "  <tbody>\n",
       "    <tr>\n",
       "      <th>0</th>\n",
       "      <td>1</td>\n",
       "      <td>711</td>\n",
       "      <td>432</td>\n",
       "      <td>13416</td>\n",
       "      <td>7722</td>\n",
       "      <td>2</td>\n",
       "      <td>43</td>\n",
       "      <td>39</td>\n",
       "      <td>247</td>\n",
       "      <td>243</td>\n",
       "      <td>198</td>\n",
       "      <td>429</td>\n",
       "      <td>1</td>\n",
       "      <td>1</td>\n",
       "      <td>11-5-2022</td>\n",
       "      <td>On November 5th**Twenty twenty-two*you and I* ...</td>\n",
       "      <td>13</td>\n",
       "      <td>0.375730</td>\n",
       "    </tr>\n",
       "    <tr>\n",
       "      <th>1</th>\n",
       "      <td>1</td>\n",
       "      <td>711</td>\n",
       "      <td>432</td>\n",
       "      <td>13416</td>\n",
       "      <td>7722</td>\n",
       "      <td>2</td>\n",
       "      <td>43</td>\n",
       "      <td>39</td>\n",
       "      <td>247</td>\n",
       "      <td>243</td>\n",
       "      <td>198</td>\n",
       "      <td>429</td>\n",
       "      <td>2</td>\n",
       "      <td>1</td>\n",
       "      <td>A Fate That*s Been Sung</td>\n",
       "      <td>Sometimes we grow to*understand our pain.*  ...</td>\n",
       "      <td>3</td>\n",
       "      <td>0.210417</td>\n",
       "    </tr>\n",
       "    <tr>\n",
       "      <th>2</th>\n",
       "      <td>1</td>\n",
       "      <td>711</td>\n",
       "      <td>432</td>\n",
       "      <td>13416</td>\n",
       "      <td>7722</td>\n",
       "      <td>2</td>\n",
       "      <td>43</td>\n",
       "      <td>39</td>\n",
       "      <td>247</td>\n",
       "      <td>243</td>\n",
       "      <td>198</td>\n",
       "      <td>429</td>\n",
       "      <td>3</td>\n",
       "      <td>1</td>\n",
       "      <td>The Carnation Dances In June</td>\n",
       "      <td>when spring ended*and summer days began*she bl...</td>\n",
       "      <td>4</td>\n",
       "      <td>0.424306</td>\n",
       "    </tr>\n",
       "    <tr>\n",
       "      <th>3</th>\n",
       "      <td>1</td>\n",
       "      <td>711</td>\n",
       "      <td>432</td>\n",
       "      <td>13416</td>\n",
       "      <td>7722</td>\n",
       "      <td>2</td>\n",
       "      <td>43</td>\n",
       "      <td>39</td>\n",
       "      <td>247</td>\n",
       "      <td>243</td>\n",
       "      <td>198</td>\n",
       "      <td>429</td>\n",
       "      <td>4</td>\n",
       "      <td>1</td>\n",
       "      <td>When Did I Become The Other Woman....?</td>\n",
       "      <td>in the night when crickets chirp*and the winds...</td>\n",
       "      <td>10</td>\n",
       "      <td>0.230141</td>\n",
       "    </tr>\n",
       "    <tr>\n",
       "      <th>4</th>\n",
       "      <td>1</td>\n",
       "      <td>711</td>\n",
       "      <td>432</td>\n",
       "      <td>13416</td>\n",
       "      <td>7722</td>\n",
       "      <td>2</td>\n",
       "      <td>43</td>\n",
       "      <td>39</td>\n",
       "      <td>247</td>\n",
       "      <td>243</td>\n",
       "      <td>198</td>\n",
       "      <td>429</td>\n",
       "      <td>5</td>\n",
       "      <td>1</td>\n",
       "      <td>The Storms Reminder of You</td>\n",
       "      <td>it is when skies are grey*and thunder growls*a...</td>\n",
       "      <td>10</td>\n",
       "      <td>0.372956</td>\n",
       "    </tr>\n",
       "    <tr>\n",
       "      <th>...</th>\n",
       "      <td>...</td>\n",
       "      <td>...</td>\n",
       "      <td>...</td>\n",
       "      <td>...</td>\n",
       "      <td>...</td>\n",
       "      <td>...</td>\n",
       "      <td>...</td>\n",
       "      <td>...</td>\n",
       "      <td>...</td>\n",
       "      <td>...</td>\n",
       "      <td>...</td>\n",
       "      <td>...</td>\n",
       "      <td>...</td>\n",
       "      <td>...</td>\n",
       "      <td>...</td>\n",
       "      <td>...</td>\n",
       "      <td>...</td>\n",
       "      <td>...</td>\n",
       "    </tr>\n",
       "    <tr>\n",
       "      <th>19659</th>\n",
       "      <td>526</td>\n",
       "      <td>278</td>\n",
       "      <td>1047</td>\n",
       "      <td>574</td>\n",
       "      <td>518</td>\n",
       "      <td>0</td>\n",
       "      <td>37</td>\n",
       "      <td>30</td>\n",
       "      <td>0</td>\n",
       "      <td>0</td>\n",
       "      <td>0</td>\n",
       "      <td>1</td>\n",
       "      <td>19709</td>\n",
       "      <td>526</td>\n",
       "      <td>How can I stay awake</td>\n",
       "      <td>Here*In the sun light*With the rays of light*W...</td>\n",
       "      <td>1</td>\n",
       "      <td>0.566667</td>\n",
       "    </tr>\n",
       "    <tr>\n",
       "      <th>19660</th>\n",
       "      <td>526</td>\n",
       "      <td>278</td>\n",
       "      <td>1047</td>\n",
       "      <td>574</td>\n",
       "      <td>518</td>\n",
       "      <td>0</td>\n",
       "      <td>37</td>\n",
       "      <td>30</td>\n",
       "      <td>0</td>\n",
       "      <td>0</td>\n",
       "      <td>0</td>\n",
       "      <td>1</td>\n",
       "      <td>19710</td>\n",
       "      <td>526</td>\n",
       "      <td>All I hope for is a victory for us</td>\n",
       "      <td>The only thing I believe in*Is that we have a*...</td>\n",
       "      <td>1</td>\n",
       "      <td>0.740000</td>\n",
       "    </tr>\n",
       "    <tr>\n",
       "      <th>19661</th>\n",
       "      <td>526</td>\n",
       "      <td>278</td>\n",
       "      <td>1047</td>\n",
       "      <td>574</td>\n",
       "      <td>518</td>\n",
       "      <td>0</td>\n",
       "      <td>37</td>\n",
       "      <td>30</td>\n",
       "      <td>0</td>\n",
       "      <td>0</td>\n",
       "      <td>0</td>\n",
       "      <td>1</td>\n",
       "      <td>19711</td>\n",
       "      <td>526</td>\n",
       "      <td>[ Love is a very powerful Force for peace? Whi...</td>\n",
       "      <td>Love is a very powerful Force for peace? Which...</td>\n",
       "      <td>2</td>\n",
       "      <td>0.529704</td>\n",
       "    </tr>\n",
       "    <tr>\n",
       "      <th>19662</th>\n",
       "      <td>526</td>\n",
       "      <td>278</td>\n",
       "      <td>1047</td>\n",
       "      <td>574</td>\n",
       "      <td>518</td>\n",
       "      <td>0</td>\n",
       "      <td>37</td>\n",
       "      <td>30</td>\n",
       "      <td>0</td>\n",
       "      <td>0</td>\n",
       "      <td>0</td>\n",
       "      <td>1</td>\n",
       "      <td>19712</td>\n",
       "      <td>526</td>\n",
       "      <td>Life are Waves</td>\n",
       "      <td>Currents in and out*So many issues so lil time...</td>\n",
       "      <td>2</td>\n",
       "      <td>0.600000</td>\n",
       "    </tr>\n",
       "    <tr>\n",
       "      <th>19663</th>\n",
       "      <td>526</td>\n",
       "      <td>278</td>\n",
       "      <td>1047</td>\n",
       "      <td>574</td>\n",
       "      <td>518</td>\n",
       "      <td>0</td>\n",
       "      <td>37</td>\n",
       "      <td>30</td>\n",
       "      <td>0</td>\n",
       "      <td>0</td>\n",
       "      <td>0</td>\n",
       "      <td>1</td>\n",
       "      <td>19713</td>\n",
       "      <td>526</td>\n",
       "      <td>Brave enough to respond</td>\n",
       "      <td>Is what I am*Standing strong*With the flow*Is ...</td>\n",
       "      <td>0</td>\n",
       "      <td>0.225000</td>\n",
       "    </tr>\n",
       "  </tbody>\n",
       "</table>\n",
       "<p>19664 rows × 18 columns</p>\n",
       "</div>"
      ],
      "text/plain": [
       "        id  followers  following  message_out  message_in  membership  level  \\\n",
       "0        1        711        432        13416        7722           2     43   \n",
       "1        1        711        432        13416        7722           2     43   \n",
       "2        1        711        432        13416        7722           2     43   \n",
       "3        1        711        432        13416        7722           2     43   \n",
       "4        1        711        432        13416        7722           2     43   \n",
       "...    ...        ...        ...          ...         ...         ...    ...   \n",
       "19659  526        278       1047          574         518           0     37   \n",
       "19660  526        278       1047          574         518           0     37   \n",
       "19661  526        278       1047          574         518           0     37   \n",
       "19662  526        278       1047          574         518           0     37   \n",
       "19663  526        278       1047          574         518           0     37   \n",
       "\n",
       "       region  gold  silver  bronze   hm  poem_id  user_id  \\\n",
       "0          39   247     243     198  429        1        1   \n",
       "1          39   247     243     198  429        2        1   \n",
       "2          39   247     243     198  429        3        1   \n",
       "3          39   247     243     198  429        4        1   \n",
       "4          39   247     243     198  429        5        1   \n",
       "...       ...   ...     ...     ...  ...      ...      ...   \n",
       "19659      30     0       0       0    1    19709      526   \n",
       "19660      30     0       0       0    1    19710      526   \n",
       "19661      30     0       0       0    1    19711      526   \n",
       "19662      30     0       0       0    1    19712      526   \n",
       "19663      30     0       0       0    1    19713      526   \n",
       "\n",
       "                                                   title  \\\n",
       "0                                              11-5-2022   \n",
       "1                                A Fate That*s Been Sung   \n",
       "2                           The Carnation Dances In June   \n",
       "3                 When Did I Become The Other Woman....?   \n",
       "4                             The Storms Reminder of You   \n",
       "...                                                  ...   \n",
       "19659                               How can I stay awake   \n",
       "19660                 All I hope for is a victory for us   \n",
       "19661  [ Love is a very powerful Force for peace? Whi...   \n",
       "19662                                     Life are Waves   \n",
       "19663                            Brave enough to respond   \n",
       "\n",
       "                                                    poem  likes    rating  \n",
       "0      On November 5th**Twenty twenty-two*you and I* ...     13  0.375730  \n",
       "1        Sometimes we grow to*understand our pain.*  ...      3  0.210417  \n",
       "2      when spring ended*and summer days began*she bl...      4  0.424306  \n",
       "3      in the night when crickets chirp*and the winds...     10  0.230141  \n",
       "4      it is when skies are grey*and thunder growls*a...     10  0.372956  \n",
       "...                                                  ...    ...       ...  \n",
       "19659  Here*In the sun light*With the rays of light*W...      1  0.566667  \n",
       "19660  The only thing I believe in*Is that we have a*...      1  0.740000  \n",
       "19661  Love is a very powerful Force for peace? Which...      2  0.529704  \n",
       "19662  Currents in and out*So many issues so lil time...      2  0.600000  \n",
       "19663  Is what I am*Standing strong*With the flow*Is ...      0  0.225000  \n",
       "\n",
       "[19664 rows x 18 columns]"
      ]
     },
     "execution_count": 342,
     "metadata": {},
     "output_type": "execute_result"
    }
   ],
   "source": [
    "df_main"
   ]
  },
  {
   "cell_type": "code",
   "execution_count": 343,
   "id": "f7bc84be-f33e-4dda-b985-2fccfe34b8f8",
   "metadata": {},
   "outputs": [
    {
     "name": "stdout",
     "output_type": "stream",
     "text": [
      "<class 'pandas.core.frame.DataFrame'>\n",
      "Index: 19664 entries, 0 to 19712\n",
      "Data columns (total 5 columns):\n",
      " #   Column   Non-Null Count  Dtype \n",
      "---  ------   --------------  ----- \n",
      " 0   poem_id  19664 non-null  int64 \n",
      " 1   user_id  19664 non-null  int64 \n",
      " 2   title    19664 non-null  object\n",
      " 3   poem     19664 non-null  object\n",
      " 4   likes    19664 non-null  int64 \n",
      "dtypes: int64(3), object(2)\n",
      "memory usage: 921.8+ KB\n"
     ]
    }
   ],
   "source": [
    "\n",
    "df_poem.info()"
   ]
  },
  {
   "cell_type": "code",
   "execution_count": 344,
   "id": "9c4fee7c-3acb-402c-99cb-adb806d84c22",
   "metadata": {},
   "outputs": [
    {
     "name": "stdout",
     "output_type": "stream",
     "text": [
      "<class 'pandas.core.frame.DataFrame'>\n",
      "Index: 155466 entries, 1 to 159370\n",
      "Data columns (total 3 columns):\n",
      " #   Column   Non-Null Count   Dtype  \n",
      "---  ------   --------------   -----  \n",
      " 0   poem_id  155466 non-null  int64  \n",
      " 1   comment  155466 non-null  object \n",
      " 2   rating   155466 non-null  float64\n",
      "dtypes: float64(1), int64(1), object(1)\n",
      "memory usage: 4.7+ MB\n"
     ]
    }
   ],
   "source": [
    "df_comment.info()"
   ]
  },
  {
   "cell_type": "markdown",
   "id": "112204d2-a72f-4491-869c-2d1ea37e34a2",
   "metadata": {},
   "source": [
    "The 'title' column was dropped from the merged dataset, and a new column, 'title_comments,' was created by concatenating the 'title' and 'comment' columns multiplied by a factor of 10. This operation enhances the importance of titles in the sentiment analysis."
   ]
  },
  {
   "cell_type": "code",
   "execution_count": 345,
   "id": "d76d3702-58c9-46b8-b249-b7e3c99dec93",
   "metadata": {},
   "outputs": [],
   "source": [
    "df_main = pd.concat([df_main.drop('title', axis=1), df_poem_vec_title * 10], axis = 1)"
   ]
  },
  {
   "cell_type": "markdown",
   "id": "cf081211-eb21-4e9b-93c3-30c137914598",
   "metadata": {},
   "source": [
    "## KEY RESULT"
   ]
  },
  {
   "cell_type": "markdown",
   "id": "eeb9ab7d-7ffa-4a9b-8d35-6227be6225fb",
   "metadata": {},
   "source": [
    "The processed dataset, named 'df_main,' is now ready for sentiment analysis. It combines information about poets and their associated poems, providing a solid foundation for exploring emotional tones."
   ]
  },
  {
   "cell_type": "code",
   "execution_count": 346,
   "id": "7550bfd3-25af-4f1b-9312-b198f0268836",
   "metadata": {},
   "outputs": [
    {
     "data": {
      "text/html": [
       "<div>\n",
       "<style scoped>\n",
       "    .dataframe tbody tr th:only-of-type {\n",
       "        vertical-align: middle;\n",
       "    }\n",
       "\n",
       "    .dataframe tbody tr th {\n",
       "        vertical-align: top;\n",
       "    }\n",
       "\n",
       "    .dataframe thead th {\n",
       "        text-align: right;\n",
       "    }\n",
       "</style>\n",
       "<table border=\"1\" class=\"dataframe\">\n",
       "  <thead>\n",
       "    <tr style=\"text-align: right;\">\n",
       "      <th></th>\n",
       "      <th>id</th>\n",
       "      <th>followers</th>\n",
       "      <th>following</th>\n",
       "      <th>message_out</th>\n",
       "      <th>message_in</th>\n",
       "      <th>membership</th>\n",
       "      <th>level</th>\n",
       "      <th>region</th>\n",
       "      <th>gold</th>\n",
       "      <th>silver</th>\n",
       "      <th>...</th>\n",
       "      <th>ztill</th>\n",
       "      <th>zucchini</th>\n",
       "      <th>zuegma</th>\n",
       "      <th>zulmut</th>\n",
       "      <th>zur</th>\n",
       "      <th>zuu</th>\n",
       "      <th>zuzu</th>\n",
       "      <th>zweet</th>\n",
       "      <th>zylent</th>\n",
       "      <th>zzzz</th>\n",
       "    </tr>\n",
       "  </thead>\n",
       "  <tbody>\n",
       "    <tr>\n",
       "      <th>0</th>\n",
       "      <td>1</td>\n",
       "      <td>711</td>\n",
       "      <td>432</td>\n",
       "      <td>13416</td>\n",
       "      <td>7722</td>\n",
       "      <td>2</td>\n",
       "      <td>43</td>\n",
       "      <td>39</td>\n",
       "      <td>247</td>\n",
       "      <td>243</td>\n",
       "      <td>...</td>\n",
       "      <td>0.0</td>\n",
       "      <td>0.0</td>\n",
       "      <td>0.0</td>\n",
       "      <td>0.0</td>\n",
       "      <td>0.0</td>\n",
       "      <td>0.0</td>\n",
       "      <td>0.0</td>\n",
       "      <td>0.0</td>\n",
       "      <td>0.0</td>\n",
       "      <td>0.0</td>\n",
       "    </tr>\n",
       "    <tr>\n",
       "      <th>1</th>\n",
       "      <td>1</td>\n",
       "      <td>711</td>\n",
       "      <td>432</td>\n",
       "      <td>13416</td>\n",
       "      <td>7722</td>\n",
       "      <td>2</td>\n",
       "      <td>43</td>\n",
       "      <td>39</td>\n",
       "      <td>247</td>\n",
       "      <td>243</td>\n",
       "      <td>...</td>\n",
       "      <td>0.0</td>\n",
       "      <td>0.0</td>\n",
       "      <td>0.0</td>\n",
       "      <td>0.0</td>\n",
       "      <td>0.0</td>\n",
       "      <td>0.0</td>\n",
       "      <td>0.0</td>\n",
       "      <td>0.0</td>\n",
       "      <td>0.0</td>\n",
       "      <td>0.0</td>\n",
       "    </tr>\n",
       "    <tr>\n",
       "      <th>2</th>\n",
       "      <td>1</td>\n",
       "      <td>711</td>\n",
       "      <td>432</td>\n",
       "      <td>13416</td>\n",
       "      <td>7722</td>\n",
       "      <td>2</td>\n",
       "      <td>43</td>\n",
       "      <td>39</td>\n",
       "      <td>247</td>\n",
       "      <td>243</td>\n",
       "      <td>...</td>\n",
       "      <td>0.0</td>\n",
       "      <td>0.0</td>\n",
       "      <td>0.0</td>\n",
       "      <td>0.0</td>\n",
       "      <td>0.0</td>\n",
       "      <td>0.0</td>\n",
       "      <td>0.0</td>\n",
       "      <td>0.0</td>\n",
       "      <td>0.0</td>\n",
       "      <td>0.0</td>\n",
       "    </tr>\n",
       "    <tr>\n",
       "      <th>3</th>\n",
       "      <td>1</td>\n",
       "      <td>711</td>\n",
       "      <td>432</td>\n",
       "      <td>13416</td>\n",
       "      <td>7722</td>\n",
       "      <td>2</td>\n",
       "      <td>43</td>\n",
       "      <td>39</td>\n",
       "      <td>247</td>\n",
       "      <td>243</td>\n",
       "      <td>...</td>\n",
       "      <td>0.0</td>\n",
       "      <td>0.0</td>\n",
       "      <td>0.0</td>\n",
       "      <td>0.0</td>\n",
       "      <td>0.0</td>\n",
       "      <td>0.0</td>\n",
       "      <td>0.0</td>\n",
       "      <td>0.0</td>\n",
       "      <td>0.0</td>\n",
       "      <td>0.0</td>\n",
       "    </tr>\n",
       "    <tr>\n",
       "      <th>4</th>\n",
       "      <td>1</td>\n",
       "      <td>711</td>\n",
       "      <td>432</td>\n",
       "      <td>13416</td>\n",
       "      <td>7722</td>\n",
       "      <td>2</td>\n",
       "      <td>43</td>\n",
       "      <td>39</td>\n",
       "      <td>247</td>\n",
       "      <td>243</td>\n",
       "      <td>...</td>\n",
       "      <td>0.0</td>\n",
       "      <td>0.0</td>\n",
       "      <td>0.0</td>\n",
       "      <td>0.0</td>\n",
       "      <td>0.0</td>\n",
       "      <td>0.0</td>\n",
       "      <td>0.0</td>\n",
       "      <td>0.0</td>\n",
       "      <td>0.0</td>\n",
       "      <td>0.0</td>\n",
       "    </tr>\n",
       "    <tr>\n",
       "      <th>5</th>\n",
       "      <td>1</td>\n",
       "      <td>711</td>\n",
       "      <td>432</td>\n",
       "      <td>13416</td>\n",
       "      <td>7722</td>\n",
       "      <td>2</td>\n",
       "      <td>43</td>\n",
       "      <td>39</td>\n",
       "      <td>247</td>\n",
       "      <td>243</td>\n",
       "      <td>...</td>\n",
       "      <td>0.0</td>\n",
       "      <td>0.0</td>\n",
       "      <td>0.0</td>\n",
       "      <td>0.0</td>\n",
       "      <td>0.0</td>\n",
       "      <td>0.0</td>\n",
       "      <td>0.0</td>\n",
       "      <td>0.0</td>\n",
       "      <td>0.0</td>\n",
       "      <td>0.0</td>\n",
       "    </tr>\n",
       "    <tr>\n",
       "      <th>6</th>\n",
       "      <td>1</td>\n",
       "      <td>711</td>\n",
       "      <td>432</td>\n",
       "      <td>13416</td>\n",
       "      <td>7722</td>\n",
       "      <td>2</td>\n",
       "      <td>43</td>\n",
       "      <td>39</td>\n",
       "      <td>247</td>\n",
       "      <td>243</td>\n",
       "      <td>...</td>\n",
       "      <td>0.0</td>\n",
       "      <td>0.0</td>\n",
       "      <td>0.0</td>\n",
       "      <td>0.0</td>\n",
       "      <td>0.0</td>\n",
       "      <td>0.0</td>\n",
       "      <td>0.0</td>\n",
       "      <td>0.0</td>\n",
       "      <td>0.0</td>\n",
       "      <td>0.0</td>\n",
       "    </tr>\n",
       "    <tr>\n",
       "      <th>7</th>\n",
       "      <td>1</td>\n",
       "      <td>711</td>\n",
       "      <td>432</td>\n",
       "      <td>13416</td>\n",
       "      <td>7722</td>\n",
       "      <td>2</td>\n",
       "      <td>43</td>\n",
       "      <td>39</td>\n",
       "      <td>247</td>\n",
       "      <td>243</td>\n",
       "      <td>...</td>\n",
       "      <td>0.0</td>\n",
       "      <td>0.0</td>\n",
       "      <td>0.0</td>\n",
       "      <td>0.0</td>\n",
       "      <td>0.0</td>\n",
       "      <td>0.0</td>\n",
       "      <td>0.0</td>\n",
       "      <td>0.0</td>\n",
       "      <td>0.0</td>\n",
       "      <td>0.0</td>\n",
       "    </tr>\n",
       "    <tr>\n",
       "      <th>8</th>\n",
       "      <td>1</td>\n",
       "      <td>711</td>\n",
       "      <td>432</td>\n",
       "      <td>13416</td>\n",
       "      <td>7722</td>\n",
       "      <td>2</td>\n",
       "      <td>43</td>\n",
       "      <td>39</td>\n",
       "      <td>247</td>\n",
       "      <td>243</td>\n",
       "      <td>...</td>\n",
       "      <td>0.0</td>\n",
       "      <td>0.0</td>\n",
       "      <td>0.0</td>\n",
       "      <td>0.0</td>\n",
       "      <td>0.0</td>\n",
       "      <td>0.0</td>\n",
       "      <td>0.0</td>\n",
       "      <td>0.0</td>\n",
       "      <td>0.0</td>\n",
       "      <td>0.0</td>\n",
       "    </tr>\n",
       "    <tr>\n",
       "      <th>9</th>\n",
       "      <td>1</td>\n",
       "      <td>711</td>\n",
       "      <td>432</td>\n",
       "      <td>13416</td>\n",
       "      <td>7722</td>\n",
       "      <td>2</td>\n",
       "      <td>43</td>\n",
       "      <td>39</td>\n",
       "      <td>247</td>\n",
       "      <td>243</td>\n",
       "      <td>...</td>\n",
       "      <td>0.0</td>\n",
       "      <td>0.0</td>\n",
       "      <td>0.0</td>\n",
       "      <td>0.0</td>\n",
       "      <td>0.0</td>\n",
       "      <td>0.0</td>\n",
       "      <td>0.0</td>\n",
       "      <td>0.0</td>\n",
       "      <td>0.0</td>\n",
       "      <td>0.0</td>\n",
       "    </tr>\n",
       "  </tbody>\n",
       "</table>\n",
       "<p>10 rows × 12002 columns</p>\n",
       "</div>"
      ],
      "text/plain": [
       "   id  followers  following  message_out  message_in  membership  level  \\\n",
       "0   1        711        432        13416        7722           2     43   \n",
       "1   1        711        432        13416        7722           2     43   \n",
       "2   1        711        432        13416        7722           2     43   \n",
       "3   1        711        432        13416        7722           2     43   \n",
       "4   1        711        432        13416        7722           2     43   \n",
       "5   1        711        432        13416        7722           2     43   \n",
       "6   1        711        432        13416        7722           2     43   \n",
       "7   1        711        432        13416        7722           2     43   \n",
       "8   1        711        432        13416        7722           2     43   \n",
       "9   1        711        432        13416        7722           2     43   \n",
       "\n",
       "   region  gold  silver  ...  ztill  zucchini  zuegma  zulmut  zur  zuu  zuzu  \\\n",
       "0      39   247     243  ...    0.0       0.0     0.0     0.0  0.0  0.0   0.0   \n",
       "1      39   247     243  ...    0.0       0.0     0.0     0.0  0.0  0.0   0.0   \n",
       "2      39   247     243  ...    0.0       0.0     0.0     0.0  0.0  0.0   0.0   \n",
       "3      39   247     243  ...    0.0       0.0     0.0     0.0  0.0  0.0   0.0   \n",
       "4      39   247     243  ...    0.0       0.0     0.0     0.0  0.0  0.0   0.0   \n",
       "5      39   247     243  ...    0.0       0.0     0.0     0.0  0.0  0.0   0.0   \n",
       "6      39   247     243  ...    0.0       0.0     0.0     0.0  0.0  0.0   0.0   \n",
       "7      39   247     243  ...    0.0       0.0     0.0     0.0  0.0  0.0   0.0   \n",
       "8      39   247     243  ...    0.0       0.0     0.0     0.0  0.0  0.0   0.0   \n",
       "9      39   247     243  ...    0.0       0.0     0.0     0.0  0.0  0.0   0.0   \n",
       "\n",
       "   zweet  zylent  zzzz  \n",
       "0    0.0     0.0   0.0  \n",
       "1    0.0     0.0   0.0  \n",
       "2    0.0     0.0   0.0  \n",
       "3    0.0     0.0   0.0  \n",
       "4    0.0     0.0   0.0  \n",
       "5    0.0     0.0   0.0  \n",
       "6    0.0     0.0   0.0  \n",
       "7    0.0     0.0   0.0  \n",
       "8    0.0     0.0   0.0  \n",
       "9    0.0     0.0   0.0  \n",
       "\n",
       "[10 rows x 12002 columns]"
      ]
     },
     "execution_count": 346,
     "metadata": {},
     "output_type": "execute_result"
    }
   ],
   "source": [
    "df_main.head(10)"
   ]
  },
  {
   "cell_type": "code",
   "execution_count": 347,
   "id": "cd53cec5-98ee-4ea0-938c-12236c82953d",
   "metadata": {},
   "outputs": [],
   "source": [
    "df_main.drop(\"poem\", axis = 1, inplace = True)"
   ]
  },
  {
   "cell_type": "code",
   "execution_count": 348,
   "id": "9416d379-3087-4b59-8872-3fcd7e21c549",
   "metadata": {},
   "outputs": [
    {
     "data": {
      "text/plain": [
       "5"
      ]
     },
     "execution_count": 348,
     "metadata": {},
     "output_type": "execute_result"
    }
   ],
   "source": [
    "len(list(df_main.columns)) - len(set(list(df_main.columns)))"
   ]
  },
  {
   "cell_type": "code",
   "execution_count": 349,
   "id": "d0640cfc-43d5-4bf8-9816-7d5eb14c3c42",
   "metadata": {},
   "outputs": [
    {
     "data": {
      "text/html": [
       "<div>\n",
       "<style scoped>\n",
       "    .dataframe tbody tr th:only-of-type {\n",
       "        vertical-align: middle;\n",
       "    }\n",
       "\n",
       "    .dataframe tbody tr th {\n",
       "        vertical-align: top;\n",
       "    }\n",
       "\n",
       "    .dataframe thead th {\n",
       "        text-align: right;\n",
       "    }\n",
       "</style>\n",
       "<table border=\"1\" class=\"dataframe\">\n",
       "  <thead>\n",
       "    <tr style=\"text-align: right;\">\n",
       "      <th></th>\n",
       "      <th>likes</th>\n",
       "      <th>likes</th>\n",
       "    </tr>\n",
       "  </thead>\n",
       "  <tbody>\n",
       "    <tr>\n",
       "      <th>0</th>\n",
       "      <td>13</td>\n",
       "      <td>0.0</td>\n",
       "    </tr>\n",
       "    <tr>\n",
       "      <th>1</th>\n",
       "      <td>3</td>\n",
       "      <td>0.0</td>\n",
       "    </tr>\n",
       "    <tr>\n",
       "      <th>2</th>\n",
       "      <td>4</td>\n",
       "      <td>0.0</td>\n",
       "    </tr>\n",
       "    <tr>\n",
       "      <th>3</th>\n",
       "      <td>10</td>\n",
       "      <td>0.0</td>\n",
       "    </tr>\n",
       "    <tr>\n",
       "      <th>4</th>\n",
       "      <td>10</td>\n",
       "      <td>0.0</td>\n",
       "    </tr>\n",
       "    <tr>\n",
       "      <th>...</th>\n",
       "      <td>...</td>\n",
       "      <td>...</td>\n",
       "    </tr>\n",
       "    <tr>\n",
       "      <th>19659</th>\n",
       "      <td>1</td>\n",
       "      <td>0.0</td>\n",
       "    </tr>\n",
       "    <tr>\n",
       "      <th>19660</th>\n",
       "      <td>1</td>\n",
       "      <td>0.0</td>\n",
       "    </tr>\n",
       "    <tr>\n",
       "      <th>19661</th>\n",
       "      <td>2</td>\n",
       "      <td>0.0</td>\n",
       "    </tr>\n",
       "    <tr>\n",
       "      <th>19662</th>\n",
       "      <td>2</td>\n",
       "      <td>0.0</td>\n",
       "    </tr>\n",
       "    <tr>\n",
       "      <th>19663</th>\n",
       "      <td>0</td>\n",
       "      <td>0.0</td>\n",
       "    </tr>\n",
       "  </tbody>\n",
       "</table>\n",
       "<p>19664 rows × 2 columns</p>\n",
       "</div>"
      ],
      "text/plain": [
       "       likes  likes\n",
       "0         13    0.0\n",
       "1          3    0.0\n",
       "2          4    0.0\n",
       "3         10    0.0\n",
       "4         10    0.0\n",
       "...      ...    ...\n",
       "19659      1    0.0\n",
       "19660      1    0.0\n",
       "19661      2    0.0\n",
       "19662      2    0.0\n",
       "19663      0    0.0\n",
       "\n",
       "[19664 rows x 2 columns]"
      ]
     },
     "execution_count": 349,
     "metadata": {},
     "output_type": "execute_result"
    }
   ],
   "source": [
    "df_main[\"likes\"]"
   ]
  },
  {
   "cell_type": "code",
   "execution_count": 350,
   "id": "cbf26b67-3a58-4759-a4e0-3b3ca73d8d0b",
   "metadata": {},
   "outputs": [
    {
     "name": "stdout",
     "output_type": "stream",
     "text": [
      "[]\n"
     ]
    }
   ],
   "source": [
    "df_main = df_main.loc[:, ~df_main.columns.duplicated(keep=\"first\")]\n",
    "\n",
    "duplicated_mask = df_main.columns.duplicated(keep=\"first\")\n",
    "duplicate_columns = [col for col, is_duplicated in zip(df_main.columns, duplicated_mask) if is_duplicated]\n",
    "print(duplicate_columns)   \n"
   ]
  },
  {
   "cell_type": "code",
   "execution_count": 351,
   "id": "87ecd9f1-e7f3-431d-ac64-51f55867151b",
   "metadata": {},
   "outputs": [
    {
     "data": {
      "text/plain": [
       "0        13\n",
       "1         3\n",
       "2         4\n",
       "3        10\n",
       "4        10\n",
       "         ..\n",
       "19659     1\n",
       "19660     1\n",
       "19661     2\n",
       "19662     2\n",
       "19663     0\n",
       "Name: likes, Length: 19664, dtype: int64"
      ]
     },
     "execution_count": 351,
     "metadata": {},
     "output_type": "execute_result"
    }
   ],
   "source": [
    "df_main[\"likes\"]"
   ]
  },
  {
   "cell_type": "markdown",
   "id": "75678cae-2f9d-4b58-96b0-6f72a75ed8b0",
   "metadata": {},
   "source": [
    "<div style=\"text-align: Left; padding: 10px; background-color: #013754; color:#ffffff; font-size: 30px; box-shadow: 0px 4px 8px rgba(0, 0, 0, 0.1);\">4.0 Sentiment Analysis and Labelling</div>"
   ]
  },
  {
   "cell_type": "markdown",
   "id": "3e461335-8af9-4bc2-9240-64d404a08f33",
   "metadata": {},
   "source": [
    "In this phase, we delve into the emotional nuances expressed in the poems through sentiment analysis. The goal is to assign sentiment labels to each poem, categorizing them as positive, negative, or neutral based on the calculated sentiment polarity."
   ]
  },
  {
   "cell_type": "markdown",
   "id": "17ea8c7b-f393-4c20-a2c9-961528077fe2",
   "metadata": {},
   "source": [
    "## METHODOLOGY"
   ]
  },
  {
   "cell_type": "markdown",
   "id": "4369c5f8-be12-46eb-a36f-8d4bfb0b7890",
   "metadata": {},
   "source": [
    "### TextBlob Sentiment Analysis"
   ]
  },
  {
   "cell_type": "markdown",
   "id": "f40be742-3588-4787-9257-be908d0c3e21",
   "metadata": {},
   "source": [
    "We opted for the TextBlob library to perform sentiment analysis due to its simplicity and effectiveness in assessing sentiment polarity. Sentiment polarity is a numerical representation of the positivity or negativity of the text, ranging from -1 (negative) to 1 (positive)"
   ]
  },
  {
   "cell_type": "code",
   "execution_count": 352,
   "id": "0a03c09f-04f3-488c-bcf3-74c731844425",
   "metadata": {},
   "outputs": [],
   "source": [
    "def get_comment_sentiment_label(polarity):\n",
    "    if polarity > 0:\n",
    "        return 'positive'\n",
    "    elif polarity < 0:  \n",
    "        return 'negative'\n",
    "    else:\n",
    "        return 'neutral'"
   ]
  },
  {
   "cell_type": "code",
   "execution_count": 353,
   "id": "f9247347-1ef0-488d-b3c9-00370b97374c",
   "metadata": {},
   "outputs": [],
   "source": [
    "df_main['Sentiments'] = df_main['rating'].apply(get_comment_sentiment_label)\n"
   ]
  },
  {
   "cell_type": "code",
   "execution_count": 354,
   "id": "1bebee8a-faa1-4a40-acf6-4db597276360",
   "metadata": {},
   "outputs": [
    {
     "data": {
      "text/plain": [
       "0        0.375730\n",
       "1        0.210417\n",
       "2        0.424306\n",
       "3        0.230141\n",
       "4        0.372956\n",
       "           ...   \n",
       "19659    0.566667\n",
       "19660    0.740000\n",
       "19661    0.529704\n",
       "19662    0.600000\n",
       "19663    0.225000\n",
       "Name: rating, Length: 19664, dtype: float64"
      ]
     },
     "execution_count": 354,
     "metadata": {},
     "output_type": "execute_result"
    }
   ],
   "source": [
    "df_main['rating']"
   ]
  },
  {
   "cell_type": "code",
   "execution_count": 355,
   "id": "df410c88-6958-4307-a924-0b0f00a4943c",
   "metadata": {},
   "outputs": [
    {
     "data": {
      "text/plain": [
       "0        0.0\n",
       "1        0.0\n",
       "2        0.0\n",
       "3        0.0\n",
       "4        0.0\n",
       "        ... \n",
       "19659    0.0\n",
       "19660    0.0\n",
       "19661    0.0\n",
       "19662    0.0\n",
       "19663    0.0\n",
       "Name: comment, Length: 19664, dtype: Sparse[float64, 0.0]"
      ]
     },
     "execution_count": 355,
     "metadata": {},
     "output_type": "execute_result"
    }
   ],
   "source": [
    "df_main['comment']"
   ]
  },
  {
   "cell_type": "code",
   "execution_count": 356,
   "id": "c9b3c23c-b54b-44db-bf87-5eb09f275721",
   "metadata": {},
   "outputs": [
    {
     "data": {
      "text/html": [
       "<div>\n",
       "<style scoped>\n",
       "    .dataframe tbody tr th:only-of-type {\n",
       "        vertical-align: middle;\n",
       "    }\n",
       "\n",
       "    .dataframe tbody tr th {\n",
       "        vertical-align: top;\n",
       "    }\n",
       "\n",
       "    .dataframe thead th {\n",
       "        text-align: right;\n",
       "    }\n",
       "</style>\n",
       "<table border=\"1\" class=\"dataframe\">\n",
       "  <thead>\n",
       "    <tr style=\"text-align: right;\">\n",
       "      <th></th>\n",
       "      <th>id</th>\n",
       "      <th>followers</th>\n",
       "      <th>following</th>\n",
       "      <th>message_out</th>\n",
       "      <th>message_in</th>\n",
       "      <th>membership</th>\n",
       "      <th>level</th>\n",
       "      <th>region</th>\n",
       "      <th>gold</th>\n",
       "      <th>silver</th>\n",
       "      <th>...</th>\n",
       "      <th>zucchini</th>\n",
       "      <th>zuegma</th>\n",
       "      <th>zulmut</th>\n",
       "      <th>zur</th>\n",
       "      <th>zuu</th>\n",
       "      <th>zuzu</th>\n",
       "      <th>zweet</th>\n",
       "      <th>zylent</th>\n",
       "      <th>zzzz</th>\n",
       "      <th>Sentiments</th>\n",
       "    </tr>\n",
       "  </thead>\n",
       "  <tbody>\n",
       "    <tr>\n",
       "      <th>0</th>\n",
       "      <td>1</td>\n",
       "      <td>711</td>\n",
       "      <td>432</td>\n",
       "      <td>13416</td>\n",
       "      <td>7722</td>\n",
       "      <td>2</td>\n",
       "      <td>43</td>\n",
       "      <td>39</td>\n",
       "      <td>247</td>\n",
       "      <td>243</td>\n",
       "      <td>...</td>\n",
       "      <td>0.0</td>\n",
       "      <td>0.0</td>\n",
       "      <td>0.0</td>\n",
       "      <td>0.0</td>\n",
       "      <td>0.0</td>\n",
       "      <td>0.0</td>\n",
       "      <td>0.0</td>\n",
       "      <td>0.0</td>\n",
       "      <td>0.0</td>\n",
       "      <td>positive</td>\n",
       "    </tr>\n",
       "    <tr>\n",
       "      <th>1</th>\n",
       "      <td>1</td>\n",
       "      <td>711</td>\n",
       "      <td>432</td>\n",
       "      <td>13416</td>\n",
       "      <td>7722</td>\n",
       "      <td>2</td>\n",
       "      <td>43</td>\n",
       "      <td>39</td>\n",
       "      <td>247</td>\n",
       "      <td>243</td>\n",
       "      <td>...</td>\n",
       "      <td>0.0</td>\n",
       "      <td>0.0</td>\n",
       "      <td>0.0</td>\n",
       "      <td>0.0</td>\n",
       "      <td>0.0</td>\n",
       "      <td>0.0</td>\n",
       "      <td>0.0</td>\n",
       "      <td>0.0</td>\n",
       "      <td>0.0</td>\n",
       "      <td>positive</td>\n",
       "    </tr>\n",
       "    <tr>\n",
       "      <th>2</th>\n",
       "      <td>1</td>\n",
       "      <td>711</td>\n",
       "      <td>432</td>\n",
       "      <td>13416</td>\n",
       "      <td>7722</td>\n",
       "      <td>2</td>\n",
       "      <td>43</td>\n",
       "      <td>39</td>\n",
       "      <td>247</td>\n",
       "      <td>243</td>\n",
       "      <td>...</td>\n",
       "      <td>0.0</td>\n",
       "      <td>0.0</td>\n",
       "      <td>0.0</td>\n",
       "      <td>0.0</td>\n",
       "      <td>0.0</td>\n",
       "      <td>0.0</td>\n",
       "      <td>0.0</td>\n",
       "      <td>0.0</td>\n",
       "      <td>0.0</td>\n",
       "      <td>positive</td>\n",
       "    </tr>\n",
       "    <tr>\n",
       "      <th>3</th>\n",
       "      <td>1</td>\n",
       "      <td>711</td>\n",
       "      <td>432</td>\n",
       "      <td>13416</td>\n",
       "      <td>7722</td>\n",
       "      <td>2</td>\n",
       "      <td>43</td>\n",
       "      <td>39</td>\n",
       "      <td>247</td>\n",
       "      <td>243</td>\n",
       "      <td>...</td>\n",
       "      <td>0.0</td>\n",
       "      <td>0.0</td>\n",
       "      <td>0.0</td>\n",
       "      <td>0.0</td>\n",
       "      <td>0.0</td>\n",
       "      <td>0.0</td>\n",
       "      <td>0.0</td>\n",
       "      <td>0.0</td>\n",
       "      <td>0.0</td>\n",
       "      <td>positive</td>\n",
       "    </tr>\n",
       "    <tr>\n",
       "      <th>4</th>\n",
       "      <td>1</td>\n",
       "      <td>711</td>\n",
       "      <td>432</td>\n",
       "      <td>13416</td>\n",
       "      <td>7722</td>\n",
       "      <td>2</td>\n",
       "      <td>43</td>\n",
       "      <td>39</td>\n",
       "      <td>247</td>\n",
       "      <td>243</td>\n",
       "      <td>...</td>\n",
       "      <td>0.0</td>\n",
       "      <td>0.0</td>\n",
       "      <td>0.0</td>\n",
       "      <td>0.0</td>\n",
       "      <td>0.0</td>\n",
       "      <td>0.0</td>\n",
       "      <td>0.0</td>\n",
       "      <td>0.0</td>\n",
       "      <td>0.0</td>\n",
       "      <td>positive</td>\n",
       "    </tr>\n",
       "  </tbody>\n",
       "</table>\n",
       "<p>5 rows × 11996 columns</p>\n",
       "</div>"
      ],
      "text/plain": [
       "   id  followers  following  message_out  message_in  membership  level  \\\n",
       "0   1        711        432        13416        7722           2     43   \n",
       "1   1        711        432        13416        7722           2     43   \n",
       "2   1        711        432        13416        7722           2     43   \n",
       "3   1        711        432        13416        7722           2     43   \n",
       "4   1        711        432        13416        7722           2     43   \n",
       "\n",
       "   region  gold  silver  ...  zucchini  zuegma  zulmut  zur  zuu  zuzu  zweet  \\\n",
       "0      39   247     243  ...       0.0     0.0     0.0  0.0  0.0   0.0    0.0   \n",
       "1      39   247     243  ...       0.0     0.0     0.0  0.0  0.0   0.0    0.0   \n",
       "2      39   247     243  ...       0.0     0.0     0.0  0.0  0.0   0.0    0.0   \n",
       "3      39   247     243  ...       0.0     0.0     0.0  0.0  0.0   0.0    0.0   \n",
       "4      39   247     243  ...       0.0     0.0     0.0  0.0  0.0   0.0    0.0   \n",
       "\n",
       "   zylent  zzzz  Sentiments  \n",
       "0     0.0   0.0    positive  \n",
       "1     0.0   0.0    positive  \n",
       "2     0.0   0.0    positive  \n",
       "3     0.0   0.0    positive  \n",
       "4     0.0   0.0    positive  \n",
       "\n",
       "[5 rows x 11996 columns]"
      ]
     },
     "execution_count": 356,
     "metadata": {},
     "output_type": "execute_result"
    }
   ],
   "source": [
    "df_main.head()"
   ]
  },
  {
   "cell_type": "markdown",
   "id": "d7a7bd9f-32c5-4e39-b2ea-af3961179f76",
   "metadata": {},
   "source": [
    "## SENTIMENT RESULTS"
   ]
  },
  {
   "cell_type": "markdown",
   "id": "46ad2ede-a5fb-4891-a3ac-a07061ffc3b6",
   "metadata": {},
   "source": [
    "#### Table: Comment Sentiment Analysis Results"
   ]
  },
  {
   "cell_type": "markdown",
   "id": "99ebe59f-4fae-4aad-adb1-f2beccaf6434",
   "metadata": {},
   "source": [
    "The following table presents a snapshot of the sentiments associated with each poem, showcasing their ratings and assigned labels."
   ]
  },
  {
   "cell_type": "code",
   "execution_count": 357,
   "id": "65cc5688-6c97-4d2b-901f-84f07f6c1fa3",
   "metadata": {},
   "outputs": [
    {
     "data": {
      "text/html": [
       "<div>\n",
       "<style scoped>\n",
       "    .dataframe tbody tr th:only-of-type {\n",
       "        vertical-align: middle;\n",
       "    }\n",
       "\n",
       "    .dataframe tbody tr th {\n",
       "        vertical-align: top;\n",
       "    }\n",
       "\n",
       "    .dataframe thead th {\n",
       "        text-align: right;\n",
       "    }\n",
       "</style>\n",
       "<table border=\"1\" class=\"dataframe\">\n",
       "  <thead>\n",
       "    <tr style=\"text-align: right;\">\n",
       "      <th></th>\n",
       "      <th>comment</th>\n",
       "      <th>rating</th>\n",
       "      <th>Sentiments</th>\n",
       "    </tr>\n",
       "  </thead>\n",
       "  <tbody>\n",
       "    <tr>\n",
       "      <th>0</th>\n",
       "      <td>0.0</td>\n",
       "      <td>0.375730</td>\n",
       "      <td>positive</td>\n",
       "    </tr>\n",
       "    <tr>\n",
       "      <th>1</th>\n",
       "      <td>0.0</td>\n",
       "      <td>0.210417</td>\n",
       "      <td>positive</td>\n",
       "    </tr>\n",
       "    <tr>\n",
       "      <th>2</th>\n",
       "      <td>0.0</td>\n",
       "      <td>0.424306</td>\n",
       "      <td>positive</td>\n",
       "    </tr>\n",
       "    <tr>\n",
       "      <th>3</th>\n",
       "      <td>0.0</td>\n",
       "      <td>0.230141</td>\n",
       "      <td>positive</td>\n",
       "    </tr>\n",
       "    <tr>\n",
       "      <th>4</th>\n",
       "      <td>0.0</td>\n",
       "      <td>0.372956</td>\n",
       "      <td>positive</td>\n",
       "    </tr>\n",
       "    <tr>\n",
       "      <th>...</th>\n",
       "      <td>...</td>\n",
       "      <td>...</td>\n",
       "      <td>...</td>\n",
       "    </tr>\n",
       "    <tr>\n",
       "      <th>19659</th>\n",
       "      <td>0.0</td>\n",
       "      <td>0.566667</td>\n",
       "      <td>positive</td>\n",
       "    </tr>\n",
       "    <tr>\n",
       "      <th>19660</th>\n",
       "      <td>0.0</td>\n",
       "      <td>0.740000</td>\n",
       "      <td>positive</td>\n",
       "    </tr>\n",
       "    <tr>\n",
       "      <th>19661</th>\n",
       "      <td>0.0</td>\n",
       "      <td>0.529704</td>\n",
       "      <td>positive</td>\n",
       "    </tr>\n",
       "    <tr>\n",
       "      <th>19662</th>\n",
       "      <td>0.0</td>\n",
       "      <td>0.600000</td>\n",
       "      <td>positive</td>\n",
       "    </tr>\n",
       "    <tr>\n",
       "      <th>19663</th>\n",
       "      <td>0.0</td>\n",
       "      <td>0.225000</td>\n",
       "      <td>positive</td>\n",
       "    </tr>\n",
       "  </tbody>\n",
       "</table>\n",
       "<p>19664 rows × 3 columns</p>\n",
       "</div>"
      ],
      "text/plain": [
       "       comment    rating Sentiments\n",
       "0          0.0  0.375730   positive\n",
       "1          0.0  0.210417   positive\n",
       "2          0.0  0.424306   positive\n",
       "3          0.0  0.230141   positive\n",
       "4          0.0  0.372956   positive\n",
       "...        ...       ...        ...\n",
       "19659      0.0  0.566667   positive\n",
       "19660      0.0  0.740000   positive\n",
       "19661      0.0  0.529704   positive\n",
       "19662      0.0  0.600000   positive\n",
       "19663      0.0  0.225000   positive\n",
       "\n",
       "[19664 rows x 3 columns]"
      ]
     },
     "execution_count": 357,
     "metadata": {},
     "output_type": "execute_result"
    }
   ],
   "source": [
    "result_table = df_main[['comment', 'rating', 'Sentiments']]\n",
    "result_table"
   ]
  },
  {
   "cell_type": "code",
   "execution_count": 358,
   "id": "bc87ba80-cdb0-48cd-96d9-7715144b938d",
   "metadata": {},
   "outputs": [],
   "source": [
    "# Filter poems with positive sentiment\n",
    "positive_comments = df_main[df_main['Sentiments'] == 'positive']\n",
    "\n",
    "# Filter poems with negative sentiment\n",
    "negative_comments = df_main[df_main['Sentiments'] == 'negative']\n",
    "\n",
    "# Filter poems with neutral sentiment\n",
    "neutral_comments = df_main[df_main['Sentiments'] == 'neutral']\n"
   ]
  },
  {
   "cell_type": "markdown",
   "id": "df1046bc-2cc8-450a-99dd-34c5da650f83",
   "metadata": {},
   "source": [
    "#### POSITIVE COMMENT SENTIMENT "
   ]
  },
  {
   "cell_type": "code",
   "execution_count": 359,
   "id": "6cde0d27-2d65-4e3f-8615-3cff1a973be1",
   "metadata": {},
   "outputs": [],
   "source": [
    "positive_comments = positive_comments[['comment', 'rating', 'Sentiments']]"
   ]
  },
  {
   "cell_type": "code",
   "execution_count": 360,
   "id": "38d80ffc-f419-4b6a-8ccf-ede5953487f3",
   "metadata": {},
   "outputs": [
    {
     "data": {
      "text/html": [
       "<div>\n",
       "<style scoped>\n",
       "    .dataframe tbody tr th:only-of-type {\n",
       "        vertical-align: middle;\n",
       "    }\n",
       "\n",
       "    .dataframe tbody tr th {\n",
       "        vertical-align: top;\n",
       "    }\n",
       "\n",
       "    .dataframe thead th {\n",
       "        text-align: right;\n",
       "    }\n",
       "</style>\n",
       "<table border=\"1\" class=\"dataframe\">\n",
       "  <thead>\n",
       "    <tr style=\"text-align: right;\">\n",
       "      <th></th>\n",
       "      <th>comment</th>\n",
       "      <th>rating</th>\n",
       "      <th>Sentiments</th>\n",
       "    </tr>\n",
       "  </thead>\n",
       "  <tbody>\n",
       "    <tr>\n",
       "      <th>0</th>\n",
       "      <td>0.0</td>\n",
       "      <td>0.375730</td>\n",
       "      <td>positive</td>\n",
       "    </tr>\n",
       "    <tr>\n",
       "      <th>1</th>\n",
       "      <td>0.0</td>\n",
       "      <td>0.210417</td>\n",
       "      <td>positive</td>\n",
       "    </tr>\n",
       "    <tr>\n",
       "      <th>2</th>\n",
       "      <td>0.0</td>\n",
       "      <td>0.424306</td>\n",
       "      <td>positive</td>\n",
       "    </tr>\n",
       "    <tr>\n",
       "      <th>3</th>\n",
       "      <td>0.0</td>\n",
       "      <td>0.230141</td>\n",
       "      <td>positive</td>\n",
       "    </tr>\n",
       "    <tr>\n",
       "      <th>4</th>\n",
       "      <td>0.0</td>\n",
       "      <td>0.372956</td>\n",
       "      <td>positive</td>\n",
       "    </tr>\n",
       "    <tr>\n",
       "      <th>...</th>\n",
       "      <td>...</td>\n",
       "      <td>...</td>\n",
       "      <td>...</td>\n",
       "    </tr>\n",
       "    <tr>\n",
       "      <th>19659</th>\n",
       "      <td>0.0</td>\n",
       "      <td>0.566667</td>\n",
       "      <td>positive</td>\n",
       "    </tr>\n",
       "    <tr>\n",
       "      <th>19660</th>\n",
       "      <td>0.0</td>\n",
       "      <td>0.740000</td>\n",
       "      <td>positive</td>\n",
       "    </tr>\n",
       "    <tr>\n",
       "      <th>19661</th>\n",
       "      <td>0.0</td>\n",
       "      <td>0.529704</td>\n",
       "      <td>positive</td>\n",
       "    </tr>\n",
       "    <tr>\n",
       "      <th>19662</th>\n",
       "      <td>0.0</td>\n",
       "      <td>0.600000</td>\n",
       "      <td>positive</td>\n",
       "    </tr>\n",
       "    <tr>\n",
       "      <th>19663</th>\n",
       "      <td>0.0</td>\n",
       "      <td>0.225000</td>\n",
       "      <td>positive</td>\n",
       "    </tr>\n",
       "  </tbody>\n",
       "</table>\n",
       "<p>18483 rows × 3 columns</p>\n",
       "</div>"
      ],
      "text/plain": [
       "       comment    rating Sentiments\n",
       "0          0.0  0.375730   positive\n",
       "1          0.0  0.210417   positive\n",
       "2          0.0  0.424306   positive\n",
       "3          0.0  0.230141   positive\n",
       "4          0.0  0.372956   positive\n",
       "...        ...       ...        ...\n",
       "19659      0.0  0.566667   positive\n",
       "19660      0.0  0.740000   positive\n",
       "19661      0.0  0.529704   positive\n",
       "19662      0.0  0.600000   positive\n",
       "19663      0.0  0.225000   positive\n",
       "\n",
       "[18483 rows x 3 columns]"
      ]
     },
     "execution_count": 360,
     "metadata": {},
     "output_type": "execute_result"
    }
   ],
   "source": [
    "positive_comments"
   ]
  },
  {
   "cell_type": "markdown",
   "id": "6e6263eb-17e8-4b32-a2d5-7c997abfb9bc",
   "metadata": {},
   "source": [
    "#### NEGATIVE COMMENT SENTIMENT "
   ]
  },
  {
   "cell_type": "code",
   "execution_count": 361,
   "id": "1d76e782-9660-43a4-8899-287283d9011f",
   "metadata": {},
   "outputs": [],
   "source": [
    "negative_comments = negative_comments[['comment', 'rating', 'Sentiments']]"
   ]
  },
  {
   "cell_type": "code",
   "execution_count": 362,
   "id": "88cfa39c-39f0-49d9-a662-f3c3919ae83b",
   "metadata": {},
   "outputs": [
    {
     "data": {
      "text/html": [
       "<div>\n",
       "<style scoped>\n",
       "    .dataframe tbody tr th:only-of-type {\n",
       "        vertical-align: middle;\n",
       "    }\n",
       "\n",
       "    .dataframe tbody tr th {\n",
       "        vertical-align: top;\n",
       "    }\n",
       "\n",
       "    .dataframe thead th {\n",
       "        text-align: right;\n",
       "    }\n",
       "</style>\n",
       "<table border=\"1\" class=\"dataframe\">\n",
       "  <thead>\n",
       "    <tr style=\"text-align: right;\">\n",
       "      <th></th>\n",
       "      <th>comment</th>\n",
       "      <th>rating</th>\n",
       "      <th>Sentiments</th>\n",
       "    </tr>\n",
       "  </thead>\n",
       "  <tbody>\n",
       "    <tr>\n",
       "      <th>108</th>\n",
       "      <td>0.0</td>\n",
       "      <td>-0.092361</td>\n",
       "      <td>negative</td>\n",
       "    </tr>\n",
       "    <tr>\n",
       "      <th>112</th>\n",
       "      <td>0.0</td>\n",
       "      <td>-0.019597</td>\n",
       "      <td>negative</td>\n",
       "    </tr>\n",
       "    <tr>\n",
       "      <th>176</th>\n",
       "      <td>0.0</td>\n",
       "      <td>-0.069333</td>\n",
       "      <td>negative</td>\n",
       "    </tr>\n",
       "    <tr>\n",
       "      <th>226</th>\n",
       "      <td>0.0</td>\n",
       "      <td>-0.062500</td>\n",
       "      <td>negative</td>\n",
       "    </tr>\n",
       "    <tr>\n",
       "      <th>235</th>\n",
       "      <td>0.0</td>\n",
       "      <td>-0.195000</td>\n",
       "      <td>negative</td>\n",
       "    </tr>\n",
       "    <tr>\n",
       "      <th>...</th>\n",
       "      <td>...</td>\n",
       "      <td>...</td>\n",
       "      <td>...</td>\n",
       "    </tr>\n",
       "    <tr>\n",
       "      <th>19531</th>\n",
       "      <td>0.0</td>\n",
       "      <td>-0.100000</td>\n",
       "      <td>negative</td>\n",
       "    </tr>\n",
       "    <tr>\n",
       "      <th>19539</th>\n",
       "      <td>0.0</td>\n",
       "      <td>-0.275000</td>\n",
       "      <td>negative</td>\n",
       "    </tr>\n",
       "    <tr>\n",
       "      <th>19581</th>\n",
       "      <td>0.0</td>\n",
       "      <td>-0.300000</td>\n",
       "      <td>negative</td>\n",
       "    </tr>\n",
       "    <tr>\n",
       "      <th>19629</th>\n",
       "      <td>0.0</td>\n",
       "      <td>-0.130000</td>\n",
       "      <td>negative</td>\n",
       "    </tr>\n",
       "    <tr>\n",
       "      <th>19654</th>\n",
       "      <td>0.0</td>\n",
       "      <td>-0.025202</td>\n",
       "      <td>negative</td>\n",
       "    </tr>\n",
       "  </tbody>\n",
       "</table>\n",
       "<p>438 rows × 3 columns</p>\n",
       "</div>"
      ],
      "text/plain": [
       "       comment    rating Sentiments\n",
       "108        0.0 -0.092361   negative\n",
       "112        0.0 -0.019597   negative\n",
       "176        0.0 -0.069333   negative\n",
       "226        0.0 -0.062500   negative\n",
       "235        0.0 -0.195000   negative\n",
       "...        ...       ...        ...\n",
       "19531      0.0 -0.100000   negative\n",
       "19539      0.0 -0.275000   negative\n",
       "19581      0.0 -0.300000   negative\n",
       "19629      0.0 -0.130000   negative\n",
       "19654      0.0 -0.025202   negative\n",
       "\n",
       "[438 rows x 3 columns]"
      ]
     },
     "execution_count": 362,
     "metadata": {},
     "output_type": "execute_result"
    }
   ],
   "source": [
    "negative_comments"
   ]
  },
  {
   "cell_type": "markdown",
   "id": "f370296f-0a08-4b4e-b5e6-1aa7fe02ef74",
   "metadata": {},
   "source": [
    "#### NEUTRAL COMMENT SENTIMENT "
   ]
  },
  {
   "cell_type": "code",
   "execution_count": 363,
   "id": "a86193a6-485a-4ff1-9957-e52164ac71de",
   "metadata": {},
   "outputs": [],
   "source": [
    "neutral_comments = neutral_comments[['comment', 'rating', 'Sentiments']]"
   ]
  },
  {
   "cell_type": "code",
   "execution_count": 364,
   "id": "032524b7-af8a-4206-b86c-0150416ebd94",
   "metadata": {},
   "outputs": [
    {
     "data": {
      "text/html": [
       "<div>\n",
       "<style scoped>\n",
       "    .dataframe tbody tr th:only-of-type {\n",
       "        vertical-align: middle;\n",
       "    }\n",
       "\n",
       "    .dataframe tbody tr th {\n",
       "        vertical-align: top;\n",
       "    }\n",
       "\n",
       "    .dataframe thead th {\n",
       "        text-align: right;\n",
       "    }\n",
       "</style>\n",
       "<table border=\"1\" class=\"dataframe\">\n",
       "  <thead>\n",
       "    <tr style=\"text-align: right;\">\n",
       "      <th></th>\n",
       "      <th>comment</th>\n",
       "      <th>rating</th>\n",
       "      <th>Sentiments</th>\n",
       "    </tr>\n",
       "  </thead>\n",
       "  <tbody>\n",
       "    <tr>\n",
       "      <th>76</th>\n",
       "      <td>0.0</td>\n",
       "      <td>0.0</td>\n",
       "      <td>neutral</td>\n",
       "    </tr>\n",
       "    <tr>\n",
       "      <th>111</th>\n",
       "      <td>0.0</td>\n",
       "      <td>0.0</td>\n",
       "      <td>neutral</td>\n",
       "    </tr>\n",
       "    <tr>\n",
       "      <th>222</th>\n",
       "      <td>0.0</td>\n",
       "      <td>NaN</td>\n",
       "      <td>neutral</td>\n",
       "    </tr>\n",
       "    <tr>\n",
       "      <th>225</th>\n",
       "      <td>0.0</td>\n",
       "      <td>0.0</td>\n",
       "      <td>neutral</td>\n",
       "    </tr>\n",
       "    <tr>\n",
       "      <th>234</th>\n",
       "      <td>0.0</td>\n",
       "      <td>0.0</td>\n",
       "      <td>neutral</td>\n",
       "    </tr>\n",
       "    <tr>\n",
       "      <th>...</th>\n",
       "      <td>...</td>\n",
       "      <td>...</td>\n",
       "      <td>...</td>\n",
       "    </tr>\n",
       "    <tr>\n",
       "      <th>19623</th>\n",
       "      <td>0.0</td>\n",
       "      <td>NaN</td>\n",
       "      <td>neutral</td>\n",
       "    </tr>\n",
       "    <tr>\n",
       "      <th>19624</th>\n",
       "      <td>0.0</td>\n",
       "      <td>0.0</td>\n",
       "      <td>neutral</td>\n",
       "    </tr>\n",
       "    <tr>\n",
       "      <th>19625</th>\n",
       "      <td>0.0</td>\n",
       "      <td>NaN</td>\n",
       "      <td>neutral</td>\n",
       "    </tr>\n",
       "    <tr>\n",
       "      <th>19646</th>\n",
       "      <td>0.0</td>\n",
       "      <td>NaN</td>\n",
       "      <td>neutral</td>\n",
       "    </tr>\n",
       "    <tr>\n",
       "      <th>19655</th>\n",
       "      <td>0.0</td>\n",
       "      <td>0.0</td>\n",
       "      <td>neutral</td>\n",
       "    </tr>\n",
       "  </tbody>\n",
       "</table>\n",
       "<p>743 rows × 3 columns</p>\n",
       "</div>"
      ],
      "text/plain": [
       "       comment  rating Sentiments\n",
       "76         0.0     0.0    neutral\n",
       "111        0.0     0.0    neutral\n",
       "222        0.0     NaN    neutral\n",
       "225        0.0     0.0    neutral\n",
       "234        0.0     0.0    neutral\n",
       "...        ...     ...        ...\n",
       "19623      0.0     NaN    neutral\n",
       "19624      0.0     0.0    neutral\n",
       "19625      0.0     NaN    neutral\n",
       "19646      0.0     NaN    neutral\n",
       "19655      0.0     0.0    neutral\n",
       "\n",
       "[743 rows x 3 columns]"
      ]
     },
     "execution_count": 364,
     "metadata": {},
     "output_type": "execute_result"
    }
   ],
   "source": [
    "neutral_comments"
   ]
  },
  {
   "cell_type": "code",
   "execution_count": 365,
   "id": "8b9178c8-2a74-4cf2-92ff-2919eb36fd49",
   "metadata": {},
   "outputs": [],
   "source": [
    "# Create dataframe for Count of Sentiment Categories\n",
    "bar_chart =df_main['Sentiments'].value_counts().rename_axis('Sentiments').to_frame('Total Sentiments').reset_index()"
   ]
  },
  {
   "cell_type": "code",
   "execution_count": 366,
   "id": "4ffc4cb9-71c6-4546-84b3-30516c804add",
   "metadata": {},
   "outputs": [
    {
     "data": {
      "text/html": [
       "<div>\n",
       "<style scoped>\n",
       "    .dataframe tbody tr th:only-of-type {\n",
       "        vertical-align: middle;\n",
       "    }\n",
       "\n",
       "    .dataframe tbody tr th {\n",
       "        vertical-align: top;\n",
       "    }\n",
       "\n",
       "    .dataframe thead th {\n",
       "        text-align: right;\n",
       "    }\n",
       "</style>\n",
       "<table border=\"1\" class=\"dataframe\">\n",
       "  <thead>\n",
       "    <tr style=\"text-align: right;\">\n",
       "      <th></th>\n",
       "      <th>Sentiments</th>\n",
       "      <th>Total Sentiments</th>\n",
       "    </tr>\n",
       "  </thead>\n",
       "  <tbody>\n",
       "    <tr>\n",
       "      <th>0</th>\n",
       "      <td>positive</td>\n",
       "      <td>18483</td>\n",
       "    </tr>\n",
       "    <tr>\n",
       "      <th>1</th>\n",
       "      <td>neutral</td>\n",
       "      <td>743</td>\n",
       "    </tr>\n",
       "    <tr>\n",
       "      <th>2</th>\n",
       "      <td>negative</td>\n",
       "      <td>438</td>\n",
       "    </tr>\n",
       "  </tbody>\n",
       "</table>\n",
       "</div>"
      ],
      "text/plain": [
       "  Sentiments  Total Sentiments\n",
       "0   positive             18483\n",
       "1    neutral               743\n",
       "2   negative               438"
      ]
     },
     "execution_count": 366,
     "metadata": {},
     "output_type": "execute_result"
    }
   ],
   "source": [
    "bar_chart"
   ]
  },
  {
   "cell_type": "code",
   "execution_count": 367,
   "id": "6e8df1e6-0f5d-4503-bbef-b7f2e961ef2e",
   "metadata": {},
   "outputs": [
    {
     "data": {
      "application/vnd.plotly.v1+json": {
       "config": {
        "plotlyServerURL": "https://plot.ly"
       },
       "data": [
        {
         "alignmentgroup": "True",
         "hovertemplate": "Sentiments=%{x}<br>Total Sentiments=%{y}<extra></extra>",
         "legendgroup": "positive",
         "marker": {
          "color": "#636efa",
          "pattern": {
           "shape": ""
          }
         },
         "name": "positive",
         "offsetgroup": "positive",
         "orientation": "v",
         "showlegend": true,
         "textposition": "auto",
         "type": "bar",
         "x": [
          "positive"
         ],
         "xaxis": "x",
         "y": [
          18483
         ],
         "yaxis": "y"
        },
        {
         "alignmentgroup": "True",
         "hovertemplate": "Sentiments=%{x}<br>Total Sentiments=%{y}<extra></extra>",
         "legendgroup": "neutral",
         "marker": {
          "color": "#EF553B",
          "pattern": {
           "shape": ""
          }
         },
         "name": "neutral",
         "offsetgroup": "neutral",
         "orientation": "v",
         "showlegend": true,
         "textposition": "auto",
         "type": "bar",
         "x": [
          "neutral"
         ],
         "xaxis": "x",
         "y": [
          743
         ],
         "yaxis": "y"
        },
        {
         "alignmentgroup": "True",
         "hovertemplate": "Sentiments=%{x}<br>Total Sentiments=%{y}<extra></extra>",
         "legendgroup": "negative",
         "marker": {
          "color": "#00cc96",
          "pattern": {
           "shape": ""
          }
         },
         "name": "negative",
         "offsetgroup": "negative",
         "orientation": "v",
         "showlegend": true,
         "textposition": "auto",
         "type": "bar",
         "x": [
          "negative"
         ],
         "xaxis": "x",
         "y": [
          438
         ],
         "yaxis": "y"
        }
       ],
       "layout": {
        "autosize": true,
        "barmode": "relative",
        "legend": {
         "title": {
          "text": "Sentiments"
         },
         "tracegroupgap": 0
        },
        "margin": {
         "b": 0,
         "l": 0,
         "r": 0,
         "t": 30
        },
        "template": {
         "data": {
          "bar": [
           {
            "error_x": {
             "color": "#2a3f5f"
            },
            "error_y": {
             "color": "#2a3f5f"
            },
            "marker": {
             "line": {
              "color": "#E5ECF6",
              "width": 0.5
             },
             "pattern": {
              "fillmode": "overlay",
              "size": 10,
              "solidity": 0.2
             }
            },
            "type": "bar"
           }
          ],
          "barpolar": [
           {
            "marker": {
             "line": {
              "color": "#E5ECF6",
              "width": 0.5
             },
             "pattern": {
              "fillmode": "overlay",
              "size": 10,
              "solidity": 0.2
             }
            },
            "type": "barpolar"
           }
          ],
          "carpet": [
           {
            "aaxis": {
             "endlinecolor": "#2a3f5f",
             "gridcolor": "white",
             "linecolor": "white",
             "minorgridcolor": "white",
             "startlinecolor": "#2a3f5f"
            },
            "baxis": {
             "endlinecolor": "#2a3f5f",
             "gridcolor": "white",
             "linecolor": "white",
             "minorgridcolor": "white",
             "startlinecolor": "#2a3f5f"
            },
            "type": "carpet"
           }
          ],
          "choropleth": [
           {
            "colorbar": {
             "outlinewidth": 0,
             "ticks": ""
            },
            "type": "choropleth"
           }
          ],
          "contour": [
           {
            "colorbar": {
             "outlinewidth": 0,
             "ticks": ""
            },
            "colorscale": [
             [
              0,
              "#0d0887"
             ],
             [
              0.1111111111111111,
              "#46039f"
             ],
             [
              0.2222222222222222,
              "#7201a8"
             ],
             [
              0.3333333333333333,
              "#9c179e"
             ],
             [
              0.4444444444444444,
              "#bd3786"
             ],
             [
              0.5555555555555556,
              "#d8576b"
             ],
             [
              0.6666666666666666,
              "#ed7953"
             ],
             [
              0.7777777777777778,
              "#fb9f3a"
             ],
             [
              0.8888888888888888,
              "#fdca26"
             ],
             [
              1,
              "#f0f921"
             ]
            ],
            "type": "contour"
           }
          ],
          "contourcarpet": [
           {
            "colorbar": {
             "outlinewidth": 0,
             "ticks": ""
            },
            "type": "contourcarpet"
           }
          ],
          "heatmap": [
           {
            "colorbar": {
             "outlinewidth": 0,
             "ticks": ""
            },
            "colorscale": [
             [
              0,
              "#0d0887"
             ],
             [
              0.1111111111111111,
              "#46039f"
             ],
             [
              0.2222222222222222,
              "#7201a8"
             ],
             [
              0.3333333333333333,
              "#9c179e"
             ],
             [
              0.4444444444444444,
              "#bd3786"
             ],
             [
              0.5555555555555556,
              "#d8576b"
             ],
             [
              0.6666666666666666,
              "#ed7953"
             ],
             [
              0.7777777777777778,
              "#fb9f3a"
             ],
             [
              0.8888888888888888,
              "#fdca26"
             ],
             [
              1,
              "#f0f921"
             ]
            ],
            "type": "heatmap"
           }
          ],
          "heatmapgl": [
           {
            "colorbar": {
             "outlinewidth": 0,
             "ticks": ""
            },
            "colorscale": [
             [
              0,
              "#0d0887"
             ],
             [
              0.1111111111111111,
              "#46039f"
             ],
             [
              0.2222222222222222,
              "#7201a8"
             ],
             [
              0.3333333333333333,
              "#9c179e"
             ],
             [
              0.4444444444444444,
              "#bd3786"
             ],
             [
              0.5555555555555556,
              "#d8576b"
             ],
             [
              0.6666666666666666,
              "#ed7953"
             ],
             [
              0.7777777777777778,
              "#fb9f3a"
             ],
             [
              0.8888888888888888,
              "#fdca26"
             ],
             [
              1,
              "#f0f921"
             ]
            ],
            "type": "heatmapgl"
           }
          ],
          "histogram": [
           {
            "marker": {
             "pattern": {
              "fillmode": "overlay",
              "size": 10,
              "solidity": 0.2
             }
            },
            "type": "histogram"
           }
          ],
          "histogram2d": [
           {
            "colorbar": {
             "outlinewidth": 0,
             "ticks": ""
            },
            "colorscale": [
             [
              0,
              "#0d0887"
             ],
             [
              0.1111111111111111,
              "#46039f"
             ],
             [
              0.2222222222222222,
              "#7201a8"
             ],
             [
              0.3333333333333333,
              "#9c179e"
             ],
             [
              0.4444444444444444,
              "#bd3786"
             ],
             [
              0.5555555555555556,
              "#d8576b"
             ],
             [
              0.6666666666666666,
              "#ed7953"
             ],
             [
              0.7777777777777778,
              "#fb9f3a"
             ],
             [
              0.8888888888888888,
              "#fdca26"
             ],
             [
              1,
              "#f0f921"
             ]
            ],
            "type": "histogram2d"
           }
          ],
          "histogram2dcontour": [
           {
            "colorbar": {
             "outlinewidth": 0,
             "ticks": ""
            },
            "colorscale": [
             [
              0,
              "#0d0887"
             ],
             [
              0.1111111111111111,
              "#46039f"
             ],
             [
              0.2222222222222222,
              "#7201a8"
             ],
             [
              0.3333333333333333,
              "#9c179e"
             ],
             [
              0.4444444444444444,
              "#bd3786"
             ],
             [
              0.5555555555555556,
              "#d8576b"
             ],
             [
              0.6666666666666666,
              "#ed7953"
             ],
             [
              0.7777777777777778,
              "#fb9f3a"
             ],
             [
              0.8888888888888888,
              "#fdca26"
             ],
             [
              1,
              "#f0f921"
             ]
            ],
            "type": "histogram2dcontour"
           }
          ],
          "mesh3d": [
           {
            "colorbar": {
             "outlinewidth": 0,
             "ticks": ""
            },
            "type": "mesh3d"
           }
          ],
          "parcoords": [
           {
            "line": {
             "colorbar": {
              "outlinewidth": 0,
              "ticks": ""
             }
            },
            "type": "parcoords"
           }
          ],
          "pie": [
           {
            "automargin": true,
            "type": "pie"
           }
          ],
          "scatter": [
           {
            "fillpattern": {
             "fillmode": "overlay",
             "size": 10,
             "solidity": 0.2
            },
            "type": "scatter"
           }
          ],
          "scatter3d": [
           {
            "line": {
             "colorbar": {
              "outlinewidth": 0,
              "ticks": ""
             }
            },
            "marker": {
             "colorbar": {
              "outlinewidth": 0,
              "ticks": ""
             }
            },
            "type": "scatter3d"
           }
          ],
          "scattercarpet": [
           {
            "marker": {
             "colorbar": {
              "outlinewidth": 0,
              "ticks": ""
             }
            },
            "type": "scattercarpet"
           }
          ],
          "scattergeo": [
           {
            "marker": {
             "colorbar": {
              "outlinewidth": 0,
              "ticks": ""
             }
            },
            "type": "scattergeo"
           }
          ],
          "scattergl": [
           {
            "marker": {
             "colorbar": {
              "outlinewidth": 0,
              "ticks": ""
             }
            },
            "type": "scattergl"
           }
          ],
          "scattermapbox": [
           {
            "marker": {
             "colorbar": {
              "outlinewidth": 0,
              "ticks": ""
             }
            },
            "type": "scattermapbox"
           }
          ],
          "scatterpolar": [
           {
            "marker": {
             "colorbar": {
              "outlinewidth": 0,
              "ticks": ""
             }
            },
            "type": "scatterpolar"
           }
          ],
          "scatterpolargl": [
           {
            "marker": {
             "colorbar": {
              "outlinewidth": 0,
              "ticks": ""
             }
            },
            "type": "scatterpolargl"
           }
          ],
          "scatterternary": [
           {
            "marker": {
             "colorbar": {
              "outlinewidth": 0,
              "ticks": ""
             }
            },
            "type": "scatterternary"
           }
          ],
          "surface": [
           {
            "colorbar": {
             "outlinewidth": 0,
             "ticks": ""
            },
            "colorscale": [
             [
              0,
              "#0d0887"
             ],
             [
              0.1111111111111111,
              "#46039f"
             ],
             [
              0.2222222222222222,
              "#7201a8"
             ],
             [
              0.3333333333333333,
              "#9c179e"
             ],
             [
              0.4444444444444444,
              "#bd3786"
             ],
             [
              0.5555555555555556,
              "#d8576b"
             ],
             [
              0.6666666666666666,
              "#ed7953"
             ],
             [
              0.7777777777777778,
              "#fb9f3a"
             ],
             [
              0.8888888888888888,
              "#fdca26"
             ],
             [
              1,
              "#f0f921"
             ]
            ],
            "type": "surface"
           }
          ],
          "table": [
           {
            "cells": {
             "fill": {
              "color": "#EBF0F8"
             },
             "line": {
              "color": "white"
             }
            },
            "header": {
             "fill": {
              "color": "#C8D4E3"
             },
             "line": {
              "color": "white"
             }
            },
            "type": "table"
           }
          ]
         },
         "layout": {
          "annotationdefaults": {
           "arrowcolor": "#2a3f5f",
           "arrowhead": 0,
           "arrowwidth": 1
          },
          "autotypenumbers": "strict",
          "coloraxis": {
           "colorbar": {
            "outlinewidth": 0,
            "ticks": ""
           }
          },
          "colorscale": {
           "diverging": [
            [
             0,
             "#8e0152"
            ],
            [
             0.1,
             "#c51b7d"
            ],
            [
             0.2,
             "#de77ae"
            ],
            [
             0.3,
             "#f1b6da"
            ],
            [
             0.4,
             "#fde0ef"
            ],
            [
             0.5,
             "#f7f7f7"
            ],
            [
             0.6,
             "#e6f5d0"
            ],
            [
             0.7,
             "#b8e186"
            ],
            [
             0.8,
             "#7fbc41"
            ],
            [
             0.9,
             "#4d9221"
            ],
            [
             1,
             "#276419"
            ]
           ],
           "sequential": [
            [
             0,
             "#0d0887"
            ],
            [
             0.1111111111111111,
             "#46039f"
            ],
            [
             0.2222222222222222,
             "#7201a8"
            ],
            [
             0.3333333333333333,
             "#9c179e"
            ],
            [
             0.4444444444444444,
             "#bd3786"
            ],
            [
             0.5555555555555556,
             "#d8576b"
            ],
            [
             0.6666666666666666,
             "#ed7953"
            ],
            [
             0.7777777777777778,
             "#fb9f3a"
            ],
            [
             0.8888888888888888,
             "#fdca26"
            ],
            [
             1,
             "#f0f921"
            ]
           ],
           "sequentialminus": [
            [
             0,
             "#0d0887"
            ],
            [
             0.1111111111111111,
             "#46039f"
            ],
            [
             0.2222222222222222,
             "#7201a8"
            ],
            [
             0.3333333333333333,
             "#9c179e"
            ],
            [
             0.4444444444444444,
             "#bd3786"
            ],
            [
             0.5555555555555556,
             "#d8576b"
            ],
            [
             0.6666666666666666,
             "#ed7953"
            ],
            [
             0.7777777777777778,
             "#fb9f3a"
            ],
            [
             0.8888888888888888,
             "#fdca26"
            ],
            [
             1,
             "#f0f921"
            ]
           ]
          },
          "colorway": [
           "#636efa",
           "#EF553B",
           "#00cc96",
           "#ab63fa",
           "#FFA15A",
           "#19d3f3",
           "#FF6692",
           "#B6E880",
           "#FF97FF",
           "#FECB52"
          ],
          "font": {
           "color": "#2a3f5f"
          },
          "geo": {
           "bgcolor": "white",
           "lakecolor": "white",
           "landcolor": "#E5ECF6",
           "showlakes": true,
           "showland": true,
           "subunitcolor": "white"
          },
          "hoverlabel": {
           "align": "left"
          },
          "hovermode": "closest",
          "mapbox": {
           "style": "light"
          },
          "paper_bgcolor": "white",
          "plot_bgcolor": "#E5ECF6",
          "polar": {
           "angularaxis": {
            "gridcolor": "white",
            "linecolor": "white",
            "ticks": ""
           },
           "bgcolor": "#E5ECF6",
           "radialaxis": {
            "gridcolor": "white",
            "linecolor": "white",
            "ticks": ""
           }
          },
          "scene": {
           "xaxis": {
            "backgroundcolor": "#E5ECF6",
            "gridcolor": "white",
            "gridwidth": 2,
            "linecolor": "white",
            "showbackground": true,
            "ticks": "",
            "zerolinecolor": "white"
           },
           "yaxis": {
            "backgroundcolor": "#E5ECF6",
            "gridcolor": "white",
            "gridwidth": 2,
            "linecolor": "white",
            "showbackground": true,
            "ticks": "",
            "zerolinecolor": "white"
           },
           "zaxis": {
            "backgroundcolor": "#E5ECF6",
            "gridcolor": "white",
            "gridwidth": 2,
            "linecolor": "white",
            "showbackground": true,
            "ticks": "",
            "zerolinecolor": "white"
           }
          },
          "shapedefaults": {
           "line": {
            "color": "#2a3f5f"
           }
          },
          "ternary": {
           "aaxis": {
            "gridcolor": "white",
            "linecolor": "white",
            "ticks": ""
           },
           "baxis": {
            "gridcolor": "white",
            "linecolor": "white",
            "ticks": ""
           },
           "bgcolor": "#E5ECF6",
           "caxis": {
            "gridcolor": "white",
            "linecolor": "white",
            "ticks": ""
           }
          },
          "title": {
           "x": 0.05
          },
          "xaxis": {
           "automargin": true,
           "gridcolor": "white",
           "linecolor": "white",
           "ticks": "",
           "title": {
            "standoff": 15
           },
           "zerolinecolor": "white",
           "zerolinewidth": 2
          },
          "yaxis": {
           "automargin": true,
           "gridcolor": "white",
           "linecolor": "white",
           "ticks": "",
           "title": {
            "standoff": 15
           },
           "zerolinecolor": "white",
           "zerolinewidth": 2
          }
         }
        },
        "title": {
         "text": "Distribution of Sentiments Results"
        },
        "xaxis": {
         "anchor": "y",
         "autorange": true,
         "categoryarray": [
          "positive",
          "neutral",
          "negative"
         ],
         "categoryorder": "array",
         "domain": [
          0,
          1
         ],
         "range": [
          -0.5,
          2.5
         ],
         "title": {
          "text": "Sentiments"
         },
         "type": "category"
        },
        "yaxis": {
         "anchor": "x",
         "autorange": true,
         "domain": [
          0,
          1
         ],
         "range": [
          0,
          19455.78947368421
         ],
         "title": {
          "text": "Total Sentiments"
         },
         "type": "linear"
        }
       }
      },
      "image/png": "[encoded data removed]",
      "text/html": [
       "<div>                            <div id=\"3bb3e6ad-8e2a-488a-ae53-dda59ad06b7b\" class=\"plotly-graph-div\" style=\"height:525px; width:100%;\"></div>            <script type=\"text/javascript\">                require([\"plotly\"], function(Plotly) {                    window.PLOTLYENV=window.PLOTLYENV || {};                                    if (document.getElementById(\"3bb3e6ad-8e2a-488a-ae53-dda59ad06b7b\")) {                    Plotly.newPlot(                        \"3bb3e6ad-8e2a-488a-ae53-dda59ad06b7b\",                        [{\"alignmentgroup\":\"True\",\"hovertemplate\":\"Sentiments=%{x}\\u003cbr\\u003eTotal Sentiments=%{y}\\u003cextra\\u003e\\u003c\\u002fextra\\u003e\",\"legendgroup\":\"positive\",\"marker\":{\"color\":\"#636efa\",\"pattern\":{\"shape\":\"\"}},\"name\":\"positive\",\"offsetgroup\":\"positive\",\"orientation\":\"v\",\"showlegend\":true,\"textposition\":\"auto\",\"x\":[\"positive\"],\"xaxis\":\"x\",\"y\":[18483],\"yaxis\":\"y\",\"type\":\"bar\"},{\"alignmentgroup\":\"True\",\"hovertemplate\":\"Sentiments=%{x}\\u003cbr\\u003eTotal Sentiments=%{y}\\u003cextra\\u003e\\u003c\\u002fextra\\u003e\",\"legendgroup\":\"neutral\",\"marker\":{\"color\":\"#EF553B\",\"pattern\":{\"shape\":\"\"}},\"name\":\"neutral\",\"offsetgroup\":\"neutral\",\"orientation\":\"v\",\"showlegend\":true,\"textposition\":\"auto\",\"x\":[\"neutral\"],\"xaxis\":\"x\",\"y\":[743],\"yaxis\":\"y\",\"type\":\"bar\"},{\"alignmentgroup\":\"True\",\"hovertemplate\":\"Sentiments=%{x}\\u003cbr\\u003eTotal Sentiments=%{y}\\u003cextra\\u003e\\u003c\\u002fextra\\u003e\",\"legendgroup\":\"negative\",\"marker\":{\"color\":\"#00cc96\",\"pattern\":{\"shape\":\"\"}},\"name\":\"negative\",\"offsetgroup\":\"negative\",\"orientation\":\"v\",\"showlegend\":true,\"textposition\":\"auto\",\"x\":[\"negative\"],\"xaxis\":\"x\",\"y\":[438],\"yaxis\":\"y\",\"type\":\"bar\"}],                        {\"template\":{\"data\":{\"histogram2dcontour\":[{\"type\":\"histogram2dcontour\",\"colorbar\":{\"outlinewidth\":0,\"ticks\":\"\"},\"colorscale\":[[0.0,\"#0d0887\"],[0.1111111111111111,\"#46039f\"],[0.2222222222222222,\"#7201a8\"],[0.3333333333333333,\"#9c179e\"],[0.4444444444444444,\"#bd3786\"],[0.5555555555555556,\"#d8576b\"],[0.6666666666666666,\"#ed7953\"],[0.7777777777777778,\"#fb9f3a\"],[0.8888888888888888,\"#fdca26\"],[1.0,\"#f0f921\"]]}],\"choropleth\":[{\"type\":\"choropleth\",\"colorbar\":{\"outlinewidth\":0,\"ticks\":\"\"}}],\"histogram2d\":[{\"type\":\"histogram2d\",\"colorbar\":{\"outlinewidth\":0,\"ticks\":\"\"},\"colorscale\":[[0.0,\"#0d0887\"],[0.1111111111111111,\"#46039f\"],[0.2222222222222222,\"#7201a8\"],[0.3333333333333333,\"#9c179e\"],[0.4444444444444444,\"#bd3786\"],[0.5555555555555556,\"#d8576b\"],[0.6666666666666666,\"#ed7953\"],[0.7777777777777778,\"#fb9f3a\"],[0.8888888888888888,\"#fdca26\"],[1.0,\"#f0f921\"]]}],\"heatmap\":[{\"type\":\"heatmap\",\"colorbar\":{\"outlinewidth\":0,\"ticks\":\"\"},\"colorscale\":[[0.0,\"#0d0887\"],[0.1111111111111111,\"#46039f\"],[0.2222222222222222,\"#7201a8\"],[0.3333333333333333,\"#9c179e\"],[0.4444444444444444,\"#bd3786\"],[0.5555555555555556,\"#d8576b\"],[0.6666666666666666,\"#ed7953\"],[0.7777777777777778,\"#fb9f3a\"],[0.8888888888888888,\"#fdca26\"],[1.0,\"#f0f921\"]]}],\"heatmapgl\":[{\"type\":\"heatmapgl\",\"colorbar\":{\"outlinewidth\":0,\"ticks\":\"\"},\"colorscale\":[[0.0,\"#0d0887\"],[0.1111111111111111,\"#46039f\"],[0.2222222222222222,\"#7201a8\"],[0.3333333333333333,\"#9c179e\"],[0.4444444444444444,\"#bd3786\"],[0.5555555555555556,\"#d8576b\"],[0.6666666666666666,\"#ed7953\"],[0.7777777777777778,\"#fb9f3a\"],[0.8888888888888888,\"#fdca26\"],[1.0,\"#f0f921\"]]}],\"contourcarpet\":[{\"type\":\"contourcarpet\",\"colorbar\":{\"outlinewidth\":0,\"ticks\":\"\"}}],\"contour\":[{\"type\":\"contour\",\"colorbar\":{\"outlinewidth\":0,\"ticks\":\"\"},\"colorscale\":[[0.0,\"#0d0887\"],[0.1111111111111111,\"#46039f\"],[0.2222222222222222,\"#7201a8\"],[0.3333333333333333,\"#9c179e\"],[0.4444444444444444,\"#bd3786\"],[0.5555555555555556,\"#d8576b\"],[0.6666666666666666,\"#ed7953\"],[0.7777777777777778,\"#fb9f3a\"],[0.8888888888888888,\"#fdca26\"],[1.0,\"#f0f921\"]]}],\"surface\":[{\"type\":\"surface\",\"colorbar\":{\"outlinewidth\":0,\"ticks\":\"\"},\"colorscale\":[[0.0,\"#0d0887\"],[0.1111111111111111,\"#46039f\"],[0.2222222222222222,\"#7201a8\"],[0.3333333333333333,\"#9c179e\"],[0.4444444444444444,\"#bd3786\"],[0.5555555555555556,\"#d8576b\"],[0.6666666666666666,\"#ed7953\"],[0.7777777777777778,\"#fb9f3a\"],[0.8888888888888888,\"#fdca26\"],[1.0,\"#f0f921\"]]}],\"mesh3d\":[{\"type\":\"mesh3d\",\"colorbar\":{\"outlinewidth\":0,\"ticks\":\"\"}}],\"scatter\":[{\"fillpattern\":{\"fillmode\":\"overlay\",\"size\":10,\"solidity\":0.2},\"type\":\"scatter\"}],\"parcoords\":[{\"type\":\"parcoords\",\"line\":{\"colorbar\":{\"outlinewidth\":0,\"ticks\":\"\"}}}],\"scatterpolargl\":[{\"type\":\"scatterpolargl\",\"marker\":{\"colorbar\":{\"outlinewidth\":0,\"ticks\":\"\"}}}],\"bar\":[{\"error_x\":{\"color\":\"#2a3f5f\"},\"error_y\":{\"color\":\"#2a3f5f\"},\"marker\":{\"line\":{\"color\":\"#E5ECF6\",\"width\":0.5},\"pattern\":{\"fillmode\":\"overlay\",\"size\":10,\"solidity\":0.2}},\"type\":\"bar\"}],\"scattergeo\":[{\"type\":\"scattergeo\",\"marker\":{\"colorbar\":{\"outlinewidth\":0,\"ticks\":\"\"}}}],\"scatterpolar\":[{\"type\":\"scatterpolar\",\"marker\":{\"colorbar\":{\"outlinewidth\":0,\"ticks\":\"\"}}}],\"histogram\":[{\"marker\":{\"pattern\":{\"fillmode\":\"overlay\",\"size\":10,\"solidity\":0.2}},\"type\":\"histogram\"}],\"scattergl\":[{\"type\":\"scattergl\",\"marker\":{\"colorbar\":{\"outlinewidth\":0,\"ticks\":\"\"}}}],\"scatter3d\":[{\"type\":\"scatter3d\",\"line\":{\"colorbar\":{\"outlinewidth\":0,\"ticks\":\"\"}},\"marker\":{\"colorbar\":{\"outlinewidth\":0,\"ticks\":\"\"}}}],\"scattermapbox\":[{\"type\":\"scattermapbox\",\"marker\":{\"colorbar\":{\"outlinewidth\":0,\"ticks\":\"\"}}}],\"scatterternary\":[{\"type\":\"scatterternary\",\"marker\":{\"colorbar\":{\"outlinewidth\":0,\"ticks\":\"\"}}}],\"scattercarpet\":[{\"type\":\"scattercarpet\",\"marker\":{\"colorbar\":{\"outlinewidth\":0,\"ticks\":\"\"}}}],\"carpet\":[{\"aaxis\":{\"endlinecolor\":\"#2a3f5f\",\"gridcolor\":\"white\",\"linecolor\":\"white\",\"minorgridcolor\":\"white\",\"startlinecolor\":\"#2a3f5f\"},\"baxis\":{\"endlinecolor\":\"#2a3f5f\",\"gridcolor\":\"white\",\"linecolor\":\"white\",\"minorgridcolor\":\"white\",\"startlinecolor\":\"#2a3f5f\"},\"type\":\"carpet\"}],\"table\":[{\"cells\":{\"fill\":{\"color\":\"#EBF0F8\"},\"line\":{\"color\":\"white\"}},\"header\":{\"fill\":{\"color\":\"#C8D4E3\"},\"line\":{\"color\":\"white\"}},\"type\":\"table\"}],\"barpolar\":[{\"marker\":{\"line\":{\"color\":\"#E5ECF6\",\"width\":0.5},\"pattern\":{\"fillmode\":\"overlay\",\"size\":10,\"solidity\":0.2}},\"type\":\"barpolar\"}],\"pie\":[{\"automargin\":true,\"type\":\"pie\"}]},\"layout\":{\"autotypenumbers\":\"strict\",\"colorway\":[\"#636efa\",\"#EF553B\",\"#00cc96\",\"#ab63fa\",\"#FFA15A\",\"#19d3f3\",\"#FF6692\",\"#B6E880\",\"#FF97FF\",\"#FECB52\"],\"font\":{\"color\":\"#2a3f5f\"},\"hovermode\":\"closest\",\"hoverlabel\":{\"align\":\"left\"},\"paper_bgcolor\":\"white\",\"plot_bgcolor\":\"#E5ECF6\",\"polar\":{\"bgcolor\":\"#E5ECF6\",\"angularaxis\":{\"gridcolor\":\"white\",\"linecolor\":\"white\",\"ticks\":\"\"},\"radialaxis\":{\"gridcolor\":\"white\",\"linecolor\":\"white\",\"ticks\":\"\"}},\"ternary\":{\"bgcolor\":\"#E5ECF6\",\"aaxis\":{\"gridcolor\":\"white\",\"linecolor\":\"white\",\"ticks\":\"\"},\"baxis\":{\"gridcolor\":\"white\",\"linecolor\":\"white\",\"ticks\":\"\"},\"caxis\":{\"gridcolor\":\"white\",\"linecolor\":\"white\",\"ticks\":\"\"}},\"coloraxis\":{\"colorbar\":{\"outlinewidth\":0,\"ticks\":\"\"}},\"colorscale\":{\"sequential\":[[0.0,\"#0d0887\"],[0.1111111111111111,\"#46039f\"],[0.2222222222222222,\"#7201a8\"],[0.3333333333333333,\"#9c179e\"],[0.4444444444444444,\"#bd3786\"],[0.5555555555555556,\"#d8576b\"],[0.6666666666666666,\"#ed7953\"],[0.7777777777777778,\"#fb9f3a\"],[0.8888888888888888,\"#fdca26\"],[1.0,\"#f0f921\"]],\"sequentialminus\":[[0.0,\"#0d0887\"],[0.1111111111111111,\"#46039f\"],[0.2222222222222222,\"#7201a8\"],[0.3333333333333333,\"#9c179e\"],[0.4444444444444444,\"#bd3786\"],[0.5555555555555556,\"#d8576b\"],[0.6666666666666666,\"#ed7953\"],[0.7777777777777778,\"#fb9f3a\"],[0.8888888888888888,\"#fdca26\"],[1.0,\"#f0f921\"]],\"diverging\":[[0,\"#8e0152\"],[0.1,\"#c51b7d\"],[0.2,\"#de77ae\"],[0.3,\"#f1b6da\"],[0.4,\"#fde0ef\"],[0.5,\"#f7f7f7\"],[0.6,\"#e6f5d0\"],[0.7,\"#b8e186\"],[0.8,\"#7fbc41\"],[0.9,\"#4d9221\"],[1,\"#276419\"]]},\"xaxis\":{\"gridcolor\":\"white\",\"linecolor\":\"white\",\"ticks\":\"\",\"title\":{\"standoff\":15},\"zerolinecolor\":\"white\",\"automargin\":true,\"zerolinewidth\":2},\"yaxis\":{\"gridcolor\":\"white\",\"linecolor\":\"white\",\"ticks\":\"\",\"title\":{\"standoff\":15},\"zerolinecolor\":\"white\",\"automargin\":true,\"zerolinewidth\":2},\"scene\":{\"xaxis\":{\"backgroundcolor\":\"#E5ECF6\",\"gridcolor\":\"white\",\"linecolor\":\"white\",\"showbackground\":true,\"ticks\":\"\",\"zerolinecolor\":\"white\",\"gridwidth\":2},\"yaxis\":{\"backgroundcolor\":\"#E5ECF6\",\"gridcolor\":\"white\",\"linecolor\":\"white\",\"showbackground\":true,\"ticks\":\"\",\"zerolinecolor\":\"white\",\"gridwidth\":2},\"zaxis\":{\"backgroundcolor\":\"#E5ECF6\",\"gridcolor\":\"white\",\"linecolor\":\"white\",\"showbackground\":true,\"ticks\":\"\",\"zerolinecolor\":\"white\",\"gridwidth\":2}},\"shapedefaults\":{\"line\":{\"color\":\"#2a3f5f\"}},\"annotationdefaults\":{\"arrowcolor\":\"#2a3f5f\",\"arrowhead\":0,\"arrowwidth\":1},\"geo\":{\"bgcolor\":\"white\",\"landcolor\":\"#E5ECF6\",\"subunitcolor\":\"white\",\"showland\":true,\"showlakes\":true,\"lakecolor\":\"white\"},\"title\":{\"x\":0.05},\"mapbox\":{\"style\":\"light\"}}},\"xaxis\":{\"anchor\":\"y\",\"domain\":[0.0,1.0],\"title\":{\"text\":\"Sentiments\"},\"categoryorder\":\"array\",\"categoryarray\":[\"positive\",\"neutral\",\"negative\"]},\"yaxis\":{\"anchor\":\"x\",\"domain\":[0.0,1.0],\"title\":{\"text\":\"Total Sentiments\"}},\"legend\":{\"title\":{\"text\":\"Sentiments\"},\"tracegroupgap\":0},\"margin\":{\"t\":30,\"r\":0,\"l\":0,\"b\":0},\"barmode\":\"relative\",\"title\":{\"text\":\"Distribution of Sentiments Results\"}},                        {\"responsive\": true}                    ).then(function(){\n",
       "                            \n",
       "var gd = document.getElementById('3bb3e6ad-8e2a-488a-ae53-dda59ad06b7b');\n",
       "var x = new MutationObserver(function (mutations, observer) {{\n",
       "        var display = window.getComputedStyle(gd).display;\n",
       "        if (!display || display === 'none') {{\n",
       "            console.log([gd, 'removed!']);\n",
       "            Plotly.purge(gd);\n",
       "            observer.disconnect();\n",
       "        }}\n",
       "}});\n",
       "\n",
       "// Listen for the removal of the full notebook cells\n",
       "var notebookContainer = gd.closest('#notebook-container');\n",
       "if (notebookContainer) {{\n",
       "    x.observe(notebookContainer, {childList: true});\n",
       "}}\n",
       "\n",
       "// Listen for the clearing of the current output cell\n",
       "var outputEl = gd.closest('.output');\n",
       "if (outputEl) {{\n",
       "    x.observe(outputEl, {childList: true});\n",
       "}}\n",
       "\n",
       "                        })                };                });            </script>        </div>"
      ]
     },
     "metadata": {},
     "output_type": "display_data"
    }
   ],
   "source": [
    "sentiments_barchart = px.bar(bar_chart, x = 'Sentiments', y='Total Sentiments', color='Sentiments')\n",
    "\n",
    "sentiments_barchart.update_layout(title='Distribution of Sentiments Results',\n",
    "                                  margin={\"r\": 0, \"t\": 30, \"l\": 0, \"b\": 0})\n",
    "\n",
    "sentiments_barchart.show() #Display plot. \n"
   ]
  },
  {
   "cell_type": "markdown",
   "id": "3255eb06-89b2-4ab1-a20b-f243840a7e91",
   "metadata": {},
   "source": [
    "<div style=\"text-align: Left; padding: 10px; background-color: #013754; color:#ffffff; font-size: 30px; box-shadow: 0px 4px 8px rgba(0, 0, 0, 0.1);\">5.0 Text Analysis / Text Mining</div>"
   ]
  },
  {
   "cell_type": "markdown",
   "id": "ff396859-5a9b-49fe-8e75-435d7d96d9ab",
   "metadata": {},
   "source": [
    "In this project, we processed text data using TextBlob to facilitate sentiment analysis. We assessed the sentiment of comments, categorizing them as positive, negative, or neutral. Leveraging these sentiment insights, we assigned sentiment scores, essentially ratings, to each comment. Moreover, we aggregated these sentiment scores to rate poems, providing an overall sentiment-based evaluation.\n",
    "\n",
    "Additionally, word cloud visualizations were generated to highlight the most frequently occurring words in the text data, facilitating the identification of prevalent themes and topics. These techniques provided valuable insights into the content of the text data, allowing for a deeper understanding of the sentiments expressed and the key themes present within the datasets."
   ]
  },
  {
   "cell_type": "code",
   "execution_count": 368,
   "id": "462056b0-2523-42a8-843d-397e6389b82c",
   "metadata": {},
   "outputs": [
    {
     "name": "stdout",
     "output_type": "stream",
     "text": [
      "                                                  comment\n",
      "1       Wings   So filled with love and congratulation...\n",
      "2        And may it last long and be wonerful.  well p...\n",
      "3        Congrats! a bit late but nerveless happy endi...\n",
      "4        What a beautiful piece. Thank you so much for...\n",
      "5         Wow* wonderful. I loved the way you penned down\n",
      "...                                                   ...\n",
      "159367                                                NaN\n",
      "159368                                   Amen   Nice job.\n",
      "159369                                                NaN\n",
      "159370   Lovely piece here* indeed we are in some stra...\n",
      "159371                                                NaN\n",
      "\n",
      "[159371 rows x 1 columns]\n",
      "                             adjectives\n",
      "1                                [deep]\n",
      "2       [last, long, penned, uplifting]\n",
      "3                         [late, happy]\n",
      "4                     [beautiful, much]\n",
      "5                               [loved]\n",
      "...                                 ...\n",
      "159367                               []\n",
      "159368                               []\n",
      "159369                               []\n",
      "159370                 [piece, strange]\n",
      "159371                               []\n",
      "\n",
      "[159371 rows x 1 columns]\n"
     ]
    }
   ],
   "source": [
    "# Function to extract adjectives from a given text\n",
    "def extract_adjectives(text):\n",
    "    if isinstance(text, str):\n",
    "        words = word_tokenize(text) \n",
    "        words = [word for word in words if word.lower() not in stopwords.words('english')]\n",
    "        pos_tags = pos_tag(words)\n",
    "        lemmatizer = WordNetLemmatizer()\n",
    "        adjectives = [lemmatizer.lemmatize(word, pos='a') for word, pos in pos_tags if pos.startswith('JJ')]\n",
    "        return adjectives\n",
    "    else:\n",
    "        return []\n",
    "\n",
    "# Load your dataset\n",
    "df_comment = pd.read_csv('datasets/comments.csv')\n",
    "\n",
    "# Apply adjective extraction to all comments in the 'comment' column\n",
    "df_comment['adjectives'] = df_comment['comment'].apply(extract_adjectives)\n",
    "\n",
    "# Display the result\n",
    "print(df_comment[['comment']])\n",
    "print(df_comment[['adjectives']])  "
   ]
  },
  {
   "cell_type": "code",
   "execution_count": 369,
   "id": "54e98435-dd40-47a3-98bf-a516bf6cff4f",
   "metadata": {},
   "outputs": [],
   "source": [
    "# Load an image to use as a mask for the word cloud\n",
    "image_path = 'Image/il.png'\n",
    "image = Image.open(image_path)\n",
    "mask = np.array(image)"
   ]
  },
  {
   "cell_type": "code",
   "execution_count": 370,
   "id": "d2c289b7-5250-421a-ae74-b0807d1334de",
   "metadata": {},
   "outputs": [
    {
     "data": {
      "image/png": "[encoded data removed]",
      "text/plain": [
       "<Figure size 700x700 with 1 Axes>"
      ]
     },
     "metadata": {},
     "output_type": "display_data"
    },
    {
     "data": {
      "text/plain": [
       "<wordcloud.wordcloud.WordCloud at 0x1f18a71bd00>"
      ]
     },
     "execution_count": 370,
     "metadata": {},
     "output_type": "execute_result"
    }
   ],
   "source": [
    "# Assuming df is your DataFrame with the 'adjectives' column\n",
    "\n",
    "# Combine all adjectives into a single string\n",
    "Comments_long_string  = ' '.join(df_comment['adjectives'].dropna().astype(str))\n",
    "\n",
    "# Preprocess the text data\n",
    "translator = str.maketrans('', '', string.punctuation)\n",
    "Comments_long_string  = Comments_long_string.lower().translate(translator)\n",
    "\n",
    "# Remove stopwords \n",
    "stop_words = set(stopwords.words('english'))\n",
    "Comments_long_string  = ' '.join(word for word in Comments_long_string.split() if word not in stop_words)\n",
    "\n",
    "# Generate the word cloud\n",
    "wordcloud = WordCloud(width=50, height=50, background_color='black', collocations=False, mask = mask).generate(Comments_long_string)\n",
    "\n",
    "# Plot the Word Cloud\n",
    "plt.figure(figsize=(7, 7))\n",
    "plt.imshow(wordcloud, interpolation='bilinear')\n",
    "plt.axis('off')  # Turn off axis labels\n",
    "plt.show()\n",
    "wordcloud .to_file(\"wordcloud.png\")"
   ]
  },
  {
   "cell_type": "markdown",
   "id": "e3779423-464b-427d-b727-b5989d782c8e",
   "metadata": {},
   "source": [
    "<div style=\"text-align: Left; padding: 10px; background-color: #013754; color:#ffffff; font-size: 30px; box-shadow: 0px 4px 8px rgba(0, 0, 0, 0.1);\">6.0 Data Cleaning and Engineering </div>"
   ]
  },
  {
   "cell_type": "markdown",
   "id": "bb55917b-f9fb-4304-be30-5ef24143f153",
   "metadata": {},
   "source": [
    "The dataset contains punctuations and numbers. Words also exist in different cases which models might translate differently. Hence, the proceeding function performs cleaning by:\n",
    "\n",
    "#Removing punctuations\n",
    "\n",
    "#Changing Case to lowercase\n",
    "\n",
    "#Removing stop words\n"
   ]
  },
  {
   "cell_type": "code",
   "execution_count": 87,
   "id": "b54a428a-e69c-4581-8092-4591985af66f",
   "metadata": {},
   "outputs": [],
   "source": [
    "# Get the set of English stop words\n",
    "stop_words = set(stopwords.words('english'))\n",
    "\n",
    "# Preprocess the text data to remove stop words\n",
    "def preprocess_text(text):\n",
    "    if isinstance(text, str):\n",
    "        translator = str.maketrans('', '', string.punctuation)\n",
    "        words = text.lower().translate(translator).split()\n",
    "        filtered_words = [word for word in words if word not in stop_words]\n",
    "        return ' '.join(filtered_words)\n",
    "    elif isinstance(text, list):\n",
    "        # If the element is already a list, filter out stop words\n",
    "        return [word for word in text if word not in stop_words]\n",
    "    else:\n",
    "        return text\n",
    "\n",
    "# Apply the preprocessing function to the 'adjectives' column\n",
    "df_comment['adjectives'] = df_comment['adjectives'].apply(preprocess_text)"
   ]
  },
  {
   "cell_type": "code",
   "execution_count": 88,
   "id": "16b7026b-e237-4645-ace9-c496108dbb6f",
   "metadata": {},
   "outputs": [],
   "source": [
    "Comments_long_string = df_comment[\"adjectives\"].tolist()\n",
    "comments_list = []\n",
    "\n",
    "for text in Comments_long_string:\n",
    "    # Check if the element is a string\n",
    "    if isinstance(text, str):\n",
    "        words = text.split()\n",
    "        comments_list.extend(words)\n",
    "    # Check if the element is a list\n",
    "    elif isinstance(text, list):\n",
    "        comments_list.extend(text)"
   ]
  },
  {
   "cell_type": "markdown",
   "id": "fce3f711-2796-421a-a266-0b58d943783c",
   "metadata": {},
   "source": [
    "### Analysing top words in the wordcloud"
   ]
  },
  {
   "cell_type": "code",
   "execution_count": 89,
   "id": "ed35df16-f1a3-4700-9b98-e15e0fb1cb62",
   "metadata": {},
   "outputs": [],
   "source": [
    "# Use the Built-in Python Collections module to determine Word frequency\n",
    "counts = Counter(comments_list)\n",
    "df = pd.DataFrame.from_dict(counts, orient='index').reset_index()\n",
    "df.columns = ['Words', 'Count']\n",
    "df.sort_values(by='Count', ascending=False, inplace=True)"
   ]
  },
  {
   "cell_type": "code",
   "execution_count": 90,
   "id": "d597d1c4-0df7-4e4a-bb59-1c808315a72f",
   "metadata": {},
   "outputs": [],
   "source": [
    "df.drop(38, inplace=True)"
   ]
  },
  {
   "cell_type": "code",
   "execution_count": 91,
   "id": "63258175-cdf4-4723-8f99-abf3bd52ab7d",
   "metadata": {},
   "outputs": [
    {
     "data": {
      "text/html": [
       "<div>\n",
       "<style scoped>\n",
       "    .dataframe tbody tr th:only-of-type {\n",
       "        vertical-align: middle;\n",
       "    }\n",
       "\n",
       "    .dataframe tbody tr th {\n",
       "        vertical-align: top;\n",
       "    }\n",
       "\n",
       "    .dataframe thead th {\n",
       "        text-align: right;\n",
       "    }\n",
       "</style>\n",
       "<table border=\"1\" class=\"dataframe\">\n",
       "  <thead>\n",
       "    <tr style=\"text-align: right;\">\n",
       "      <th></th>\n",
       "      <th>Words</th>\n",
       "      <th>Count</th>\n",
       "    </tr>\n",
       "  </thead>\n",
       "  <tbody>\n",
       "    <tr>\n",
       "      <th>8</th>\n",
       "      <td>much</td>\n",
       "      <td>13019</td>\n",
       "    </tr>\n",
       "    <tr>\n",
       "      <th>10</th>\n",
       "      <td>good</td>\n",
       "      <td>9730</td>\n",
       "    </tr>\n",
       "    <tr>\n",
       "      <th>14</th>\n",
       "      <td>great</td>\n",
       "      <td>8576</td>\n",
       "    </tr>\n",
       "    <tr>\n",
       "      <th>7</th>\n",
       "      <td>beautiful</td>\n",
       "      <td>5919</td>\n",
       "    </tr>\n",
       "    <tr>\n",
       "      <th>50</th>\n",
       "      <td>nice</td>\n",
       "      <td>4104</td>\n",
       "    </tr>\n",
       "    <tr>\n",
       "      <th>21</th>\n",
       "      <td>write</td>\n",
       "      <td>4000</td>\n",
       "    </tr>\n",
       "    <tr>\n",
       "      <th>80</th>\n",
       "      <td>poem</td>\n",
       "      <td>3553</td>\n",
       "    </tr>\n",
       "    <tr>\n",
       "      <th>40</th>\n",
       "      <td>Good</td>\n",
       "      <td>3421</td>\n",
       "    </tr>\n",
       "    <tr>\n",
       "      <th>37</th>\n",
       "      <td>many</td>\n",
       "      <td>3412</td>\n",
       "    </tr>\n",
       "    <tr>\n",
       "      <th>86</th>\n",
       "      <td>wonderful</td>\n",
       "      <td>3311</td>\n",
       "    </tr>\n",
       "  </tbody>\n",
       "</table>\n",
       "</div>"
      ],
      "text/plain": [
       "        Words  Count\n",
       "8        much  13019\n",
       "10       good   9730\n",
       "14      great   8576\n",
       "7   beautiful   5919\n",
       "50       nice   4104\n",
       "21      write   4000\n",
       "80       poem   3553\n",
       "40       Good   3421\n",
       "37       many   3412\n",
       "86  wonderful   3311"
      ]
     },
     "execution_count": 91,
     "metadata": {},
     "output_type": "execute_result"
    }
   ],
   "source": [
    "df.head(10)"
   ]
  },
  {
   "cell_type": "markdown",
   "id": "646e32f1-e9b4-4012-b609-34ff822dc5b2",
   "metadata": {},
   "source": [
    "## Graphical Representation of the Most Common 10 Words "
   ]
  },
  {
   "cell_type": "code",
   "execution_count": 92,
   "id": "091631bf-9837-438b-9243-048c5911f496",
   "metadata": {},
   "outputs": [
    {
     "data": {
      "application/vnd.plotly.v1+json": {
       "config": {
        "plotlyServerURL": "https://plot.ly"
       },
       "data": [
        {
         "marker": {
          "color": "rgba(66,146,198, 1)",
          "line": {
           "color": "Black"
          }
         },
         "name": "Bar Chart",
         "orientation": "h",
         "type": "bar",
         "x": [
          13019,
          9730,
          8576,
          5919,
          4104,
          4000,
          3553,
          3421,
          3412,
          3311
         ],
         "xaxis": "x",
         "y": [
          "much",
          "good",
          "great",
          "beautiful",
          "nice",
          "write",
          "poem",
          "Good",
          "many",
          "wonderful"
         ],
         "yaxis": "y"
        },
        {
         "domain": {
          "x": [
           0.55,
           1
          ],
          "y": [
           0,
           1
          ]
         },
         "insidetextorientation": "radial",
         "labels": [
          "much",
          "good",
          "great",
          "beautiful",
          "nice",
          "write",
          "poem",
          "Good",
          "many",
          "wonderful"
         ],
         "marker": {
          "colors": [
           "rgb(8,48,107)",
           "rgb(8,81,156)",
           "rgb(33,113,181)",
           "rgb(66,146,198)",
           "rgb(107,174,214)",
           "rgb(158,202,225)",
           "rgb(198,219,239)",
           "rgb(222,235,247)",
           "rgb(247,251,255)",
           "rgb(247,253,255)"
          ],
          "line": {
           "color": "DarkSlateGrey"
          }
         },
         "name": "Pie Chart",
         "textinfo": "label+percent",
         "type": "pie",
         "values": [
          13019,
          9730,
          8576,
          5919,
          4104,
          4000,
          3553,
          3421,
          3412,
          3311,
          2716,
          2532,
          2430,
          2371,
          2204
         ]
        }
       ],
       "layout": {
        "annotations": [
         {
          "showarrow": false,
          "text": "13019",
          "x": 13369,
          "xref": "x",
          "y": "much",
          "yref": "y"
         },
         {
          "showarrow": false,
          "text": "9730",
          "x": 10080,
          "xref": "x",
          "y": "good",
          "yref": "y"
         },
         {
          "showarrow": false,
          "text": "8576",
          "x": 8926,
          "xref": "x",
          "y": "great",
          "yref": "y"
         },
         {
          "showarrow": false,
          "text": "5919",
          "x": 6269,
          "xref": "x",
          "y": "beautiful",
          "yref": "y"
         },
         {
          "showarrow": false,
          "text": "4104",
          "x": 4454,
          "xref": "x",
          "y": "nice",
          "yref": "y"
         },
         {
          "showarrow": false,
          "text": "4000",
          "x": 4350,
          "xref": "x",
          "y": "write",
          "yref": "y"
         },
         {
          "showarrow": false,
          "text": "3553",
          "x": 3903,
          "xref": "x",
          "y": "poem",
          "yref": "y"
         },
         {
          "showarrow": false,
          "text": "3421",
          "x": 3771,
          "xref": "x",
          "y": "Good",
          "yref": "y"
         },
         {
          "showarrow": false,
          "text": "3412",
          "x": 3762,
          "xref": "x",
          "y": "many",
          "yref": "y"
         },
         {
          "showarrow": false,
          "text": "3311",
          "x": 3661,
          "xref": "x",
          "y": "wonderful",
          "yref": "y"
         }
        ],
        "autosize": true,
        "margin": {
         "b": 70,
         "l": 100,
         "r": 20,
         "t": 70
        },
        "paper_bgcolor": "rgba(0, 0, 0, 0)",
        "plot_bgcolor": "rgba(0, 0, 0, 0)",
        "shapes": [
         {
          "line": {
           "color": "DarkSlateGrey",
           "width": 1
          },
          "type": "line",
          "x0": 0.5,
          "x1": 0.5,
          "xref": "paper",
          "y0": 0,
          "y1": 1,
          "yref": "paper"
         }
        ],
        "showlegend": false,
        "template": {
         "data": {
          "bar": [
           {
            "error_x": {
             "color": "#2a3f5f"
            },
            "error_y": {
             "color": "#2a3f5f"
            },
            "marker": {
             "line": {
              "color": "#E5ECF6",
              "width": 0.5
             },
             "pattern": {
              "fillmode": "overlay",
              "size": 10,
              "solidity": 0.2
             }
            },
            "type": "bar"
           }
          ],
          "barpolar": [
           {
            "marker": {
             "line": {
              "color": "#E5ECF6",
              "width": 0.5
             },
             "pattern": {
              "fillmode": "overlay",
              "size": 10,
              "solidity": 0.2
             }
            },
            "type": "barpolar"
           }
          ],
          "carpet": [
           {
            "aaxis": {
             "endlinecolor": "#2a3f5f",
             "gridcolor": "white",
             "linecolor": "white",
             "minorgridcolor": "white",
             "startlinecolor": "#2a3f5f"
            },
            "baxis": {
             "endlinecolor": "#2a3f5f",
             "gridcolor": "white",
             "linecolor": "white",
             "minorgridcolor": "white",
             "startlinecolor": "#2a3f5f"
            },
            "type": "carpet"
           }
          ],
          "choropleth": [
           {
            "colorbar": {
             "outlinewidth": 0,
             "ticks": ""
            },
            "type": "choropleth"
           }
          ],
          "contour": [
           {
            "colorbar": {
             "outlinewidth": 0,
             "ticks": ""
            },
            "colorscale": [
             [
              0,
              "#0d0887"
             ],
             [
              0.1111111111111111,
              "#46039f"
             ],
             [
              0.2222222222222222,
              "#7201a8"
             ],
             [
              0.3333333333333333,
              "#9c179e"
             ],
             [
              0.4444444444444444,
              "#bd3786"
             ],
             [
              0.5555555555555556,
              "#d8576b"
             ],
             [
              0.6666666666666666,
              "#ed7953"
             ],
             [
              0.7777777777777778,
              "#fb9f3a"
             ],
             [
              0.8888888888888888,
              "#fdca26"
             ],
             [
              1,
              "#f0f921"
             ]
            ],
            "type": "contour"
           }
          ],
          "contourcarpet": [
           {
            "colorbar": {
             "outlinewidth": 0,
             "ticks": ""
            },
            "type": "contourcarpet"
           }
          ],
          "heatmap": [
           {
            "colorbar": {
             "outlinewidth": 0,
             "ticks": ""
            },
            "colorscale": [
             [
              0,
              "#0d0887"
             ],
             [
              0.1111111111111111,
              "#46039f"
             ],
             [
              0.2222222222222222,
              "#7201a8"
             ],
             [
              0.3333333333333333,
              "#9c179e"
             ],
             [
              0.4444444444444444,
              "#bd3786"
             ],
             [
              0.5555555555555556,
              "#d8576b"
             ],
             [
              0.6666666666666666,
              "#ed7953"
             ],
             [
              0.7777777777777778,
              "#fb9f3a"
             ],
             [
              0.8888888888888888,
              "#fdca26"
             ],
             [
              1,
              "#f0f921"
             ]
            ],
            "type": "heatmap"
           }
          ],
          "heatmapgl": [
           {
            "colorbar": {
             "outlinewidth": 0,
             "ticks": ""
            },
            "colorscale": [
             [
              0,
              "#0d0887"
             ],
             [
              0.1111111111111111,
              "#46039f"
             ],
             [
              0.2222222222222222,
              "#7201a8"
             ],
             [
              0.3333333333333333,
              "#9c179e"
             ],
             [
              0.4444444444444444,
              "#bd3786"
             ],
             [
              0.5555555555555556,
              "#d8576b"
             ],
             [
              0.6666666666666666,
              "#ed7953"
             ],
             [
              0.7777777777777778,
              "#fb9f3a"
             ],
             [
              0.8888888888888888,
              "#fdca26"
             ],
             [
              1,
              "#f0f921"
             ]
            ],
            "type": "heatmapgl"
           }
          ],
          "histogram": [
           {
            "marker": {
             "pattern": {
              "fillmode": "overlay",
              "size": 10,
              "solidity": 0.2
             }
            },
            "type": "histogram"
           }
          ],
          "histogram2d": [
           {
            "colorbar": {
             "outlinewidth": 0,
             "ticks": ""
            },
            "colorscale": [
             [
              0,
              "#0d0887"
             ],
             [
              0.1111111111111111,
              "#46039f"
             ],
             [
              0.2222222222222222,
              "#7201a8"
             ],
             [
              0.3333333333333333,
              "#9c179e"
             ],
             [
              0.4444444444444444,
              "#bd3786"
             ],
             [
              0.5555555555555556,
              "#d8576b"
             ],
             [
              0.6666666666666666,
              "#ed7953"
             ],
             [
              0.7777777777777778,
              "#fb9f3a"
             ],
             [
              0.8888888888888888,
              "#fdca26"
             ],
             [
              1,
              "#f0f921"
             ]
            ],
            "type": "histogram2d"
           }
          ],
          "histogram2dcontour": [
           {
            "colorbar": {
             "outlinewidth": 0,
             "ticks": ""
            },
            "colorscale": [
             [
              0,
              "#0d0887"
             ],
             [
              0.1111111111111111,
              "#46039f"
             ],
             [
              0.2222222222222222,
              "#7201a8"
             ],
             [
              0.3333333333333333,
              "#9c179e"
             ],
             [
              0.4444444444444444,
              "#bd3786"
             ],
             [
              0.5555555555555556,
              "#d8576b"
             ],
             [
              0.6666666666666666,
              "#ed7953"
             ],
             [
              0.7777777777777778,
              "#fb9f3a"
             ],
             [
              0.8888888888888888,
              "#fdca26"
             ],
             [
              1,
              "#f0f921"
             ]
            ],
            "type": "histogram2dcontour"
           }
          ],
          "mesh3d": [
           {
            "colorbar": {
             "outlinewidth": 0,
             "ticks": ""
            },
            "type": "mesh3d"
           }
          ],
          "parcoords": [
           {
            "line": {
             "colorbar": {
              "outlinewidth": 0,
              "ticks": ""
             }
            },
            "type": "parcoords"
           }
          ],
          "pie": [
           {
            "automargin": true,
            "type": "pie"
           }
          ],
          "scatter": [
           {
            "fillpattern": {
             "fillmode": "overlay",
             "size": 10,
             "solidity": 0.2
            },
            "type": "scatter"
           }
          ],
          "scatter3d": [
           {
            "line": {
             "colorbar": {
              "outlinewidth": 0,
              "ticks": ""
             }
            },
            "marker": {
             "colorbar": {
              "outlinewidth": 0,
              "ticks": ""
             }
            },
            "type": "scatter3d"
           }
          ],
          "scattercarpet": [
           {
            "marker": {
             "colorbar": {
              "outlinewidth": 0,
              "ticks": ""
             }
            },
            "type": "scattercarpet"
           }
          ],
          "scattergeo": [
           {
            "marker": {
             "colorbar": {
              "outlinewidth": 0,
              "ticks": ""
             }
            },
            "type": "scattergeo"
           }
          ],
          "scattergl": [
           {
            "marker": {
             "colorbar": {
              "outlinewidth": 0,
              "ticks": ""
             }
            },
            "type": "scattergl"
           }
          ],
          "scattermapbox": [
           {
            "marker": {
             "colorbar": {
              "outlinewidth": 0,
              "ticks": ""
             }
            },
            "type": "scattermapbox"
           }
          ],
          "scatterpolar": [
           {
            "marker": {
             "colorbar": {
              "outlinewidth": 0,
              "ticks": ""
             }
            },
            "type": "scatterpolar"
           }
          ],
          "scatterpolargl": [
           {
            "marker": {
             "colorbar": {
              "outlinewidth": 0,
              "ticks": ""
             }
            },
            "type": "scatterpolargl"
           }
          ],
          "scatterternary": [
           {
            "marker": {
             "colorbar": {
              "outlinewidth": 0,
              "ticks": ""
             }
            },
            "type": "scatterternary"
           }
          ],
          "surface": [
           {
            "colorbar": {
             "outlinewidth": 0,
             "ticks": ""
            },
            "colorscale": [
             [
              0,
              "#0d0887"
             ],
             [
              0.1111111111111111,
              "#46039f"
             ],
             [
              0.2222222222222222,
              "#7201a8"
             ],
             [
              0.3333333333333333,
              "#9c179e"
             ],
             [
              0.4444444444444444,
              "#bd3786"
             ],
             [
              0.5555555555555556,
              "#d8576b"
             ],
             [
              0.6666666666666666,
              "#ed7953"
             ],
             [
              0.7777777777777778,
              "#fb9f3a"
             ],
             [
              0.8888888888888888,
              "#fdca26"
             ],
             [
              1,
              "#f0f921"
             ]
            ],
            "type": "surface"
           }
          ],
          "table": [
           {
            "cells": {
             "fill": {
              "color": "#EBF0F8"
             },
             "line": {
              "color": "white"
             }
            },
            "header": {
             "fill": {
              "color": "#C8D4E3"
             },
             "line": {
              "color": "white"
             }
            },
            "type": "table"
           }
          ]
         },
         "layout": {
          "annotationdefaults": {
           "arrowcolor": "#2a3f5f",
           "arrowhead": 0,
           "arrowwidth": 1
          },
          "autotypenumbers": "strict",
          "coloraxis": {
           "colorbar": {
            "outlinewidth": 0,
            "ticks": ""
           }
          },
          "colorscale": {
           "diverging": [
            [
             0,
             "#8e0152"
            ],
            [
             0.1,
             "#c51b7d"
            ],
            [
             0.2,
             "#de77ae"
            ],
            [
             0.3,
             "#f1b6da"
            ],
            [
             0.4,
             "#fde0ef"
            ],
            [
             0.5,
             "#f7f7f7"
            ],
            [
             0.6,
             "#e6f5d0"
            ],
            [
             0.7,
             "#b8e186"
            ],
            [
             0.8,
             "#7fbc41"
            ],
            [
             0.9,
             "#4d9221"
            ],
            [
             1,
             "#276419"
            ]
           ],
           "sequential": [
            [
             0,
             "#0d0887"
            ],
            [
             0.1111111111111111,
             "#46039f"
            ],
            [
             0.2222222222222222,
             "#7201a8"
            ],
            [
             0.3333333333333333,
             "#9c179e"
            ],
            [
             0.4444444444444444,
             "#bd3786"
            ],
            [
             0.5555555555555556,
             "#d8576b"
            ],
            [
             0.6666666666666666,
             "#ed7953"
            ],
            [
             0.7777777777777778,
             "#fb9f3a"
            ],
            [
             0.8888888888888888,
             "#fdca26"
            ],
            [
             1,
             "#f0f921"
            ]
           ],
           "sequentialminus": [
            [
             0,
             "#0d0887"
            ],
            [
             0.1111111111111111,
             "#46039f"
            ],
            [
             0.2222222222222222,
             "#7201a8"
            ],
            [
             0.3333333333333333,
             "#9c179e"
            ],
            [
             0.4444444444444444,
             "#bd3786"
            ],
            [
             0.5555555555555556,
             "#d8576b"
            ],
            [
             0.6666666666666666,
             "#ed7953"
            ],
            [
             0.7777777777777778,
             "#fb9f3a"
            ],
            [
             0.8888888888888888,
             "#fdca26"
            ],
            [
             1,
             "#f0f921"
            ]
           ]
          },
          "colorway": [
           "#636efa",
           "#EF553B",
           "#00cc96",
           "#ab63fa",
           "#FFA15A",
           "#19d3f3",
           "#FF6692",
           "#B6E880",
           "#FF97FF",
           "#FECB52"
          ],
          "font": {
           "color": "#2a3f5f"
          },
          "geo": {
           "bgcolor": "white",
           "lakecolor": "white",
           "landcolor": "#E5ECF6",
           "showlakes": true,
           "showland": true,
           "subunitcolor": "white"
          },
          "hoverlabel": {
           "align": "left"
          },
          "hovermode": "closest",
          "mapbox": {
           "style": "light"
          },
          "paper_bgcolor": "white",
          "plot_bgcolor": "#E5ECF6",
          "polar": {
           "angularaxis": {
            "gridcolor": "white",
            "linecolor": "white",
            "ticks": ""
           },
           "bgcolor": "#E5ECF6",
           "radialaxis": {
            "gridcolor": "white",
            "linecolor": "white",
            "ticks": ""
           }
          },
          "scene": {
           "xaxis": {
            "backgroundcolor": "#E5ECF6",
            "gridcolor": "white",
            "gridwidth": 2,
            "linecolor": "white",
            "showbackground": true,
            "ticks": "",
            "zerolinecolor": "white"
           },
           "yaxis": {
            "backgroundcolor": "#E5ECF6",
            "gridcolor": "white",
            "gridwidth": 2,
            "linecolor": "white",
            "showbackground": true,
            "ticks": "",
            "zerolinecolor": "white"
           },
           "zaxis": {
            "backgroundcolor": "#E5ECF6",
            "gridcolor": "white",
            "gridwidth": 2,
            "linecolor": "white",
            "showbackground": true,
            "ticks": "",
            "zerolinecolor": "white"
           }
          },
          "shapedefaults": {
           "line": {
            "color": "#2a3f5f"
           }
          },
          "ternary": {
           "aaxis": {
            "gridcolor": "white",
            "linecolor": "white",
            "ticks": ""
           },
           "baxis": {
            "gridcolor": "white",
            "linecolor": "white",
            "ticks": ""
           },
           "bgcolor": "#E5ECF6",
           "caxis": {
            "gridcolor": "white",
            "linecolor": "white",
            "ticks": ""
           }
          },
          "title": {
           "x": 0.05
          },
          "xaxis": {
           "automargin": true,
           "gridcolor": "white",
           "linecolor": "white",
           "ticks": "",
           "title": {
            "standoff": 15
           },
           "zerolinecolor": "white",
           "zerolinewidth": 2
          },
          "yaxis": {
           "automargin": true,
           "gridcolor": "white",
           "linecolor": "white",
           "ticks": "",
           "title": {
            "standoff": 15
           },
           "zerolinecolor": "white",
           "zerolinewidth": 2
          }
         }
        },
        "title": {
         "font": {
          "size": 18
         },
         "text": "Rating of Poems <i>(10 Most Common Words)</i>"
        },
        "xaxis": {
         "anchor": "y",
         "autorange": true,
         "domain": [
          0,
          0.42
         ],
         "range": [
          0,
          14128.057494621085
         ],
         "showgrid": true,
         "showline": false,
         "showticklabels": true,
         "title": {
          "font": {
           "size": 14
          },
          "text": "Word Count"
         },
         "type": "linear",
         "zeroline": false
        },
        "yaxis": {
         "anchor": "x",
         "autorange": true,
         "categoryorder": "total ascending",
         "domain": [
          0,
          1
         ],
         "range": [
          -0.5,
          9.5
         ],
         "showgrid": false,
         "showline": false,
         "showticklabels": true,
         "title": {
          "font": {
           "size": 14
          },
          "text": "Common Words"
         },
         "type": "category"
        }
       }
      },
      "image/png": "[encoded data removed]",
      "text/html": [
       "<div>                            <div id=\"1ad1b6a8-24c3-487f-9aad-cf6eb9d9d19d\" class=\"plotly-graph-div\" style=\"height:525px; width:100%;\"></div>            <script type=\"text/javascript\">                require([\"plotly\"], function(Plotly) {                    window.PLOTLYENV=window.PLOTLYENV || {};                                    if (document.getElementById(\"1ad1b6a8-24c3-487f-9aad-cf6eb9d9d19d\")) {                    Plotly.newPlot(                        \"1ad1b6a8-24c3-487f-9aad-cf6eb9d9d19d\",                        [{\"marker\":{\"color\":\"rgba(66,146,198, 1)\",\"line\":{\"color\":\"Black\"}},\"name\":\"Bar Chart\",\"orientation\":\"h\",\"x\":[13019,9730,8576,5919,4104,4000,3553,3421,3412,3311],\"y\":[\"much\",\"good\",\"great\",\"beautiful\",\"nice\",\"write\",\"poem\",\"Good\",\"many\",\"wonderful\"],\"type\":\"bar\",\"xaxis\":\"x\",\"yaxis\":\"y\"},{\"insidetextorientation\":\"radial\",\"labels\":[\"much\",\"good\",\"great\",\"beautiful\",\"nice\",\"write\",\"poem\",\"Good\",\"many\",\"wonderful\"],\"marker\":{\"colors\":[\"rgb(8,48,107)\",\"rgb(8,81,156)\",\"rgb(33,113,181)\",\"rgb(66,146,198)\",\"rgb(107,174,214)\",\"rgb(158,202,225)\",\"rgb(198,219,239)\",\"rgb(222,235,247)\",\"rgb(247,251,255)\",\"rgb(247,253,255)\"],\"line\":{\"color\":\"DarkSlateGrey\"}},\"name\":\"Pie Chart\",\"textinfo\":\"label+percent\",\"values\":[13019,9730,8576,5919,4104,4000,3553,3421,3412,3311,2716,2532,2430,2371,2204],\"type\":\"pie\",\"domain\":{\"x\":[0.55,1.0],\"y\":[0.0,1.0]}}],                        {\"template\":{\"data\":{\"histogram2dcontour\":[{\"type\":\"histogram2dcontour\",\"colorbar\":{\"outlinewidth\":0,\"ticks\":\"\"},\"colorscale\":[[0.0,\"#0d0887\"],[0.1111111111111111,\"#46039f\"],[0.2222222222222222,\"#7201a8\"],[0.3333333333333333,\"#9c179e\"],[0.4444444444444444,\"#bd3786\"],[0.5555555555555556,\"#d8576b\"],[0.6666666666666666,\"#ed7953\"],[0.7777777777777778,\"#fb9f3a\"],[0.8888888888888888,\"#fdca26\"],[1.0,\"#f0f921\"]]}],\"choropleth\":[{\"type\":\"choropleth\",\"colorbar\":{\"outlinewidth\":0,\"ticks\":\"\"}}],\"histogram2d\":[{\"type\":\"histogram2d\",\"colorbar\":{\"outlinewidth\":0,\"ticks\":\"\"},\"colorscale\":[[0.0,\"#0d0887\"],[0.1111111111111111,\"#46039f\"],[0.2222222222222222,\"#7201a8\"],[0.3333333333333333,\"#9c179e\"],[0.4444444444444444,\"#bd3786\"],[0.5555555555555556,\"#d8576b\"],[0.6666666666666666,\"#ed7953\"],[0.7777777777777778,\"#fb9f3a\"],[0.8888888888888888,\"#fdca26\"],[1.0,\"#f0f921\"]]}],\"heatmap\":[{\"type\":\"heatmap\",\"colorbar\":{\"outlinewidth\":0,\"ticks\":\"\"},\"colorscale\":[[0.0,\"#0d0887\"],[0.1111111111111111,\"#46039f\"],[0.2222222222222222,\"#7201a8\"],[0.3333333333333333,\"#9c179e\"],[0.4444444444444444,\"#bd3786\"],[0.5555555555555556,\"#d8576b\"],[0.6666666666666666,\"#ed7953\"],[0.7777777777777778,\"#fb9f3a\"],[0.8888888888888888,\"#fdca26\"],[1.0,\"#f0f921\"]]}],\"heatmapgl\":[{\"type\":\"heatmapgl\",\"colorbar\":{\"outlinewidth\":0,\"ticks\":\"\"},\"colorscale\":[[0.0,\"#0d0887\"],[0.1111111111111111,\"#46039f\"],[0.2222222222222222,\"#7201a8\"],[0.3333333333333333,\"#9c179e\"],[0.4444444444444444,\"#bd3786\"],[0.5555555555555556,\"#d8576b\"],[0.6666666666666666,\"#ed7953\"],[0.7777777777777778,\"#fb9f3a\"],[0.8888888888888888,\"#fdca26\"],[1.0,\"#f0f921\"]]}],\"contourcarpet\":[{\"type\":\"contourcarpet\",\"colorbar\":{\"outlinewidth\":0,\"ticks\":\"\"}}],\"contour\":[{\"type\":\"contour\",\"colorbar\":{\"outlinewidth\":0,\"ticks\":\"\"},\"colorscale\":[[0.0,\"#0d0887\"],[0.1111111111111111,\"#46039f\"],[0.2222222222222222,\"#7201a8\"],[0.3333333333333333,\"#9c179e\"],[0.4444444444444444,\"#bd3786\"],[0.5555555555555556,\"#d8576b\"],[0.6666666666666666,\"#ed7953\"],[0.7777777777777778,\"#fb9f3a\"],[0.8888888888888888,\"#fdca26\"],[1.0,\"#f0f921\"]]}],\"surface\":[{\"type\":\"surface\",\"colorbar\":{\"outlinewidth\":0,\"ticks\":\"\"},\"colorscale\":[[0.0,\"#0d0887\"],[0.1111111111111111,\"#46039f\"],[0.2222222222222222,\"#7201a8\"],[0.3333333333333333,\"#9c179e\"],[0.4444444444444444,\"#bd3786\"],[0.5555555555555556,\"#d8576b\"],[0.6666666666666666,\"#ed7953\"],[0.7777777777777778,\"#fb9f3a\"],[0.8888888888888888,\"#fdca26\"],[1.0,\"#f0f921\"]]}],\"mesh3d\":[{\"type\":\"mesh3d\",\"colorbar\":{\"outlinewidth\":0,\"ticks\":\"\"}}],\"scatter\":[{\"fillpattern\":{\"fillmode\":\"overlay\",\"size\":10,\"solidity\":0.2},\"type\":\"scatter\"}],\"parcoords\":[{\"type\":\"parcoords\",\"line\":{\"colorbar\":{\"outlinewidth\":0,\"ticks\":\"\"}}}],\"scatterpolargl\":[{\"type\":\"scatterpolargl\",\"marker\":{\"colorbar\":{\"outlinewidth\":0,\"ticks\":\"\"}}}],\"bar\":[{\"error_x\":{\"color\":\"#2a3f5f\"},\"error_y\":{\"color\":\"#2a3f5f\"},\"marker\":{\"line\":{\"color\":\"#E5ECF6\",\"width\":0.5},\"pattern\":{\"fillmode\":\"overlay\",\"size\":10,\"solidity\":0.2}},\"type\":\"bar\"}],\"scattergeo\":[{\"type\":\"scattergeo\",\"marker\":{\"colorbar\":{\"outlinewidth\":0,\"ticks\":\"\"}}}],\"scatterpolar\":[{\"type\":\"scatterpolar\",\"marker\":{\"colorbar\":{\"outlinewidth\":0,\"ticks\":\"\"}}}],\"histogram\":[{\"marker\":{\"pattern\":{\"fillmode\":\"overlay\",\"size\":10,\"solidity\":0.2}},\"type\":\"histogram\"}],\"scattergl\":[{\"type\":\"scattergl\",\"marker\":{\"colorbar\":{\"outlinewidth\":0,\"ticks\":\"\"}}}],\"scatter3d\":[{\"type\":\"scatter3d\",\"line\":{\"colorbar\":{\"outlinewidth\":0,\"ticks\":\"\"}},\"marker\":{\"colorbar\":{\"outlinewidth\":0,\"ticks\":\"\"}}}],\"scattermapbox\":[{\"type\":\"scattermapbox\",\"marker\":{\"colorbar\":{\"outlinewidth\":0,\"ticks\":\"\"}}}],\"scatterternary\":[{\"type\":\"scatterternary\",\"marker\":{\"colorbar\":{\"outlinewidth\":0,\"ticks\":\"\"}}}],\"scattercarpet\":[{\"type\":\"scattercarpet\",\"marker\":{\"colorbar\":{\"outlinewidth\":0,\"ticks\":\"\"}}}],\"carpet\":[{\"aaxis\":{\"endlinecolor\":\"#2a3f5f\",\"gridcolor\":\"white\",\"linecolor\":\"white\",\"minorgridcolor\":\"white\",\"startlinecolor\":\"#2a3f5f\"},\"baxis\":{\"endlinecolor\":\"#2a3f5f\",\"gridcolor\":\"white\",\"linecolor\":\"white\",\"minorgridcolor\":\"white\",\"startlinecolor\":\"#2a3f5f\"},\"type\":\"carpet\"}],\"table\":[{\"cells\":{\"fill\":{\"color\":\"#EBF0F8\"},\"line\":{\"color\":\"white\"}},\"header\":{\"fill\":{\"color\":\"#C8D4E3\"},\"line\":{\"color\":\"white\"}},\"type\":\"table\"}],\"barpolar\":[{\"marker\":{\"line\":{\"color\":\"#E5ECF6\",\"width\":0.5},\"pattern\":{\"fillmode\":\"overlay\",\"size\":10,\"solidity\":0.2}},\"type\":\"barpolar\"}],\"pie\":[{\"automargin\":true,\"type\":\"pie\"}]},\"layout\":{\"autotypenumbers\":\"strict\",\"colorway\":[\"#636efa\",\"#EF553B\",\"#00cc96\",\"#ab63fa\",\"#FFA15A\",\"#19d3f3\",\"#FF6692\",\"#B6E880\",\"#FF97FF\",\"#FECB52\"],\"font\":{\"color\":\"#2a3f5f\"},\"hovermode\":\"closest\",\"hoverlabel\":{\"align\":\"left\"},\"paper_bgcolor\":\"white\",\"plot_bgcolor\":\"#E5ECF6\",\"polar\":{\"bgcolor\":\"#E5ECF6\",\"angularaxis\":{\"gridcolor\":\"white\",\"linecolor\":\"white\",\"ticks\":\"\"},\"radialaxis\":{\"gridcolor\":\"white\",\"linecolor\":\"white\",\"ticks\":\"\"}},\"ternary\":{\"bgcolor\":\"#E5ECF6\",\"aaxis\":{\"gridcolor\":\"white\",\"linecolor\":\"white\",\"ticks\":\"\"},\"baxis\":{\"gridcolor\":\"white\",\"linecolor\":\"white\",\"ticks\":\"\"},\"caxis\":{\"gridcolor\":\"white\",\"linecolor\":\"white\",\"ticks\":\"\"}},\"coloraxis\":{\"colorbar\":{\"outlinewidth\":0,\"ticks\":\"\"}},\"colorscale\":{\"sequential\":[[0.0,\"#0d0887\"],[0.1111111111111111,\"#46039f\"],[0.2222222222222222,\"#7201a8\"],[0.3333333333333333,\"#9c179e\"],[0.4444444444444444,\"#bd3786\"],[0.5555555555555556,\"#d8576b\"],[0.6666666666666666,\"#ed7953\"],[0.7777777777777778,\"#fb9f3a\"],[0.8888888888888888,\"#fdca26\"],[1.0,\"#f0f921\"]],\"sequentialminus\":[[0.0,\"#0d0887\"],[0.1111111111111111,\"#46039f\"],[0.2222222222222222,\"#7201a8\"],[0.3333333333333333,\"#9c179e\"],[0.4444444444444444,\"#bd3786\"],[0.5555555555555556,\"#d8576b\"],[0.6666666666666666,\"#ed7953\"],[0.7777777777777778,\"#fb9f3a\"],[0.8888888888888888,\"#fdca26\"],[1.0,\"#f0f921\"]],\"diverging\":[[0,\"#8e0152\"],[0.1,\"#c51b7d\"],[0.2,\"#de77ae\"],[0.3,\"#f1b6da\"],[0.4,\"#fde0ef\"],[0.5,\"#f7f7f7\"],[0.6,\"#e6f5d0\"],[0.7,\"#b8e186\"],[0.8,\"#7fbc41\"],[0.9,\"#4d9221\"],[1,\"#276419\"]]},\"xaxis\":{\"gridcolor\":\"white\",\"linecolor\":\"white\",\"ticks\":\"\",\"title\":{\"standoff\":15},\"zerolinecolor\":\"white\",\"automargin\":true,\"zerolinewidth\":2},\"yaxis\":{\"gridcolor\":\"white\",\"linecolor\":\"white\",\"ticks\":\"\",\"title\":{\"standoff\":15},\"zerolinecolor\":\"white\",\"automargin\":true,\"zerolinewidth\":2},\"scene\":{\"xaxis\":{\"backgroundcolor\":\"#E5ECF6\",\"gridcolor\":\"white\",\"linecolor\":\"white\",\"showbackground\":true,\"ticks\":\"\",\"zerolinecolor\":\"white\",\"gridwidth\":2},\"yaxis\":{\"backgroundcolor\":\"#E5ECF6\",\"gridcolor\":\"white\",\"linecolor\":\"white\",\"showbackground\":true,\"ticks\":\"\",\"zerolinecolor\":\"white\",\"gridwidth\":2},\"zaxis\":{\"backgroundcolor\":\"#E5ECF6\",\"gridcolor\":\"white\",\"linecolor\":\"white\",\"showbackground\":true,\"ticks\":\"\",\"zerolinecolor\":\"white\",\"gridwidth\":2}},\"shapedefaults\":{\"line\":{\"color\":\"#2a3f5f\"}},\"annotationdefaults\":{\"arrowcolor\":\"#2a3f5f\",\"arrowhead\":0,\"arrowwidth\":1},\"geo\":{\"bgcolor\":\"white\",\"landcolor\":\"#E5ECF6\",\"subunitcolor\":\"white\",\"showland\":true,\"showlakes\":true,\"lakecolor\":\"white\"},\"title\":{\"x\":0.05},\"mapbox\":{\"style\":\"light\"}}},\"xaxis\":{\"anchor\":\"y\",\"domain\":[0,0.42],\"title\":{\"font\":{\"size\":14},\"text\":\"Word Count\"},\"zeroline\":false,\"showline\":false,\"showticklabels\":true,\"showgrid\":true},\"yaxis\":{\"anchor\":\"x\",\"domain\":[0.0,1.0],\"title\":{\"font\":{\"size\":14},\"text\":\"Common Words\"},\"showgrid\":false,\"showline\":false,\"showticklabels\":true,\"categoryorder\":\"total ascending\"},\"shapes\":[{\"type\":\"line\",\"x0\":0.5,\"x1\":0.5,\"xref\":\"paper\",\"y0\":0,\"y1\":1.0,\"yref\":\"paper\",\"line\":{\"color\":\"DarkSlateGrey\",\"width\":1}}],\"title\":{\"font\":{\"size\":18},\"text\":\"Rating of Poems \\u003ci\\u003e(10 Most Common Words)\\u003c\\u002fi\\u003e\"},\"showlegend\":false,\"margin\":{\"l\":100,\"r\":20,\"t\":70,\"b\":70},\"paper_bgcolor\":\"rgba(0,0,0,0)\",\"plot_bgcolor\":\"rgba(0,0,0,0)\",\"annotations\":[{\"showarrow\":false,\"text\":\"13019\",\"x\":13369,\"xref\":\"x\",\"y\":\"much\",\"yref\":\"y\"},{\"showarrow\":false,\"text\":\"9730\",\"x\":10080,\"xref\":\"x\",\"y\":\"good\",\"yref\":\"y\"},{\"showarrow\":false,\"text\":\"8576\",\"x\":8926,\"xref\":\"x\",\"y\":\"great\",\"yref\":\"y\"},{\"showarrow\":false,\"text\":\"5919\",\"x\":6269,\"xref\":\"x\",\"y\":\"beautiful\",\"yref\":\"y\"},{\"showarrow\":false,\"text\":\"4104\",\"x\":4454,\"xref\":\"x\",\"y\":\"nice\",\"yref\":\"y\"},{\"showarrow\":false,\"text\":\"4000\",\"x\":4350,\"xref\":\"x\",\"y\":\"write\",\"yref\":\"y\"},{\"showarrow\":false,\"text\":\"3553\",\"x\":3903,\"xref\":\"x\",\"y\":\"poem\",\"yref\":\"y\"},{\"showarrow\":false,\"text\":\"3421\",\"x\":3771,\"xref\":\"x\",\"y\":\"Good\",\"yref\":\"y\"},{\"showarrow\":false,\"text\":\"3412\",\"x\":3762,\"xref\":\"x\",\"y\":\"many\",\"yref\":\"y\"},{\"showarrow\":false,\"text\":\"3311\",\"x\":3661,\"xref\":\"x\",\"y\":\"wonderful\",\"yref\":\"y\"}]},                        {\"responsive\": true}                    ).then(function(){\n",
       "                            \n",
       "var gd = document.getElementById('1ad1b6a8-24c3-487f-9aad-cf6eb9d9d19d');\n",
       "var x = new MutationObserver(function (mutations, observer) {{\n",
       "        var display = window.getComputedStyle(gd).display;\n",
       "        if (!display || display === 'none') {{\n",
       "            console.log([gd, 'removed!']);\n",
       "            Plotly.purge(gd);\n",
       "            observer.disconnect();\n",
       "        }}\n",
       "}});\n",
       "\n",
       "// Listen for the removal of the full notebook cells\n",
       "var notebookContainer = gd.closest('#notebook-container');\n",
       "if (notebookContainer) {{\n",
       "    x.observe(notebookContainer, {childList: true});\n",
       "}}\n",
       "\n",
       "// Listen for the clearing of the current output cell\n",
       "var outputEl = gd.closest('.output');\n",
       "if (outputEl) {{\n",
       "    x.observe(outputEl, {childList: true});\n",
       "}}\n",
       "\n",
       "                        })                };                });            </script>        </div>"
      ]
     },
     "metadata": {},
     "output_type": "display_data"
    }
   ],
   "source": [
    "# print(px.colors.sequential.Blues_r) to get the colour list used here. Please note, I swatched some colours\n",
    "\n",
    "# Define my colours for the Plotly Plot\n",
    "colors = ['rgb(8,48,107)', 'rgb(8,81,156)', 'rgb(33,113,181)', 'rgb(66,146,198)',\n",
    "            'rgb(107,174,214)', 'rgb(158,202,225)', 'rgb(198,219,239)',\n",
    "            'rgb(222,235,247)', 'rgb(247,251,255)', 'rgb(247,253,255)']\n",
    "\n",
    "# Set layout for Plotly Subplots\n",
    "fig = make_subplots(rows=1, cols=2, specs=[[{\"type\": \"xy\"}, { \"type\": \"domain\"}]],\n",
    "                    vertical_spacing=0.001)\n",
    "\n",
    "# Add First Plot\n",
    "fig.add_trace(go.Bar(x = df['Count'].head(10), y=df['Words'].head(10),marker=dict(color='rgba(66,146,198, 1)',\n",
    "            line=dict(color='Black'),),name='Bar Chart',orientation='h'), 1, 1)\n",
    "\n",
    "# Add Second Plot\n",
    "fig.add_trace(go.Pie(labels=df['Words'].head(10),values=df['Count'].head(15),textinfo='label+percent',\n",
    "                    insidetextorientation='radial', marker=dict(colors=colors, line=dict(color='DarkSlateGrey')),\n",
    "                    name='Pie Chart'), 1, 2)\n",
    "# customize layout\n",
    "fig.update_layout(shapes=[dict(type=\"line\",xref=\"paper\", yref=\"paper\", x0=0.5, y0=0, x1=0.5, y1=1.0,\n",
    "         line_color='DarkSlateGrey', line_width=1)])\n",
    "\n",
    "# customize plot title\n",
    "fig.update_layout(showlegend=False, title=dict(text=\"Rating of Poems <i>(10 Most Common Words)</i>\",\n",
    "                  font=dict(size=18, )))\n",
    "\n",
    "# Customize backgroound, margins, axis, title\n",
    "fig.update_layout(yaxis=dict(showgrid=False,\n",
    "                             showline=False,\n",
    "                             showticklabels=True,\n",
    "                             domain=[0, 1],\n",
    "                             categoryorder='total ascending',\n",
    "                             title=dict(text='Common Words', font_size=14)),\n",
    "                             xaxis=dict(zeroline=False,\n",
    "                             showline=False,\n",
    "                             showticklabels=True,\n",
    "                             showgrid=True,\n",
    "                             domain=[0, 0.42],\n",
    "                             title=dict(text='Word Count', font_size=14)),\n",
    "                             margin=dict(l=100, r=20, t=70, b=70),\n",
    "                             paper_bgcolor='rgba(0,0,0,0)',\n",
    "                             plot_bgcolor='rgba(0,0,0,0)')\n",
    "\n",
    "# Specify X and Y values for Annotations\n",
    "x = df['Count'].head(10).to_list()\n",
    "y = df['Words'].head(10).to_list()\n",
    "\n",
    "# Show annotations on plot\n",
    "annotations = [dict(xref='x1', yref='y1', x=xa + 350, y=ya, text=str(xa), showarrow=False) for xa, ya in zip(x, y)]\n",
    "\n",
    "fig.update_layout(annotations=annotations)\n",
    "fig.show(render = 'png')"
   ]
  },
  {
   "cell_type": "markdown",
   "id": "83f4372b-802f-47ef-937c-e5c81b3a6f18",
   "metadata": {},
   "source": [
    "<div style=\"text-align: Left; padding: 10px; background-color: #013754; color:#ffffff; font-size: 30px; box-shadow: 0px 4px 8px rgba(0, 0, 0, 0.1);\">6.0 Modelling and Evaluation</div>"
   ]
  },
  {
   "cell_type": "code",
   "execution_count": 93,
   "id": "547287e2-9e9b-49a8-bbf9-ca9b0a3d7c0d",
   "metadata": {},
   "outputs": [],
   "source": [
    "performance_table = {}"
   ]
  },
  {
   "cell_type": "code",
   "execution_count": 94,
   "id": "ddeb16bb-9436-4aa4-9e16-17cc6fa5469f",
   "metadata": {},
   "outputs": [],
   "source": [
    "model = \"Desicion Tree\", 'Random Forest', 'XGB Regression'"
   ]
  },
  {
   "cell_type": "markdown",
   "id": "5fbf04e0-baa3-436d-8d09-91659560e700",
   "metadata": {},
   "source": [
    "# 6.1 Predicting \"Rating\""
   ]
  },
  {
   "cell_type": "markdown",
   "id": "f9a4b33f-aa5a-46b4-9c95-cb8f6ed68d49",
   "metadata": {},
   "source": [
    "#### Splitting the Dataset into train and Test"
   ]
  },
  {
   "cell_type": "code",
   "execution_count": 95,
   "id": "202e6bb5-d6c6-4515-8ae6-60c2e9bfb68c",
   "metadata": {},
   "outputs": [
    {
     "data": {
      "text/plain": [
       "0        0.375730\n",
       "1        0.210417\n",
       "2        0.424306\n",
       "3        0.230141\n",
       "4        0.372956\n",
       "           ...   \n",
       "19659    0.566667\n",
       "19660    0.740000\n",
       "19661    0.529704\n",
       "19662    0.600000\n",
       "19663    0.225000\n",
       "Name: rating, Length: 19664, dtype: float64"
      ]
     },
     "execution_count": 95,
     "metadata": {},
     "output_type": "execute_result"
    }
   ],
   "source": [
    "df_main[\"rating\"]"
   ]
  },
  {
   "cell_type": "code",
   "execution_count": 118,
   "id": "62ac3147-c80d-4686-9bcc-0f0930361b3e",
   "metadata": {},
   "outputs": [
    {
     "data": {
      "text/html": [
       "<div>\n",
       "<style scoped>\n",
       "    .dataframe tbody tr th:only-of-type {\n",
       "        vertical-align: middle;\n",
       "    }\n",
       "\n",
       "    .dataframe tbody tr th {\n",
       "        vertical-align: top;\n",
       "    }\n",
       "\n",
       "    .dataframe thead th {\n",
       "        text-align: right;\n",
       "    }\n",
       "</style>\n",
       "<table border=\"1\" class=\"dataframe\">\n",
       "  <thead>\n",
       "    <tr style=\"text-align: right;\">\n",
       "      <th></th>\n",
       "      <th>id</th>\n",
       "      <th>followers</th>\n",
       "      <th>following</th>\n",
       "      <th>message_out</th>\n",
       "      <th>message_in</th>\n",
       "      <th>membership</th>\n",
       "      <th>level</th>\n",
       "      <th>region</th>\n",
       "      <th>gold</th>\n",
       "      <th>silver</th>\n",
       "      <th>...</th>\n",
       "      <th>ztill</th>\n",
       "      <th>zucchini</th>\n",
       "      <th>zuegma</th>\n",
       "      <th>zulmut</th>\n",
       "      <th>zur</th>\n",
       "      <th>zuu</th>\n",
       "      <th>zuzu</th>\n",
       "      <th>zweet</th>\n",
       "      <th>zylent</th>\n",
       "      <th>zzzz</th>\n",
       "    </tr>\n",
       "  </thead>\n",
       "  <tbody>\n",
       "    <tr>\n",
       "      <th>0</th>\n",
       "      <td>1</td>\n",
       "      <td>711</td>\n",
       "      <td>432</td>\n",
       "      <td>13416</td>\n",
       "      <td>7722</td>\n",
       "      <td>2</td>\n",
       "      <td>43</td>\n",
       "      <td>39</td>\n",
       "      <td>247</td>\n",
       "      <td>243</td>\n",
       "      <td>...</td>\n",
       "      <td>0.0</td>\n",
       "      <td>0.0</td>\n",
       "      <td>0.0</td>\n",
       "      <td>0.0</td>\n",
       "      <td>0.0</td>\n",
       "      <td>0.0</td>\n",
       "      <td>0.0</td>\n",
       "      <td>0.0</td>\n",
       "      <td>0.0</td>\n",
       "      <td>0.0</td>\n",
       "    </tr>\n",
       "    <tr>\n",
       "      <th>1</th>\n",
       "      <td>1</td>\n",
       "      <td>711</td>\n",
       "      <td>432</td>\n",
       "      <td>13416</td>\n",
       "      <td>7722</td>\n",
       "      <td>2</td>\n",
       "      <td>43</td>\n",
       "      <td>39</td>\n",
       "      <td>247</td>\n",
       "      <td>243</td>\n",
       "      <td>...</td>\n",
       "      <td>0.0</td>\n",
       "      <td>0.0</td>\n",
       "      <td>0.0</td>\n",
       "      <td>0.0</td>\n",
       "      <td>0.0</td>\n",
       "      <td>0.0</td>\n",
       "      <td>0.0</td>\n",
       "      <td>0.0</td>\n",
       "      <td>0.0</td>\n",
       "      <td>0.0</td>\n",
       "    </tr>\n",
       "    <tr>\n",
       "      <th>2</th>\n",
       "      <td>1</td>\n",
       "      <td>711</td>\n",
       "      <td>432</td>\n",
       "      <td>13416</td>\n",
       "      <td>7722</td>\n",
       "      <td>2</td>\n",
       "      <td>43</td>\n",
       "      <td>39</td>\n",
       "      <td>247</td>\n",
       "      <td>243</td>\n",
       "      <td>...</td>\n",
       "      <td>0.0</td>\n",
       "      <td>0.0</td>\n",
       "      <td>0.0</td>\n",
       "      <td>0.0</td>\n",
       "      <td>0.0</td>\n",
       "      <td>0.0</td>\n",
       "      <td>0.0</td>\n",
       "      <td>0.0</td>\n",
       "      <td>0.0</td>\n",
       "      <td>0.0</td>\n",
       "    </tr>\n",
       "    <tr>\n",
       "      <th>3</th>\n",
       "      <td>1</td>\n",
       "      <td>711</td>\n",
       "      <td>432</td>\n",
       "      <td>13416</td>\n",
       "      <td>7722</td>\n",
       "      <td>2</td>\n",
       "      <td>43</td>\n",
       "      <td>39</td>\n",
       "      <td>247</td>\n",
       "      <td>243</td>\n",
       "      <td>...</td>\n",
       "      <td>0.0</td>\n",
       "      <td>0.0</td>\n",
       "      <td>0.0</td>\n",
       "      <td>0.0</td>\n",
       "      <td>0.0</td>\n",
       "      <td>0.0</td>\n",
       "      <td>0.0</td>\n",
       "      <td>0.0</td>\n",
       "      <td>0.0</td>\n",
       "      <td>0.0</td>\n",
       "    </tr>\n",
       "    <tr>\n",
       "      <th>4</th>\n",
       "      <td>1</td>\n",
       "      <td>711</td>\n",
       "      <td>432</td>\n",
       "      <td>13416</td>\n",
       "      <td>7722</td>\n",
       "      <td>2</td>\n",
       "      <td>43</td>\n",
       "      <td>39</td>\n",
       "      <td>247</td>\n",
       "      <td>243</td>\n",
       "      <td>...</td>\n",
       "      <td>0.0</td>\n",
       "      <td>0.0</td>\n",
       "      <td>0.0</td>\n",
       "      <td>0.0</td>\n",
       "      <td>0.0</td>\n",
       "      <td>0.0</td>\n",
       "      <td>0.0</td>\n",
       "      <td>0.0</td>\n",
       "      <td>0.0</td>\n",
       "      <td>0.0</td>\n",
       "    </tr>\n",
       "    <tr>\n",
       "      <th>...</th>\n",
       "      <td>...</td>\n",
       "      <td>...</td>\n",
       "      <td>...</td>\n",
       "      <td>...</td>\n",
       "      <td>...</td>\n",
       "      <td>...</td>\n",
       "      <td>...</td>\n",
       "      <td>...</td>\n",
       "      <td>...</td>\n",
       "      <td>...</td>\n",
       "      <td>...</td>\n",
       "      <td>...</td>\n",
       "      <td>...</td>\n",
       "      <td>...</td>\n",
       "      <td>...</td>\n",
       "      <td>...</td>\n",
       "      <td>...</td>\n",
       "      <td>...</td>\n",
       "      <td>...</td>\n",
       "      <td>...</td>\n",
       "      <td>...</td>\n",
       "    </tr>\n",
       "    <tr>\n",
       "      <th>19659</th>\n",
       "      <td>526</td>\n",
       "      <td>278</td>\n",
       "      <td>1047</td>\n",
       "      <td>574</td>\n",
       "      <td>518</td>\n",
       "      <td>0</td>\n",
       "      <td>37</td>\n",
       "      <td>30</td>\n",
       "      <td>0</td>\n",
       "      <td>0</td>\n",
       "      <td>...</td>\n",
       "      <td>0.0</td>\n",
       "      <td>0.0</td>\n",
       "      <td>0.0</td>\n",
       "      <td>0.0</td>\n",
       "      <td>0.0</td>\n",
       "      <td>0.0</td>\n",
       "      <td>0.0</td>\n",
       "      <td>0.0</td>\n",
       "      <td>0.0</td>\n",
       "      <td>0.0</td>\n",
       "    </tr>\n",
       "    <tr>\n",
       "      <th>19660</th>\n",
       "      <td>526</td>\n",
       "      <td>278</td>\n",
       "      <td>1047</td>\n",
       "      <td>574</td>\n",
       "      <td>518</td>\n",
       "      <td>0</td>\n",
       "      <td>37</td>\n",
       "      <td>30</td>\n",
       "      <td>0</td>\n",
       "      <td>0</td>\n",
       "      <td>...</td>\n",
       "      <td>0.0</td>\n",
       "      <td>0.0</td>\n",
       "      <td>0.0</td>\n",
       "      <td>0.0</td>\n",
       "      <td>0.0</td>\n",
       "      <td>0.0</td>\n",
       "      <td>0.0</td>\n",
       "      <td>0.0</td>\n",
       "      <td>0.0</td>\n",
       "      <td>0.0</td>\n",
       "    </tr>\n",
       "    <tr>\n",
       "      <th>19661</th>\n",
       "      <td>526</td>\n",
       "      <td>278</td>\n",
       "      <td>1047</td>\n",
       "      <td>574</td>\n",
       "      <td>518</td>\n",
       "      <td>0</td>\n",
       "      <td>37</td>\n",
       "      <td>30</td>\n",
       "      <td>0</td>\n",
       "      <td>0</td>\n",
       "      <td>...</td>\n",
       "      <td>0.0</td>\n",
       "      <td>0.0</td>\n",
       "      <td>0.0</td>\n",
       "      <td>0.0</td>\n",
       "      <td>0.0</td>\n",
       "      <td>0.0</td>\n",
       "      <td>0.0</td>\n",
       "      <td>0.0</td>\n",
       "      <td>0.0</td>\n",
       "      <td>0.0</td>\n",
       "    </tr>\n",
       "    <tr>\n",
       "      <th>19662</th>\n",
       "      <td>526</td>\n",
       "      <td>278</td>\n",
       "      <td>1047</td>\n",
       "      <td>574</td>\n",
       "      <td>518</td>\n",
       "      <td>0</td>\n",
       "      <td>37</td>\n",
       "      <td>30</td>\n",
       "      <td>0</td>\n",
       "      <td>0</td>\n",
       "      <td>...</td>\n",
       "      <td>0.0</td>\n",
       "      <td>0.0</td>\n",
       "      <td>0.0</td>\n",
       "      <td>0.0</td>\n",
       "      <td>0.0</td>\n",
       "      <td>0.0</td>\n",
       "      <td>0.0</td>\n",
       "      <td>0.0</td>\n",
       "      <td>0.0</td>\n",
       "      <td>0.0</td>\n",
       "    </tr>\n",
       "    <tr>\n",
       "      <th>19663</th>\n",
       "      <td>526</td>\n",
       "      <td>278</td>\n",
       "      <td>1047</td>\n",
       "      <td>574</td>\n",
       "      <td>518</td>\n",
       "      <td>0</td>\n",
       "      <td>37</td>\n",
       "      <td>30</td>\n",
       "      <td>0</td>\n",
       "      <td>0</td>\n",
       "      <td>...</td>\n",
       "      <td>0.0</td>\n",
       "      <td>0.0</td>\n",
       "      <td>0.0</td>\n",
       "      <td>0.0</td>\n",
       "      <td>0.0</td>\n",
       "      <td>0.0</td>\n",
       "      <td>0.0</td>\n",
       "      <td>0.0</td>\n",
       "      <td>0.0</td>\n",
       "      <td>0.0</td>\n",
       "    </tr>\n",
       "  </tbody>\n",
       "</table>\n",
       "<p>19664 rows × 11995 columns</p>\n",
       "</div>"
      ],
      "text/plain": [
       "        id  followers  following  message_out  message_in  membership  level  \\\n",
       "0        1        711        432        13416        7722           2     43   \n",
       "1        1        711        432        13416        7722           2     43   \n",
       "2        1        711        432        13416        7722           2     43   \n",
       "3        1        711        432        13416        7722           2     43   \n",
       "4        1        711        432        13416        7722           2     43   \n",
       "...    ...        ...        ...          ...         ...         ...    ...   \n",
       "19659  526        278       1047          574         518           0     37   \n",
       "19660  526        278       1047          574         518           0     37   \n",
       "19661  526        278       1047          574         518           0     37   \n",
       "19662  526        278       1047          574         518           0     37   \n",
       "19663  526        278       1047          574         518           0     37   \n",
       "\n",
       "       region  gold  silver  ...  ztill  zucchini  zuegma  zulmut  zur  zuu  \\\n",
       "0          39   247     243  ...    0.0       0.0     0.0     0.0  0.0  0.0   \n",
       "1          39   247     243  ...    0.0       0.0     0.0     0.0  0.0  0.0   \n",
       "2          39   247     243  ...    0.0       0.0     0.0     0.0  0.0  0.0   \n",
       "3          39   247     243  ...    0.0       0.0     0.0     0.0  0.0  0.0   \n",
       "4          39   247     243  ...    0.0       0.0     0.0     0.0  0.0  0.0   \n",
       "...       ...   ...     ...  ...    ...       ...     ...     ...  ...  ...   \n",
       "19659      30     0       0  ...    0.0       0.0     0.0     0.0  0.0  0.0   \n",
       "19660      30     0       0  ...    0.0       0.0     0.0     0.0  0.0  0.0   \n",
       "19661      30     0       0  ...    0.0       0.0     0.0     0.0  0.0  0.0   \n",
       "19662      30     0       0  ...    0.0       0.0     0.0     0.0  0.0  0.0   \n",
       "19663      30     0       0  ...    0.0       0.0     0.0     0.0  0.0  0.0   \n",
       "\n",
       "       zuzu  zweet  zylent  zzzz  \n",
       "0       0.0    0.0     0.0   0.0  \n",
       "1       0.0    0.0     0.0   0.0  \n",
       "2       0.0    0.0     0.0   0.0  \n",
       "3       0.0    0.0     0.0   0.0  \n",
       "4       0.0    0.0     0.0   0.0  \n",
       "...     ...    ...     ...   ...  \n",
       "19659   0.0    0.0     0.0   0.0  \n",
       "19660   0.0    0.0     0.0   0.0  \n",
       "19661   0.0    0.0     0.0   0.0  \n",
       "19662   0.0    0.0     0.0   0.0  \n",
       "19663   0.0    0.0     0.0   0.0  \n",
       "\n",
       "[19664 rows x 11995 columns]"
      ]
     },
     "execution_count": 118,
     "metadata": {},
     "output_type": "execute_result"
    }
   ],
   "source": [
    "df_main"
   ]
  },
  {
   "cell_type": "code",
   "execution_count": 371,
   "id": "81c752ac-fd0a-47b7-9d6c-f4c5a47077d5",
   "metadata": {},
   "outputs": [
    {
     "name": "stdout",
     "output_type": "stream",
     "text": [
      "<class 'pandas.core.frame.DataFrame'>\n",
      "RangeIndex: 19664 entries, 0 to 19663\n",
      "Columns: 11996 entries, id to Sentiments\n",
      "dtypes: Sparse[float64, 0.0](11979), float64(1), int32(3), int64(12), object(1)\n",
      "memory usage: 3.0+ MB\n"
     ]
    }
   ],
   "source": [
    "df_main.info()"
   ]
  },
  {
   "cell_type": "code",
   "execution_count": 282,
   "id": "35537b2a-a16f-4a76-b978-0b2aa40fc369",
   "metadata": {},
   "outputs": [],
   "source": [
    "#df_main.drop('Sentiments', axis = 1, inplace = True)"
   ]
  },
  {
   "cell_type": "code",
   "execution_count": 281,
   "id": "611b74a5-e096-4bbc-9f26-eda39cd4a1c9",
   "metadata": {},
   "outputs": [],
   "source": [
    "#df_main[\"poem\"]"
   ]
  },
  {
   "cell_type": "code",
   "execution_count": 279,
   "id": "c7608244-0a14-45e0-9c74-66f7fae83429",
   "metadata": {},
   "outputs": [],
   "source": [
    "#df_main.drop('poem', axis = 1, inplace = True)"
   ]
  },
  {
   "cell_type": "code",
   "execution_count": 122,
   "id": "0b0acb0c-7330-4f6a-979f-b22405404000",
   "metadata": {},
   "outputs": [],
   "source": [
    "y = df_main[\"rating\"]\n",
    "X = df_main.drop(\"rating\", axis = 1)"
   ]
  },
  {
   "cell_type": "code",
   "execution_count": 123,
   "id": "64161cc5-b86b-4cc5-b153-b4f08166b38f",
   "metadata": {},
   "outputs": [
    {
     "data": {
      "text/plain": [
       "0        0.375730\n",
       "1        0.210417\n",
       "2        0.424306\n",
       "3        0.230141\n",
       "4        0.372956\n",
       "           ...   \n",
       "19659    0.566667\n",
       "19660    0.740000\n",
       "19661    0.529704\n",
       "19662    0.600000\n",
       "19663    0.225000\n",
       "Name: rating, Length: 19664, dtype: float64"
      ]
     },
     "execution_count": 123,
     "metadata": {},
     "output_type": "execute_result"
    }
   ],
   "source": [
    "df_main[\"rating\"]"
   ]
  },
  {
   "cell_type": "code",
   "execution_count": 124,
   "id": "8bf0d506-1fe1-4fed-9808-8bc17e4641d7",
   "metadata": {},
   "outputs": [
    {
     "data": {
      "text/plain": [
       "446"
      ]
     },
     "execution_count": 124,
     "metadata": {},
     "output_type": "execute_result"
    }
   ],
   "source": [
    "df_main[\"rating\"].isnull().sum()"
   ]
  },
  {
   "cell_type": "code",
   "execution_count": 125,
   "id": "0643600b-b61e-4bd7-9b36-ac1bedb8734c",
   "metadata": {},
   "outputs": [
    {
     "name": "stdout",
     "output_type": "stream",
     "text": [
      "Missing values in X: id             0\n",
      "followers      0\n",
      "following      0\n",
      "message_out    0\n",
      "message_in     0\n",
      "              ..\n",
      "zuu            0\n",
      "zuzu           0\n",
      "zweet          0\n",
      "zylent         0\n",
      "zzzz           0\n",
      "Length: 11994, dtype: int64\n",
      "Missing values in y: 446\n"
     ]
    }
   ],
   "source": [
    "print(\"Missing values in X:\", X.isnull().sum())\n",
    "print(\"Missing values in y:\", y.isnull().sum())\n"
   ]
  },
  {
   "cell_type": "code",
   "execution_count": 126,
   "id": "f471b9ea-44eb-432e-8469-e9b22f1d7af2",
   "metadata": {},
   "outputs": [
    {
     "name": "stdout",
     "output_type": "stream",
     "text": [
      "Missing values in y: 446\n"
     ]
    }
   ],
   "source": [
    "print(\"Missing values in y:\", y.isnull().sum())\n"
   ]
  },
  {
   "cell_type": "code",
   "execution_count": 127,
   "id": "8c76ead7-d2ff-4955-8f33-37e4f36c291b",
   "metadata": {},
   "outputs": [],
   "source": [
    "mean_y = y.mean()\n",
    "y.fillna(mean_y, inplace=True)"
   ]
  },
  {
   "cell_type": "code",
   "execution_count": 128,
   "id": "11bcca9f-429d-4b2a-a418-314fcda97547",
   "metadata": {},
   "outputs": [],
   "source": [
    "X_train, X_test, y_train, y_test = train_test_split(X, y, test_size=0.2) \n"
   ]
  },
  {
   "cell_type": "code",
   "execution_count": 129,
   "id": "4e635ce4-c106-4ffa-8158-380046586eeb",
   "metadata": {},
   "outputs": [
    {
     "name": "stdout",
     "output_type": "stream",
     "text": [
      "[]\n"
     ]
    }
   ],
   "source": [
    "X_train = X_train.loc[:, ~X_train.columns.duplicated(keep='first')]\n",
    "\n",
    "duplicated_mask = X_train.columns.duplicated(keep='first')\n",
    "duplicate_columns = [col for col, is_duplicated in zip(X_train.columns, duplicated_mask) if is_duplicated]\n",
    "print(duplicate_columns)   \n"
   ]
  },
  {
   "cell_type": "code",
   "execution_count": 130,
   "id": "724f51c9-787f-4c45-8dde-b9e5dddb59a0",
   "metadata": {},
   "outputs": [
    {
     "data": {
      "text/html": [
       "<div>\n",
       "<style scoped>\n",
       "    .dataframe tbody tr th:only-of-type {\n",
       "        vertical-align: middle;\n",
       "    }\n",
       "\n",
       "    .dataframe tbody tr th {\n",
       "        vertical-align: top;\n",
       "    }\n",
       "\n",
       "    .dataframe thead th {\n",
       "        text-align: right;\n",
       "    }\n",
       "</style>\n",
       "<table border=\"1\" class=\"dataframe\">\n",
       "  <thead>\n",
       "    <tr style=\"text-align: right;\">\n",
       "      <th></th>\n",
       "      <th>id</th>\n",
       "      <th>followers</th>\n",
       "      <th>following</th>\n",
       "      <th>message_out</th>\n",
       "      <th>message_in</th>\n",
       "      <th>membership</th>\n",
       "      <th>level</th>\n",
       "      <th>region</th>\n",
       "      <th>gold</th>\n",
       "      <th>silver</th>\n",
       "      <th>...</th>\n",
       "      <th>ztill</th>\n",
       "      <th>zucchini</th>\n",
       "      <th>zuegma</th>\n",
       "      <th>zulmut</th>\n",
       "      <th>zur</th>\n",
       "      <th>zuu</th>\n",
       "      <th>zuzu</th>\n",
       "      <th>zweet</th>\n",
       "      <th>zylent</th>\n",
       "      <th>zzzz</th>\n",
       "    </tr>\n",
       "  </thead>\n",
       "  <tbody>\n",
       "    <tr>\n",
       "      <th>17502</th>\n",
       "      <td>463</td>\n",
       "      <td>13</td>\n",
       "      <td>16</td>\n",
       "      <td>45</td>\n",
       "      <td>31</td>\n",
       "      <td>0</td>\n",
       "      <td>44</td>\n",
       "      <td>27</td>\n",
       "      <td>0</td>\n",
       "      <td>0</td>\n",
       "      <td>...</td>\n",
       "      <td>0.0</td>\n",
       "      <td>0.0</td>\n",
       "      <td>0.0</td>\n",
       "      <td>0.0</td>\n",
       "      <td>0.0</td>\n",
       "      <td>0.0</td>\n",
       "      <td>0.0</td>\n",
       "      <td>0.0</td>\n",
       "      <td>0.0</td>\n",
       "      <td>0.0</td>\n",
       "    </tr>\n",
       "    <tr>\n",
       "      <th>2972</th>\n",
       "      <td>80</td>\n",
       "      <td>43</td>\n",
       "      <td>118</td>\n",
       "      <td>120</td>\n",
       "      <td>113</td>\n",
       "      <td>0</td>\n",
       "      <td>33</td>\n",
       "      <td>39</td>\n",
       "      <td>0</td>\n",
       "      <td>0</td>\n",
       "      <td>...</td>\n",
       "      <td>0.0</td>\n",
       "      <td>0.0</td>\n",
       "      <td>0.0</td>\n",
       "      <td>0.0</td>\n",
       "      <td>0.0</td>\n",
       "      <td>0.0</td>\n",
       "      <td>0.0</td>\n",
       "      <td>0.0</td>\n",
       "      <td>0.0</td>\n",
       "      <td>0.0</td>\n",
       "    </tr>\n",
       "    <tr>\n",
       "      <th>2208</th>\n",
       "      <td>56</td>\n",
       "      <td>69</td>\n",
       "      <td>65</td>\n",
       "      <td>325</td>\n",
       "      <td>390</td>\n",
       "      <td>0</td>\n",
       "      <td>47</td>\n",
       "      <td>30</td>\n",
       "      <td>1</td>\n",
       "      <td>0</td>\n",
       "      <td>...</td>\n",
       "      <td>0.0</td>\n",
       "      <td>0.0</td>\n",
       "      <td>0.0</td>\n",
       "      <td>0.0</td>\n",
       "      <td>0.0</td>\n",
       "      <td>0.0</td>\n",
       "      <td>0.0</td>\n",
       "      <td>0.0</td>\n",
       "      <td>0.0</td>\n",
       "      <td>0.0</td>\n",
       "    </tr>\n",
       "    <tr>\n",
       "      <th>10222</th>\n",
       "      <td>263</td>\n",
       "      <td>326</td>\n",
       "      <td>480</td>\n",
       "      <td>4878</td>\n",
       "      <td>5438</td>\n",
       "      <td>0</td>\n",
       "      <td>6</td>\n",
       "      <td>30</td>\n",
       "      <td>41</td>\n",
       "      <td>48</td>\n",
       "      <td>...</td>\n",
       "      <td>0.0</td>\n",
       "      <td>0.0</td>\n",
       "      <td>0.0</td>\n",
       "      <td>0.0</td>\n",
       "      <td>0.0</td>\n",
       "      <td>0.0</td>\n",
       "      <td>0.0</td>\n",
       "      <td>0.0</td>\n",
       "      <td>0.0</td>\n",
       "      <td>0.0</td>\n",
       "    </tr>\n",
       "    <tr>\n",
       "      <th>1188</th>\n",
       "      <td>31</td>\n",
       "      <td>115</td>\n",
       "      <td>186</td>\n",
       "      <td>1288</td>\n",
       "      <td>888</td>\n",
       "      <td>0</td>\n",
       "      <td>35</td>\n",
       "      <td>30</td>\n",
       "      <td>6</td>\n",
       "      <td>4</td>\n",
       "      <td>...</td>\n",
       "      <td>0.0</td>\n",
       "      <td>0.0</td>\n",
       "      <td>0.0</td>\n",
       "      <td>0.0</td>\n",
       "      <td>0.0</td>\n",
       "      <td>0.0</td>\n",
       "      <td>0.0</td>\n",
       "      <td>0.0</td>\n",
       "      <td>0.0</td>\n",
       "      <td>0.0</td>\n",
       "    </tr>\n",
       "  </tbody>\n",
       "</table>\n",
       "<p>5 rows × 11994 columns</p>\n",
       "</div>"
      ],
      "text/plain": [
       "        id  followers  following  message_out  message_in  membership  level  \\\n",
       "17502  463         13         16           45          31           0     44   \n",
       "2972    80         43        118          120         113           0     33   \n",
       "2208    56         69         65          325         390           0     47   \n",
       "10222  263        326        480         4878        5438           0      6   \n",
       "1188    31        115        186         1288         888           0     35   \n",
       "\n",
       "       region  gold  silver  ...  ztill  zucchini  zuegma  zulmut  zur  zuu  \\\n",
       "17502      27     0       0  ...    0.0       0.0     0.0     0.0  0.0  0.0   \n",
       "2972       39     0       0  ...    0.0       0.0     0.0     0.0  0.0  0.0   \n",
       "2208       30     1       0  ...    0.0       0.0     0.0     0.0  0.0  0.0   \n",
       "10222      30    41      48  ...    0.0       0.0     0.0     0.0  0.0  0.0   \n",
       "1188       30     6       4  ...    0.0       0.0     0.0     0.0  0.0  0.0   \n",
       "\n",
       "       zuzu  zweet  zylent  zzzz  \n",
       "17502   0.0    0.0     0.0   0.0  \n",
       "2972    0.0    0.0     0.0   0.0  \n",
       "2208    0.0    0.0     0.0   0.0  \n",
       "10222   0.0    0.0     0.0   0.0  \n",
       "1188    0.0    0.0     0.0   0.0  \n",
       "\n",
       "[5 rows x 11994 columns]"
      ]
     },
     "execution_count": 130,
     "metadata": {},
     "output_type": "execute_result"
    }
   ],
   "source": [
    "X_train.head()"
   ]
  },
  {
   "cell_type": "code",
   "execution_count": 131,
   "id": "0bbc8828-c201-41ba-bfa0-2a3f7d1e9431",
   "metadata": {},
   "outputs": [],
   "source": [
    "X_test = X_test.loc[:, ~X_test.columns.duplicated(keep='last')]"
   ]
  },
  {
   "cell_type": "code",
   "execution_count": 132,
   "id": "f2447982-3aa2-47fd-8f58-79b6b027dd1b",
   "metadata": {},
   "outputs": [
    {
     "data": {
      "text/html": [
       "<div>\n",
       "<style scoped>\n",
       "    .dataframe tbody tr th:only-of-type {\n",
       "        vertical-align: middle;\n",
       "    }\n",
       "\n",
       "    .dataframe tbody tr th {\n",
       "        vertical-align: top;\n",
       "    }\n",
       "\n",
       "    .dataframe thead th {\n",
       "        text-align: right;\n",
       "    }\n",
       "</style>\n",
       "<table border=\"1\" class=\"dataframe\">\n",
       "  <thead>\n",
       "    <tr style=\"text-align: right;\">\n",
       "      <th></th>\n",
       "      <th>id</th>\n",
       "      <th>followers</th>\n",
       "      <th>following</th>\n",
       "      <th>message_out</th>\n",
       "      <th>message_in</th>\n",
       "      <th>membership</th>\n",
       "      <th>level</th>\n",
       "      <th>region</th>\n",
       "      <th>gold</th>\n",
       "      <th>silver</th>\n",
       "      <th>...</th>\n",
       "      <th>ztill</th>\n",
       "      <th>zucchini</th>\n",
       "      <th>zuegma</th>\n",
       "      <th>zulmut</th>\n",
       "      <th>zur</th>\n",
       "      <th>zuu</th>\n",
       "      <th>zuzu</th>\n",
       "      <th>zweet</th>\n",
       "      <th>zylent</th>\n",
       "      <th>zzzz</th>\n",
       "    </tr>\n",
       "  </thead>\n",
       "  <tbody>\n",
       "    <tr>\n",
       "      <th>3618</th>\n",
       "      <td>94</td>\n",
       "      <td>99</td>\n",
       "      <td>177</td>\n",
       "      <td>375</td>\n",
       "      <td>332</td>\n",
       "      <td>0</td>\n",
       "      <td>47</td>\n",
       "      <td>30</td>\n",
       "      <td>1</td>\n",
       "      <td>3</td>\n",
       "      <td>...</td>\n",
       "      <td>0.0</td>\n",
       "      <td>0.0</td>\n",
       "      <td>0.0</td>\n",
       "      <td>0.0</td>\n",
       "      <td>0.0</td>\n",
       "      <td>0.0</td>\n",
       "      <td>0.0</td>\n",
       "      <td>0.0</td>\n",
       "      <td>0.0</td>\n",
       "      <td>0.0</td>\n",
       "    </tr>\n",
       "    <tr>\n",
       "      <th>6732</th>\n",
       "      <td>172</td>\n",
       "      <td>19</td>\n",
       "      <td>25</td>\n",
       "      <td>79</td>\n",
       "      <td>54</td>\n",
       "      <td>0</td>\n",
       "      <td>44</td>\n",
       "      <td>30</td>\n",
       "      <td>0</td>\n",
       "      <td>0</td>\n",
       "      <td>...</td>\n",
       "      <td>0.0</td>\n",
       "      <td>0.0</td>\n",
       "      <td>0.0</td>\n",
       "      <td>0.0</td>\n",
       "      <td>0.0</td>\n",
       "      <td>0.0</td>\n",
       "      <td>0.0</td>\n",
       "      <td>0.0</td>\n",
       "      <td>0.0</td>\n",
       "      <td>0.0</td>\n",
       "    </tr>\n",
       "    <tr>\n",
       "      <th>18948</th>\n",
       "      <td>504</td>\n",
       "      <td>184</td>\n",
       "      <td>116</td>\n",
       "      <td>761</td>\n",
       "      <td>1468</td>\n",
       "      <td>2</td>\n",
       "      <td>41</td>\n",
       "      <td>44</td>\n",
       "      <td>39</td>\n",
       "      <td>41</td>\n",
       "      <td>...</td>\n",
       "      <td>0.0</td>\n",
       "      <td>0.0</td>\n",
       "      <td>0.0</td>\n",
       "      <td>0.0</td>\n",
       "      <td>0.0</td>\n",
       "      <td>0.0</td>\n",
       "      <td>0.0</td>\n",
       "      <td>0.0</td>\n",
       "      <td>0.0</td>\n",
       "      <td>0.0</td>\n",
       "    </tr>\n",
       "    <tr>\n",
       "      <th>1078</th>\n",
       "      <td>28</td>\n",
       "      <td>551</td>\n",
       "      <td>1140</td>\n",
       "      <td>2281</td>\n",
       "      <td>1669</td>\n",
       "      <td>0</td>\n",
       "      <td>41</td>\n",
       "      <td>30</td>\n",
       "      <td>7</td>\n",
       "      <td>12</td>\n",
       "      <td>...</td>\n",
       "      <td>0.0</td>\n",
       "      <td>0.0</td>\n",
       "      <td>0.0</td>\n",
       "      <td>0.0</td>\n",
       "      <td>0.0</td>\n",
       "      <td>0.0</td>\n",
       "      <td>0.0</td>\n",
       "      <td>0.0</td>\n",
       "      <td>0.0</td>\n",
       "      <td>0.0</td>\n",
       "    </tr>\n",
       "    <tr>\n",
       "      <th>15270</th>\n",
       "      <td>398</td>\n",
       "      <td>473</td>\n",
       "      <td>103</td>\n",
       "      <td>7380</td>\n",
       "      <td>9315</td>\n",
       "      <td>0</td>\n",
       "      <td>33</td>\n",
       "      <td>30</td>\n",
       "      <td>0</td>\n",
       "      <td>0</td>\n",
       "      <td>...</td>\n",
       "      <td>0.0</td>\n",
       "      <td>0.0</td>\n",
       "      <td>0.0</td>\n",
       "      <td>0.0</td>\n",
       "      <td>0.0</td>\n",
       "      <td>0.0</td>\n",
       "      <td>0.0</td>\n",
       "      <td>0.0</td>\n",
       "      <td>0.0</td>\n",
       "      <td>0.0</td>\n",
       "    </tr>\n",
       "  </tbody>\n",
       "</table>\n",
       "<p>5 rows × 11994 columns</p>\n",
       "</div>"
      ],
      "text/plain": [
       "        id  followers  following  message_out  message_in  membership  level  \\\n",
       "3618    94         99        177          375         332           0     47   \n",
       "6732   172         19         25           79          54           0     44   \n",
       "18948  504        184        116          761        1468           2     41   \n",
       "1078    28        551       1140         2281        1669           0     41   \n",
       "15270  398        473        103         7380        9315           0     33   \n",
       "\n",
       "       region  gold  silver  ...  ztill  zucchini  zuegma  zulmut  zur  zuu  \\\n",
       "3618       30     1       3  ...    0.0       0.0     0.0     0.0  0.0  0.0   \n",
       "6732       30     0       0  ...    0.0       0.0     0.0     0.0  0.0  0.0   \n",
       "18948      44    39      41  ...    0.0       0.0     0.0     0.0  0.0  0.0   \n",
       "1078       30     7      12  ...    0.0       0.0     0.0     0.0  0.0  0.0   \n",
       "15270      30     0       0  ...    0.0       0.0     0.0     0.0  0.0  0.0   \n",
       "\n",
       "       zuzu  zweet  zylent  zzzz  \n",
       "3618    0.0    0.0     0.0   0.0  \n",
       "6732    0.0    0.0     0.0   0.0  \n",
       "18948   0.0    0.0     0.0   0.0  \n",
       "1078    0.0    0.0     0.0   0.0  \n",
       "15270   0.0    0.0     0.0   0.0  \n",
       "\n",
       "[5 rows x 11994 columns]"
      ]
     },
     "execution_count": 132,
     "metadata": {},
     "output_type": "execute_result"
    }
   ],
   "source": [
    "X_test.head()"
   ]
  },
  {
   "cell_type": "code",
   "execution_count": 133,
   "id": "a02f8b70-cd8c-4013-97b6-f34e79f7e3a1",
   "metadata": {},
   "outputs": [
    {
     "name": "stdout",
     "output_type": "stream",
     "text": [
      "<class 'pandas.core.series.Series'>\n",
      "Index: 15731 entries, 17502 to 19632\n",
      "Series name: rating\n",
      "Non-Null Count  Dtype  \n",
      "--------------  -----  \n",
      "15731 non-null  float64\n",
      "dtypes: float64(1)\n",
      "memory usage: 245.8 KB\n"
     ]
    }
   ],
   "source": [
    "y_train.info()"
   ]
  },
  {
   "cell_type": "code",
   "execution_count": 134,
   "id": "1063719f-3faf-4300-b273-2e2c5a416d80",
   "metadata": {},
   "outputs": [
    {
     "data": {
      "text/plain": [
       "3618     0.247792\n",
       "6732     0.357186\n",
       "18948    0.451712\n",
       "1078     0.332709\n",
       "15270    0.268676\n",
       "Name: rating, dtype: float64"
      ]
     },
     "execution_count": 134,
     "metadata": {},
     "output_type": "execute_result"
    }
   ],
   "source": [
    " y_test.head()"
   ]
  },
  {
   "cell_type": "markdown",
   "id": "802b5962-fedd-4cc6-a952-397c7991b12b",
   "metadata": {},
   "source": [
    "## Decision Tree Regressor Model"
   ]
  },
  {
   "cell_type": "code",
   "execution_count": 135,
   "id": "efbb3358-4e74-470a-b7e0-544c6894ea77",
   "metadata": {},
   "outputs": [
    {
     "data": {
      "text/html": [
       "<style>#sk-container-id-1 {color: black;}#sk-container-id-1 pre{padding: 0;}#sk-container-id-1 div.sk-toggleable {background-color: white;}#sk-container-id-1 label.sk-toggleable__label {cursor: pointer;display: block;width: 100%;margin-bottom: 0;padding: 0.3em;box-sizing: border-box;text-align: center;}#sk-container-id-1 label.sk-toggleable__label-arrow:before {content: \"▸\";float: left;margin-right: 0.25em;color: #696969;}#sk-container-id-1 label.sk-toggleable__label-arrow:hover:before {color: black;}#sk-container-id-1 div.sk-estimator:hover label.sk-toggleable__label-arrow:before {color: black;}#sk-container-id-1 div.sk-toggleable__content {max-height: 0;max-width: 0;overflow: hidden;text-align: left;background-color: #f0f8ff;}#sk-container-id-1 div.sk-toggleable__content pre {margin: 0.2em;color: black;border-radius: 0.25em;background-color: #f0f8ff;}#sk-container-id-1 input.sk-toggleable__control:checked~div.sk-toggleable__content {max-height: 200px;max-width: 100%;overflow: auto;}#sk-container-id-1 input.sk-toggleable__control:checked~label.sk-toggleable__label-arrow:before {content: \"▾\";}#sk-container-id-1 div.sk-estimator input.sk-toggleable__control:checked~label.sk-toggleable__label {background-color: #d4ebff;}#sk-container-id-1 div.sk-label input.sk-toggleable__control:checked~label.sk-toggleable__label {background-color: #d4ebff;}#sk-container-id-1 input.sk-hidden--visually {border: 0;clip: rect(1px 1px 1px 1px);clip: rect(1px, 1px, 1px, 1px);height: 1px;margin: -1px;overflow: hidden;padding: 0;position: absolute;width: 1px;}#sk-container-id-1 div.sk-estimator {font-family: monospace;background-color: #f0f8ff;border: 1px dotted black;border-radius: 0.25em;box-sizing: border-box;margin-bottom: 0.5em;}#sk-container-id-1 div.sk-estimator:hover {background-color: #d4ebff;}#sk-container-id-1 div.sk-parallel-item::after {content: \"\";width: 100%;border-bottom: 1px solid gray;flex-grow: 1;}#sk-container-id-1 div.sk-label:hover label.sk-toggleable__label {background-color: #d4ebff;}#sk-container-id-1 div.sk-serial::before {content: \"\";position: absolute;border-left: 1px solid gray;box-sizing: border-box;top: 0;bottom: 0;left: 50%;z-index: 0;}#sk-container-id-1 div.sk-serial {display: flex;flex-direction: column;align-items: center;background-color: white;padding-right: 0.2em;padding-left: 0.2em;position: relative;}#sk-container-id-1 div.sk-item {position: relative;z-index: 1;}#sk-container-id-1 div.sk-parallel {display: flex;align-items: stretch;justify-content: center;background-color: white;position: relative;}#sk-container-id-1 div.sk-item::before, #sk-container-id-1 div.sk-parallel-item::before {content: \"\";position: absolute;border-left: 1px solid gray;box-sizing: border-box;top: 0;bottom: 0;left: 50%;z-index: -1;}#sk-container-id-1 div.sk-parallel-item {display: flex;flex-direction: column;z-index: 1;position: relative;background-color: white;}#sk-container-id-1 div.sk-parallel-item:first-child::after {align-self: flex-end;width: 50%;}#sk-container-id-1 div.sk-parallel-item:last-child::after {align-self: flex-start;width: 50%;}#sk-container-id-1 div.sk-parallel-item:only-child::after {width: 0;}#sk-container-id-1 div.sk-dashed-wrapped {border: 1px dashed gray;margin: 0 0.4em 0.5em 0.4em;box-sizing: border-box;padding-bottom: 0.4em;background-color: white;}#sk-container-id-1 div.sk-label label {font-family: monospace;font-weight: bold;display: inline-block;line-height: 1.2em;}#sk-container-id-1 div.sk-label-container {text-align: center;}#sk-container-id-1 div.sk-container {/* jupyter's `normalize.less` sets `[hidden] { display: none; }` but bootstrap.min.css set `[hidden] { display: none !important; }` so we also need the `!important` here to be able to override the default hidden behavior on the sphinx rendered scikit-learn.org. See: https://github.com/scikit-learn/scikit-learn/issues/21755 */display: inline-block !important;position: relative;}#sk-container-id-1 div.sk-text-repr-fallback {display: none;}</style><div id=\"sk-container-id-1\" class=\"sk-top-container\"><div class=\"sk-text-repr-fallback\"><pre>DecisionTreeRegressor()</pre><b>In a Jupyter environment, please rerun this cell to show the HTML representation or trust the notebook. <br />On GitHub, the HTML representation is unable to render, please try loading this page with nbviewer.org.</b></div><div class=\"sk-container\" hidden><div class=\"sk-item\"><div class=\"sk-estimator sk-toggleable\"><input class=\"sk-toggleable__control sk-hidden--visually\" id=\"sk-estimator-id-1\" type=\"checkbox\" checked><label for=\"sk-estimator-id-1\" class=\"sk-toggleable__label sk-toggleable__label-arrow\">DecisionTreeRegressor</label><div class=\"sk-toggleable__content\"><pre>DecisionTreeRegressor()</pre></div></div></div></div></div>"
      ],
      "text/plain": [
       "DecisionTreeRegressor()"
      ]
     },
     "execution_count": 135,
     "metadata": {},
     "output_type": "execute_result"
    }
   ],
   "source": [
    "dt_regressor = DecisionTreeRegressor()\n",
    "dt_regressor.fit(X_train, y_train)\n"
   ]
  },
  {
   "cell_type": "code",
   "execution_count": 136,
   "id": "589039a7-bfcf-48f8-9e17-e18f1ca3bfbc",
   "metadata": {},
   "outputs": [
    {
     "data": {
      "text/plain": [
       "array([0.29285714, 0.8       , 0.47326389, ..., 0.42672619, 0.45833333,\n",
       "       0.48125   ])"
      ]
     },
     "execution_count": 136,
     "metadata": {},
     "output_type": "execute_result"
    }
   ],
   "source": [
    "Decison_Tree_pred = dt_regressor .predict(X_test)\n",
    "Decison_Tree_pred"
   ]
  },
  {
   "cell_type": "code",
   "execution_count": 137,
   "id": "dd8f9e06-8d72-4d3b-aae7-f3bc7a391b38",
   "metadata": {},
   "outputs": [
    {
     "data": {
      "text/plain": [
       "0.15677978883358354"
      ]
     },
     "execution_count": 137,
     "metadata": {},
     "output_type": "execute_result"
    }
   ],
   "source": [
    " mean_absolute_error(Decison_Tree_pred, y_test)"
   ]
  },
  {
   "cell_type": "markdown",
   "id": "b2475780-86a6-4f52-98e5-1a3e1d37d9a2",
   "metadata": {},
   "source": [
    "## Random Forest Regression Model"
   ]
  },
  {
   "cell_type": "code",
   "execution_count": 138,
   "id": "01d7ebbc-fcbb-43d5-a2cf-a86381aa08a1",
   "metadata": {},
   "outputs": [],
   "source": [
    "r_model = RandomForestRegressor()"
   ]
  },
  {
   "cell_type": "code",
   "execution_count": 139,
   "id": "b5ac829f-1692-4cb2-8f26-17295ada406d",
   "metadata": {},
   "outputs": [
    {
     "data": {
      "text/html": [
       "<style>#sk-container-id-2 {color: black;}#sk-container-id-2 pre{padding: 0;}#sk-container-id-2 div.sk-toggleable {background-color: white;}#sk-container-id-2 label.sk-toggleable__label {cursor: pointer;display: block;width: 100%;margin-bottom: 0;padding: 0.3em;box-sizing: border-box;text-align: center;}#sk-container-id-2 label.sk-toggleable__label-arrow:before {content: \"▸\";float: left;margin-right: 0.25em;color: #696969;}#sk-container-id-2 label.sk-toggleable__label-arrow:hover:before {color: black;}#sk-container-id-2 div.sk-estimator:hover label.sk-toggleable__label-arrow:before {color: black;}#sk-container-id-2 div.sk-toggleable__content {max-height: 0;max-width: 0;overflow: hidden;text-align: left;background-color: #f0f8ff;}#sk-container-id-2 div.sk-toggleable__content pre {margin: 0.2em;color: black;border-radius: 0.25em;background-color: #f0f8ff;}#sk-container-id-2 input.sk-toggleable__control:checked~div.sk-toggleable__content {max-height: 200px;max-width: 100%;overflow: auto;}#sk-container-id-2 input.sk-toggleable__control:checked~label.sk-toggleable__label-arrow:before {content: \"▾\";}#sk-container-id-2 div.sk-estimator input.sk-toggleable__control:checked~label.sk-toggleable__label {background-color: #d4ebff;}#sk-container-id-2 div.sk-label input.sk-toggleable__control:checked~label.sk-toggleable__label {background-color: #d4ebff;}#sk-container-id-2 input.sk-hidden--visually {border: 0;clip: rect(1px 1px 1px 1px);clip: rect(1px, 1px, 1px, 1px);height: 1px;margin: -1px;overflow: hidden;padding: 0;position: absolute;width: 1px;}#sk-container-id-2 div.sk-estimator {font-family: monospace;background-color: #f0f8ff;border: 1px dotted black;border-radius: 0.25em;box-sizing: border-box;margin-bottom: 0.5em;}#sk-container-id-2 div.sk-estimator:hover {background-color: #d4ebff;}#sk-container-id-2 div.sk-parallel-item::after {content: \"\";width: 100%;border-bottom: 1px solid gray;flex-grow: 1;}#sk-container-id-2 div.sk-label:hover label.sk-toggleable__label {background-color: #d4ebff;}#sk-container-id-2 div.sk-serial::before {content: \"\";position: absolute;border-left: 1px solid gray;box-sizing: border-box;top: 0;bottom: 0;left: 50%;z-index: 0;}#sk-container-id-2 div.sk-serial {display: flex;flex-direction: column;align-items: center;background-color: white;padding-right: 0.2em;padding-left: 0.2em;position: relative;}#sk-container-id-2 div.sk-item {position: relative;z-index: 1;}#sk-container-id-2 div.sk-parallel {display: flex;align-items: stretch;justify-content: center;background-color: white;position: relative;}#sk-container-id-2 div.sk-item::before, #sk-container-id-2 div.sk-parallel-item::before {content: \"\";position: absolute;border-left: 1px solid gray;box-sizing: border-box;top: 0;bottom: 0;left: 50%;z-index: -1;}#sk-container-id-2 div.sk-parallel-item {display: flex;flex-direction: column;z-index: 1;position: relative;background-color: white;}#sk-container-id-2 div.sk-parallel-item:first-child::after {align-self: flex-end;width: 50%;}#sk-container-id-2 div.sk-parallel-item:last-child::after {align-self: flex-start;width: 50%;}#sk-container-id-2 div.sk-parallel-item:only-child::after {width: 0;}#sk-container-id-2 div.sk-dashed-wrapped {border: 1px dashed gray;margin: 0 0.4em 0.5em 0.4em;box-sizing: border-box;padding-bottom: 0.4em;background-color: white;}#sk-container-id-2 div.sk-label label {font-family: monospace;font-weight: bold;display: inline-block;line-height: 1.2em;}#sk-container-id-2 div.sk-label-container {text-align: center;}#sk-container-id-2 div.sk-container {/* jupyter's `normalize.less` sets `[hidden] { display: none; }` but bootstrap.min.css set `[hidden] { display: none !important; }` so we also need the `!important` here to be able to override the default hidden behavior on the sphinx rendered scikit-learn.org. See: https://github.com/scikit-learn/scikit-learn/issues/21755 */display: inline-block !important;position: relative;}#sk-container-id-2 div.sk-text-repr-fallback {display: none;}</style><div id=\"sk-container-id-2\" class=\"sk-top-container\"><div class=\"sk-text-repr-fallback\"><pre>RandomForestRegressor()</pre><b>In a Jupyter environment, please rerun this cell to show the HTML representation or trust the notebook. <br />On GitHub, the HTML representation is unable to render, please try loading this page with nbviewer.org.</b></div><div class=\"sk-container\" hidden><div class=\"sk-item\"><div class=\"sk-estimator sk-toggleable\"><input class=\"sk-toggleable__control sk-hidden--visually\" id=\"sk-estimator-id-2\" type=\"checkbox\" checked><label for=\"sk-estimator-id-2\" class=\"sk-toggleable__label sk-toggleable__label-arrow\">RandomForestRegressor</label><div class=\"sk-toggleable__content\"><pre>RandomForestRegressor()</pre></div></div></div></div></div>"
      ],
      "text/plain": [
       "RandomForestRegressor()"
      ]
     },
     "execution_count": 139,
     "metadata": {},
     "output_type": "execute_result"
    }
   ],
   "source": [
    "r_model.fit(X_train, y_train)"
   ]
  },
  {
   "cell_type": "code",
   "execution_count": 140,
   "id": "3e0d6ae2-e523-43f6-960c-187bd091c186",
   "metadata": {},
   "outputs": [],
   "source": [
    "result = r_model.predict(X_test)"
   ]
  },
  {
   "cell_type": "code",
   "execution_count": 141,
   "id": "0ecdd476-9c2b-4df0-a941-c970ee4c981f",
   "metadata": {},
   "outputs": [
    {
     "data": {
      "text/plain": [
       "array([0.34679301, 0.29830968, 0.4000491 , ..., 0.44288271, 0.4594078 ,\n",
       "       0.42036192])"
      ]
     },
     "execution_count": 141,
     "metadata": {},
     "output_type": "execute_result"
    }
   ],
   "source": [
    "result"
   ]
  },
  {
   "cell_type": "code",
   "execution_count": 142,
   "id": "4ab30a18-1eba-4524-8666-3b9788a96b6c",
   "metadata": {},
   "outputs": [
    {
     "data": {
      "text/plain": [
       "0.12829032644781552"
      ]
     },
     "execution_count": 142,
     "metadata": {},
     "output_type": "execute_result"
    }
   ],
   "source": [
    "\n",
    "mean_absolute_error(result, y_test)"
   ]
  },
  {
   "cell_type": "code",
   "execution_count": 143,
   "id": "361f2fe1-cbbc-44ad-8318-59f6c62ed686",
   "metadata": {},
   "outputs": [
    {
     "data": {
      "text/plain": [
       "0        13\n",
       "1         3\n",
       "2         4\n",
       "3        10\n",
       "4        10\n",
       "         ..\n",
       "19708     1\n",
       "19709     1\n",
       "19710     2\n",
       "19711     2\n",
       "19712     0\n",
       "Name: likes, Length: 19664, dtype: int64"
      ]
     },
     "execution_count": 143,
     "metadata": {},
     "output_type": "execute_result"
    }
   ],
   "source": [
    "df_poem[\"likes\"]"
   ]
  },
  {
   "cell_type": "code",
   "execution_count": 144,
   "id": "5b2ebbeb-4bc3-4bb8-84fc-acb9913579d1",
   "metadata": {},
   "outputs": [
    {
     "name": "stdout",
     "output_type": "stream",
     "text": [
      "<class 'pandas.core.frame.DataFrame'>\n",
      "RangeIndex: 19664 entries, 0 to 19663\n",
      "Columns: 11995 entries, id to zzzz\n",
      "dtypes: Sparse[float64, 0.0](11979), float64(1), int32(3), int64(12)\n",
      "memory usage: 2.8 MB\n"
     ]
    }
   ],
   "source": [
    "df_main.info()"
   ]
  },
  {
   "cell_type": "markdown",
   "id": "62f37406-8aad-4854-b35c-a46cd362a95c",
   "metadata": {},
   "source": [
    "## XGB Regression Model"
   ]
  },
  {
   "cell_type": "code",
   "execution_count": 145,
   "id": "660cd934-eb73-4cb8-a3a3-6054149e5ea9",
   "metadata": {},
   "outputs": [],
   "source": [
    "xgb_rating = XGBRegressor()"
   ]
  },
  {
   "cell_type": "code",
   "execution_count": 146,
   "id": "abf4e1ed-892d-4b61-8bc2-79b1525ee3a1",
   "metadata": {},
   "outputs": [
    {
     "data": {
      "text/html": [
       "<style>#sk-container-id-3 {color: black;}#sk-container-id-3 pre{padding: 0;}#sk-container-id-3 div.sk-toggleable {background-color: white;}#sk-container-id-3 label.sk-toggleable__label {cursor: pointer;display: block;width: 100%;margin-bottom: 0;padding: 0.3em;box-sizing: border-box;text-align: center;}#sk-container-id-3 label.sk-toggleable__label-arrow:before {content: \"▸\";float: left;margin-right: 0.25em;color: #696969;}#sk-container-id-3 label.sk-toggleable__label-arrow:hover:before {color: black;}#sk-container-id-3 div.sk-estimator:hover label.sk-toggleable__label-arrow:before {color: black;}#sk-container-id-3 div.sk-toggleable__content {max-height: 0;max-width: 0;overflow: hidden;text-align: left;background-color: #f0f8ff;}#sk-container-id-3 div.sk-toggleable__content pre {margin: 0.2em;color: black;border-radius: 0.25em;background-color: #f0f8ff;}#sk-container-id-3 input.sk-toggleable__control:checked~div.sk-toggleable__content {max-height: 200px;max-width: 100%;overflow: auto;}#sk-container-id-3 input.sk-toggleable__control:checked~label.sk-toggleable__label-arrow:before {content: \"▾\";}#sk-container-id-3 div.sk-estimator input.sk-toggleable__control:checked~label.sk-toggleable__label {background-color: #d4ebff;}#sk-container-id-3 div.sk-label input.sk-toggleable__control:checked~label.sk-toggleable__label {background-color: #d4ebff;}#sk-container-id-3 input.sk-hidden--visually {border: 0;clip: rect(1px 1px 1px 1px);clip: rect(1px, 1px, 1px, 1px);height: 1px;margin: -1px;overflow: hidden;padding: 0;position: absolute;width: 1px;}#sk-container-id-3 div.sk-estimator {font-family: monospace;background-color: #f0f8ff;border: 1px dotted black;border-radius: 0.25em;box-sizing: border-box;margin-bottom: 0.5em;}#sk-container-id-3 div.sk-estimator:hover {background-color: #d4ebff;}#sk-container-id-3 div.sk-parallel-item::after {content: \"\";width: 100%;border-bottom: 1px solid gray;flex-grow: 1;}#sk-container-id-3 div.sk-label:hover label.sk-toggleable__label {background-color: #d4ebff;}#sk-container-id-3 div.sk-serial::before {content: \"\";position: absolute;border-left: 1px solid gray;box-sizing: border-box;top: 0;bottom: 0;left: 50%;z-index: 0;}#sk-container-id-3 div.sk-serial {display: flex;flex-direction: column;align-items: center;background-color: white;padding-right: 0.2em;padding-left: 0.2em;position: relative;}#sk-container-id-3 div.sk-item {position: relative;z-index: 1;}#sk-container-id-3 div.sk-parallel {display: flex;align-items: stretch;justify-content: center;background-color: white;position: relative;}#sk-container-id-3 div.sk-item::before, #sk-container-id-3 div.sk-parallel-item::before {content: \"\";position: absolute;border-left: 1px solid gray;box-sizing: border-box;top: 0;bottom: 0;left: 50%;z-index: -1;}#sk-container-id-3 div.sk-parallel-item {display: flex;flex-direction: column;z-index: 1;position: relative;background-color: white;}#sk-container-id-3 div.sk-parallel-item:first-child::after {align-self: flex-end;width: 50%;}#sk-container-id-3 div.sk-parallel-item:last-child::after {align-self: flex-start;width: 50%;}#sk-container-id-3 div.sk-parallel-item:only-child::after {width: 0;}#sk-container-id-3 div.sk-dashed-wrapped {border: 1px dashed gray;margin: 0 0.4em 0.5em 0.4em;box-sizing: border-box;padding-bottom: 0.4em;background-color: white;}#sk-container-id-3 div.sk-label label {font-family: monospace;font-weight: bold;display: inline-block;line-height: 1.2em;}#sk-container-id-3 div.sk-label-container {text-align: center;}#sk-container-id-3 div.sk-container {/* jupyter's `normalize.less` sets `[hidden] { display: none; }` but bootstrap.min.css set `[hidden] { display: none !important; }` so we also need the `!important` here to be able to override the default hidden behavior on the sphinx rendered scikit-learn.org. See: https://github.com/scikit-learn/scikit-learn/issues/21755 */display: inline-block !important;position: relative;}#sk-container-id-3 div.sk-text-repr-fallback {display: none;}</style><div id=\"sk-container-id-3\" class=\"sk-top-container\"><div class=\"sk-text-repr-fallback\"><pre>XGBRegressor(base_score=None, booster=None, callbacks=None,\n",
       "             colsample_bylevel=None, colsample_bynode=None,\n",
       "             colsample_bytree=None, device=None, early_stopping_rounds=None,\n",
       "             enable_categorical=False, eval_metric=None, feature_types=None,\n",
       "             gamma=None, grow_policy=None, importance_type=None,\n",
       "             interaction_constraints=None, learning_rate=None, max_bin=None,\n",
       "             max_cat_threshold=None, max_cat_to_onehot=None,\n",
       "             max_delta_step=None, max_depth=None, max_leaves=None,\n",
       "             min_child_weight=None, missing=nan, monotone_constraints=None,\n",
       "             multi_strategy=None, n_estimators=None, n_jobs=None,\n",
       "             num_parallel_tree=None, random_state=None, ...)</pre><b>In a Jupyter environment, please rerun this cell to show the HTML representation or trust the notebook. <br />On GitHub, the HTML representation is unable to render, please try loading this page with nbviewer.org.</b></div><div class=\"sk-container\" hidden><div class=\"sk-item\"><div class=\"sk-estimator sk-toggleable\"><input class=\"sk-toggleable__control sk-hidden--visually\" id=\"sk-estimator-id-3\" type=\"checkbox\" checked><label for=\"sk-estimator-id-3\" class=\"sk-toggleable__label sk-toggleable__label-arrow\">XGBRegressor</label><div class=\"sk-toggleable__content\"><pre>XGBRegressor(base_score=None, booster=None, callbacks=None,\n",
       "             colsample_bylevel=None, colsample_bynode=None,\n",
       "             colsample_bytree=None, device=None, early_stopping_rounds=None,\n",
       "             enable_categorical=False, eval_metric=None, feature_types=None,\n",
       "             gamma=None, grow_policy=None, importance_type=None,\n",
       "             interaction_constraints=None, learning_rate=None, max_bin=None,\n",
       "             max_cat_threshold=None, max_cat_to_onehot=None,\n",
       "             max_delta_step=None, max_depth=None, max_leaves=None,\n",
       "             min_child_weight=None, missing=nan, monotone_constraints=None,\n",
       "             multi_strategy=None, n_estimators=None, n_jobs=None,\n",
       "             num_parallel_tree=None, random_state=None, ...)</pre></div></div></div></div></div>"
      ],
      "text/plain": [
       "XGBRegressor(base_score=None, booster=None, callbacks=None,\n",
       "             colsample_bylevel=None, colsample_bynode=None,\n",
       "             colsample_bytree=None, device=None, early_stopping_rounds=None,\n",
       "             enable_categorical=False, eval_metric=None, feature_types=None,\n",
       "             gamma=None, grow_policy=None, importance_type=None,\n",
       "             interaction_constraints=None, learning_rate=None, max_bin=None,\n",
       "             max_cat_threshold=None, max_cat_to_onehot=None,\n",
       "             max_delta_step=None, max_depth=None, max_leaves=None,\n",
       "             min_child_weight=None, missing=nan, monotone_constraints=None,\n",
       "             multi_strategy=None, n_estimators=None, n_jobs=None,\n",
       "             num_parallel_tree=None, random_state=None, ...)"
      ]
     },
     "execution_count": 146,
     "metadata": {},
     "output_type": "execute_result"
    }
   ],
   "source": [
    "xgb_rating.fit(X_train, y_train)"
   ]
  },
  {
   "cell_type": "code",
   "execution_count": 147,
   "id": "54b5138a-97de-457f-be97-52555613307c",
   "metadata": {},
   "outputs": [],
   "source": [
    "xgb_booster_pred = xgb_rating.predict(X_test)\n"
   ]
  },
  {
   "cell_type": "code",
   "execution_count": 148,
   "id": "aafb6825-ee47-4dfb-9a71-14cfeafee836",
   "metadata": {},
   "outputs": [
    {
     "data": {
      "text/plain": [
       "array([0.32772473, 0.3514942 , 0.3888145 , ..., 0.39182317, 0.3978357 ,\n",
       "       0.3779754 ], dtype=float32)"
      ]
     },
     "execution_count": 148,
     "metadata": {},
     "output_type": "execute_result"
    }
   ],
   "source": [
    "xgb_booster_pred"
   ]
  },
  {
   "cell_type": "code",
   "execution_count": 149,
   "id": "36a244e4-a01a-472f-ba7f-e89ea80267cd",
   "metadata": {},
   "outputs": [
    {
     "data": {
      "text/plain": [
       "0.12789202148986373"
      ]
     },
     "execution_count": 149,
     "metadata": {},
     "output_type": "execute_result"
    }
   ],
   "source": [
    " mean_absolute_error(xgb_booster_pred, y_test)"
   ]
  },
  {
   "cell_type": "markdown",
   "id": "97f4a2d7-ea53-4ec1-8298-12b22329002a",
   "metadata": {},
   "source": [
    "# 6.2 Predicting Likes"
   ]
  },
  {
   "cell_type": "markdown",
   "id": "a4c5290d-ace3-4f85-b441-bfa6cb4fb7c4",
   "metadata": {},
   "source": [
    "### Splitting the Dataset into train and Test"
   ]
  },
  {
   "cell_type": "code",
   "execution_count": 207,
   "id": "e4d40c8b-9721-49ac-8bdc-af74b3a9ccfa",
   "metadata": {},
   "outputs": [
    {
     "data": {
      "text/plain": [
       "0        13\n",
       "1         3\n",
       "2         4\n",
       "3        10\n",
       "4        10\n",
       "         ..\n",
       "19659     1\n",
       "19660     1\n",
       "19661     2\n",
       "19662     2\n",
       "19663     0\n",
       "Name: likes, Length: 19664, dtype: int64"
      ]
     },
     "execution_count": 207,
     "metadata": {},
     "output_type": "execute_result"
    }
   ],
   "source": [
    "df_main[\"likes\"]"
   ]
  },
  {
   "cell_type": "code",
   "execution_count": 208,
   "id": "9b887a1b-87c4-43a1-ba0d-04e810cfc7f8",
   "metadata": {},
   "outputs": [
    {
     "name": "stdout",
     "output_type": "stream",
     "text": [
      "<class 'pandas.core.series.Series'>\n",
      "RangeIndex: 19664 entries, 0 to 19663\n",
      "Series name: likes\n",
      "Non-Null Count  Dtype\n",
      "--------------  -----\n",
      "19664 non-null  int64\n",
      "dtypes: int64(1)\n",
      "memory usage: 153.8 KB\n"
     ]
    }
   ],
   "source": [
    "df_main[\"likes\"].info()"
   ]
  },
  {
   "cell_type": "code",
   "execution_count": 190,
   "id": "639ea34d-e670-4d57-8b6b-0beb34708071",
   "metadata": {},
   "outputs": [
    {
     "data": {
      "text/plain": [
       "0"
      ]
     },
     "execution_count": 190,
     "metadata": {},
     "output_type": "execute_result"
    }
   ],
   "source": [
    "len(list(df_poem.columns)) - len(set(list(df_poem.columns)))"
   ]
  },
  {
   "cell_type": "code",
   "execution_count": 209,
   "id": "1f74b68e-cabf-4683-94d9-76483ef64c71",
   "metadata": {},
   "outputs": [],
   "source": [
    "y =df_main[\"likes\"]\n",
    "X = df_main.drop(\"likes\", axis = 1)"
   ]
  },
  {
   "cell_type": "code",
   "execution_count": 210,
   "id": "f88de91d-4ec6-4997-8aaa-10f540477621",
   "metadata": {},
   "outputs": [
    {
     "name": "stdout",
     "output_type": "stream",
     "text": [
      "<class 'pandas.core.series.Series'>\n",
      "RangeIndex: 19664 entries, 0 to 19663\n",
      "Series name: likes\n",
      "Non-Null Count  Dtype\n",
      "--------------  -----\n",
      "19664 non-null  int64\n",
      "dtypes: int64(1)\n",
      "memory usage: 153.8 KB\n"
     ]
    }
   ],
   "source": [
    "y.info()"
   ]
  },
  {
   "cell_type": "code",
   "execution_count": 211,
   "id": "df230912-1dee-43a3-9415-d326277a58b8",
   "metadata": {},
   "outputs": [
    {
     "name": "stdout",
     "output_type": "stream",
     "text": [
      "<class 'pandas.core.frame.DataFrame'>\n",
      "RangeIndex: 19664 entries, 0 to 19663\n",
      "Columns: 11994 entries, id to zzzz\n",
      "dtypes: Sparse[float64, 0.0](11979), float64(1), int32(3), int64(11)\n",
      "memory usage: 2.7 MB\n"
     ]
    }
   ],
   "source": [
    "X.info()"
   ]
  },
  {
   "cell_type": "code",
   "execution_count": 212,
   "id": "5b7f1dd0-9ff3-4b33-b272-ee6da6869296",
   "metadata": {},
   "outputs": [
    {
     "data": {
      "text/plain": [
       "id             0\n",
       "followers      0\n",
       "following      0\n",
       "message_out    0\n",
       "message_in     0\n",
       "              ..\n",
       "zuu            0\n",
       "zuzu           0\n",
       "zweet          0\n",
       "zylent         0\n",
       "zzzz           0\n",
       "Length: 11994, dtype: int64"
      ]
     },
     "execution_count": 212,
     "metadata": {},
     "output_type": "execute_result"
    }
   ],
   "source": [
    "X.isnull().sum()"
   ]
  },
  {
   "cell_type": "code",
   "execution_count": 213,
   "id": "6d57dd86-e5be-436a-b4cb-55da7f8d7174",
   "metadata": {},
   "outputs": [],
   "source": [
    "X_train, X_test, y_train, y_test = train_test_split(X, y, test_size=0.2, random_state = 42) "
   ]
  },
  {
   "cell_type": "code",
   "execution_count": 214,
   "id": "0e8eb063-92e0-4f44-a572-a6cbee2c69c5",
   "metadata": {},
   "outputs": [],
   "source": [
    "dt_likes = DecisionTreeRegressor()\n",
    "\n"
   ]
  },
  {
   "cell_type": "code",
   "execution_count": 215,
   "id": "1be9b1e6-7d55-4d3a-885d-e17534dfa1f0",
   "metadata": {},
   "outputs": [
    {
     "data": {
      "text/html": [
       "<style>#sk-container-id-6 {color: black;}#sk-container-id-6 pre{padding: 0;}#sk-container-id-6 div.sk-toggleable {background-color: white;}#sk-container-id-6 label.sk-toggleable__label {cursor: pointer;display: block;width: 100%;margin-bottom: 0;padding: 0.3em;box-sizing: border-box;text-align: center;}#sk-container-id-6 label.sk-toggleable__label-arrow:before {content: \"▸\";float: left;margin-right: 0.25em;color: #696969;}#sk-container-id-6 label.sk-toggleable__label-arrow:hover:before {color: black;}#sk-container-id-6 div.sk-estimator:hover label.sk-toggleable__label-arrow:before {color: black;}#sk-container-id-6 div.sk-toggleable__content {max-height: 0;max-width: 0;overflow: hidden;text-align: left;background-color: #f0f8ff;}#sk-container-id-6 div.sk-toggleable__content pre {margin: 0.2em;color: black;border-radius: 0.25em;background-color: #f0f8ff;}#sk-container-id-6 input.sk-toggleable__control:checked~div.sk-toggleable__content {max-height: 200px;max-width: 100%;overflow: auto;}#sk-container-id-6 input.sk-toggleable__control:checked~label.sk-toggleable__label-arrow:before {content: \"▾\";}#sk-container-id-6 div.sk-estimator input.sk-toggleable__control:checked~label.sk-toggleable__label {background-color: #d4ebff;}#sk-container-id-6 div.sk-label input.sk-toggleable__control:checked~label.sk-toggleable__label {background-color: #d4ebff;}#sk-container-id-6 input.sk-hidden--visually {border: 0;clip: rect(1px 1px 1px 1px);clip: rect(1px, 1px, 1px, 1px);height: 1px;margin: -1px;overflow: hidden;padding: 0;position: absolute;width: 1px;}#sk-container-id-6 div.sk-estimator {font-family: monospace;background-color: #f0f8ff;border: 1px dotted black;border-radius: 0.25em;box-sizing: border-box;margin-bottom: 0.5em;}#sk-container-id-6 div.sk-estimator:hover {background-color: #d4ebff;}#sk-container-id-6 div.sk-parallel-item::after {content: \"\";width: 100%;border-bottom: 1px solid gray;flex-grow: 1;}#sk-container-id-6 div.sk-label:hover label.sk-toggleable__label {background-color: #d4ebff;}#sk-container-id-6 div.sk-serial::before {content: \"\";position: absolute;border-left: 1px solid gray;box-sizing: border-box;top: 0;bottom: 0;left: 50%;z-index: 0;}#sk-container-id-6 div.sk-serial {display: flex;flex-direction: column;align-items: center;background-color: white;padding-right: 0.2em;padding-left: 0.2em;position: relative;}#sk-container-id-6 div.sk-item {position: relative;z-index: 1;}#sk-container-id-6 div.sk-parallel {display: flex;align-items: stretch;justify-content: center;background-color: white;position: relative;}#sk-container-id-6 div.sk-item::before, #sk-container-id-6 div.sk-parallel-item::before {content: \"\";position: absolute;border-left: 1px solid gray;box-sizing: border-box;top: 0;bottom: 0;left: 50%;z-index: -1;}#sk-container-id-6 div.sk-parallel-item {display: flex;flex-direction: column;z-index: 1;position: relative;background-color: white;}#sk-container-id-6 div.sk-parallel-item:first-child::after {align-self: flex-end;width: 50%;}#sk-container-id-6 div.sk-parallel-item:last-child::after {align-self: flex-start;width: 50%;}#sk-container-id-6 div.sk-parallel-item:only-child::after {width: 0;}#sk-container-id-6 div.sk-dashed-wrapped {border: 1px dashed gray;margin: 0 0.4em 0.5em 0.4em;box-sizing: border-box;padding-bottom: 0.4em;background-color: white;}#sk-container-id-6 div.sk-label label {font-family: monospace;font-weight: bold;display: inline-block;line-height: 1.2em;}#sk-container-id-6 div.sk-label-container {text-align: center;}#sk-container-id-6 div.sk-container {/* jupyter's `normalize.less` sets `[hidden] { display: none; }` but bootstrap.min.css set `[hidden] { display: none !important; }` so we also need the `!important` here to be able to override the default hidden behavior on the sphinx rendered scikit-learn.org. See: https://github.com/scikit-learn/scikit-learn/issues/21755 */display: inline-block !important;position: relative;}#sk-container-id-6 div.sk-text-repr-fallback {display: none;}</style><div id=\"sk-container-id-6\" class=\"sk-top-container\"><div class=\"sk-text-repr-fallback\"><pre>DecisionTreeRegressor()</pre><b>In a Jupyter environment, please rerun this cell to show the HTML representation or trust the notebook. <br />On GitHub, the HTML representation is unable to render, please try loading this page with nbviewer.org.</b></div><div class=\"sk-container\" hidden><div class=\"sk-item\"><div class=\"sk-estimator sk-toggleable\"><input class=\"sk-toggleable__control sk-hidden--visually\" id=\"sk-estimator-id-6\" type=\"checkbox\" checked><label for=\"sk-estimator-id-6\" class=\"sk-toggleable__label sk-toggleable__label-arrow\">DecisionTreeRegressor</label><div class=\"sk-toggleable__content\"><pre>DecisionTreeRegressor()</pre></div></div></div></div></div>"
      ],
      "text/plain": [
       "DecisionTreeRegressor()"
      ]
     },
     "execution_count": 215,
     "metadata": {},
     "output_type": "execute_result"
    }
   ],
   "source": [
    "dt_likes.fit(X_train, y_train)"
   ]
  },
  {
   "cell_type": "code",
   "execution_count": 216,
   "id": "0eee0c27-7c90-428f-8747-e06dc16f8e28",
   "metadata": {},
   "outputs": [
    {
     "data": {
      "text/plain": [
       "array([0., 1., 1., ..., 2., 5., 2.])"
      ]
     },
     "execution_count": 216,
     "metadata": {},
     "output_type": "execute_result"
    }
   ],
   "source": [
    "Decison_Tree_pred1 = dt_likes.predict(X_test)\n",
    "Decison_Tree_pred1"
   ]
  },
  {
   "cell_type": "code",
   "execution_count": 217,
   "id": "cb755fed-9fb2-4f71-b4fa-445623c91726",
   "metadata": {},
   "outputs": [
    {
     "data": {
      "text/plain": [
       "3.916603101957793"
      ]
     },
     "execution_count": 217,
     "metadata": {},
     "output_type": "execute_result"
    }
   ],
   "source": [
    "mean_absolute_error(Decison_Tree_pred1, y_test)"
   ]
  },
  {
   "cell_type": "code",
   "execution_count": 218,
   "id": "0c891874-1a54-4114-a3fb-9118cf103695",
   "metadata": {},
   "outputs": [],
   "source": [
    "mean_y = X.mean()\n",
    "X.fillna(mean_y, inplace=True)"
   ]
  },
  {
   "cell_type": "code",
   "execution_count": 180,
   "id": "dcca61b4-2a56-4b95-85d4-69fddd1c4afe",
   "metadata": {},
   "outputs": [],
   "source": [
    "X.dropna(axis = 1, inplace = True)"
   ]
  },
  {
   "cell_type": "code",
   "execution_count": 169,
   "id": "dac5e57f-5427-40ed-b65d-1dcd6815ad2a",
   "metadata": {},
   "outputs": [
    {
     "name": "stdout",
     "output_type": "stream",
     "text": [
      "<class 'pandas.core.frame.DataFrame'>\n",
      "Index: 5900 entries, 19049 to 15973\n",
      "Columns: 11994 entries, id to zzzz\n",
      "dtypes: Sparse[float64, 0.0](11979), float64(1), int32(3), int64(11)\n",
      "memory usage: 869.6 KB\n"
     ]
    }
   ],
   "source": [
    "X_test.info()"
   ]
  },
  {
   "cell_type": "code",
   "execution_count": 163,
   "id": "14ca52f1-410f-4fb7-a5e2-ac663cabc175",
   "metadata": {},
   "outputs": [],
   "source": [
    "r_model_likes = RandomForestRegressor()"
   ]
  },
  {
   "cell_type": "code",
   "execution_count": 164,
   "id": "088b2a06-1301-4e7d-bc39-a3acd6748de4",
   "metadata": {},
   "outputs": [
    {
     "data": {
      "text/html": [
       "<style>#sk-container-id-5 {color: black;}#sk-container-id-5 pre{padding: 0;}#sk-container-id-5 div.sk-toggleable {background-color: white;}#sk-container-id-5 label.sk-toggleable__label {cursor: pointer;display: block;width: 100%;margin-bottom: 0;padding: 0.3em;box-sizing: border-box;text-align: center;}#sk-container-id-5 label.sk-toggleable__label-arrow:before {content: \"▸\";float: left;margin-right: 0.25em;color: #696969;}#sk-container-id-5 label.sk-toggleable__label-arrow:hover:before {color: black;}#sk-container-id-5 div.sk-estimator:hover label.sk-toggleable__label-arrow:before {color: black;}#sk-container-id-5 div.sk-toggleable__content {max-height: 0;max-width: 0;overflow: hidden;text-align: left;background-color: #f0f8ff;}#sk-container-id-5 div.sk-toggleable__content pre {margin: 0.2em;color: black;border-radius: 0.25em;background-color: #f0f8ff;}#sk-container-id-5 input.sk-toggleable__control:checked~div.sk-toggleable__content {max-height: 200px;max-width: 100%;overflow: auto;}#sk-container-id-5 input.sk-toggleable__control:checked~label.sk-toggleable__label-arrow:before {content: \"▾\";}#sk-container-id-5 div.sk-estimator input.sk-toggleable__control:checked~label.sk-toggleable__label {background-color: #d4ebff;}#sk-container-id-5 div.sk-label input.sk-toggleable__control:checked~label.sk-toggleable__label {background-color: #d4ebff;}#sk-container-id-5 input.sk-hidden--visually {border: 0;clip: rect(1px 1px 1px 1px);clip: rect(1px, 1px, 1px, 1px);height: 1px;margin: -1px;overflow: hidden;padding: 0;position: absolute;width: 1px;}#sk-container-id-5 div.sk-estimator {font-family: monospace;background-color: #f0f8ff;border: 1px dotted black;border-radius: 0.25em;box-sizing: border-box;margin-bottom: 0.5em;}#sk-container-id-5 div.sk-estimator:hover {background-color: #d4ebff;}#sk-container-id-5 div.sk-parallel-item::after {content: \"\";width: 100%;border-bottom: 1px solid gray;flex-grow: 1;}#sk-container-id-5 div.sk-label:hover label.sk-toggleable__label {background-color: #d4ebff;}#sk-container-id-5 div.sk-serial::before {content: \"\";position: absolute;border-left: 1px solid gray;box-sizing: border-box;top: 0;bottom: 0;left: 50%;z-index: 0;}#sk-container-id-5 div.sk-serial {display: flex;flex-direction: column;align-items: center;background-color: white;padding-right: 0.2em;padding-left: 0.2em;position: relative;}#sk-container-id-5 div.sk-item {position: relative;z-index: 1;}#sk-container-id-5 div.sk-parallel {display: flex;align-items: stretch;justify-content: center;background-color: white;position: relative;}#sk-container-id-5 div.sk-item::before, #sk-container-id-5 div.sk-parallel-item::before {content: \"\";position: absolute;border-left: 1px solid gray;box-sizing: border-box;top: 0;bottom: 0;left: 50%;z-index: -1;}#sk-container-id-5 div.sk-parallel-item {display: flex;flex-direction: column;z-index: 1;position: relative;background-color: white;}#sk-container-id-5 div.sk-parallel-item:first-child::after {align-self: flex-end;width: 50%;}#sk-container-id-5 div.sk-parallel-item:last-child::after {align-self: flex-start;width: 50%;}#sk-container-id-5 div.sk-parallel-item:only-child::after {width: 0;}#sk-container-id-5 div.sk-dashed-wrapped {border: 1px dashed gray;margin: 0 0.4em 0.5em 0.4em;box-sizing: border-box;padding-bottom: 0.4em;background-color: white;}#sk-container-id-5 div.sk-label label {font-family: monospace;font-weight: bold;display: inline-block;line-height: 1.2em;}#sk-container-id-5 div.sk-label-container {text-align: center;}#sk-container-id-5 div.sk-container {/* jupyter's `normalize.less` sets `[hidden] { display: none; }` but bootstrap.min.css set `[hidden] { display: none !important; }` so we also need the `!important` here to be able to override the default hidden behavior on the sphinx rendered scikit-learn.org. See: https://github.com/scikit-learn/scikit-learn/issues/21755 */display: inline-block !important;position: relative;}#sk-container-id-5 div.sk-text-repr-fallback {display: none;}</style><div id=\"sk-container-id-5\" class=\"sk-top-container\"><div class=\"sk-text-repr-fallback\"><pre>RandomForestRegressor()</pre><b>In a Jupyter environment, please rerun this cell to show the HTML representation or trust the notebook. <br />On GitHub, the HTML representation is unable to render, please try loading this page with nbviewer.org.</b></div><div class=\"sk-container\" hidden><div class=\"sk-item\"><div class=\"sk-estimator sk-toggleable\"><input class=\"sk-toggleable__control sk-hidden--visually\" id=\"sk-estimator-id-5\" type=\"checkbox\" checked><label for=\"sk-estimator-id-5\" class=\"sk-toggleable__label sk-toggleable__label-arrow\">RandomForestRegressor</label><div class=\"sk-toggleable__content\"><pre>RandomForestRegressor()</pre></div></div></div></div></div>"
      ],
      "text/plain": [
       "RandomForestRegressor()"
      ]
     },
     "execution_count": 164,
     "metadata": {},
     "output_type": "execute_result"
    }
   ],
   "source": [
    "r_model_likes.fit(X_train, y_train)"
   ]
  },
  {
   "cell_type": "code",
   "execution_count": 165,
   "id": "c39b14ea-be92-485c-8425-b4266a1fc815",
   "metadata": {},
   "outputs": [
    {
     "data": {
      "text/plain": [
       "array([0.95, 1.63, 1.35, ..., 7.96, 2.16, 3.53])"
      ]
     },
     "execution_count": 165,
     "metadata": {},
     "output_type": "execute_result"
    }
   ],
   "source": [
    "r_model1 = r_model_likes.predict(X_test)\n",
    "r_model1"
   ]
  },
  {
   "cell_type": "code",
   "execution_count": 167,
   "id": "7fc5a070-6dca-4b8b-b2aa-f67c9f530193",
   "metadata": {},
   "outputs": [
    {
     "data": {
      "text/plain": [
       "3.2765542372881358"
      ]
     },
     "execution_count": 167,
     "metadata": {},
     "output_type": "execute_result"
    }
   ],
   "source": [
    "mean_absolute_error(r_model1, y_test)"
   ]
  },
  {
   "cell_type": "code",
   "execution_count": 220,
   "id": "571ee2cc-1d75-4b8a-b8cc-094b451e9d8c",
   "metadata": {},
   "outputs": [],
   "source": [
    "xgb_rating_likes = XGBRegressor()"
   ]
  },
  {
   "cell_type": "code",
   "execution_count": 221,
   "id": "55796cb6-d615-431f-bfeb-862f8346713b",
   "metadata": {},
   "outputs": [
    {
     "data": {
      "text/html": [
       "<style>#sk-container-id-7 {color: black;}#sk-container-id-7 pre{padding: 0;}#sk-container-id-7 div.sk-toggleable {background-color: white;}#sk-container-id-7 label.sk-toggleable__label {cursor: pointer;display: block;width: 100%;margin-bottom: 0;padding: 0.3em;box-sizing: border-box;text-align: center;}#sk-container-id-7 label.sk-toggleable__label-arrow:before {content: \"▸\";float: left;margin-right: 0.25em;color: #696969;}#sk-container-id-7 label.sk-toggleable__label-arrow:hover:before {color: black;}#sk-container-id-7 div.sk-estimator:hover label.sk-toggleable__label-arrow:before {color: black;}#sk-container-id-7 div.sk-toggleable__content {max-height: 0;max-width: 0;overflow: hidden;text-align: left;background-color: #f0f8ff;}#sk-container-id-7 div.sk-toggleable__content pre {margin: 0.2em;color: black;border-radius: 0.25em;background-color: #f0f8ff;}#sk-container-id-7 input.sk-toggleable__control:checked~div.sk-toggleable__content {max-height: 200px;max-width: 100%;overflow: auto;}#sk-container-id-7 input.sk-toggleable__control:checked~label.sk-toggleable__label-arrow:before {content: \"▾\";}#sk-container-id-7 div.sk-estimator input.sk-toggleable__control:checked~label.sk-toggleable__label {background-color: #d4ebff;}#sk-container-id-7 div.sk-label input.sk-toggleable__control:checked~label.sk-toggleable__label {background-color: #d4ebff;}#sk-container-id-7 input.sk-hidden--visually {border: 0;clip: rect(1px 1px 1px 1px);clip: rect(1px, 1px, 1px, 1px);height: 1px;margin: -1px;overflow: hidden;padding: 0;position: absolute;width: 1px;}#sk-container-id-7 div.sk-estimator {font-family: monospace;background-color: #f0f8ff;border: 1px dotted black;border-radius: 0.25em;box-sizing: border-box;margin-bottom: 0.5em;}#sk-container-id-7 div.sk-estimator:hover {background-color: #d4ebff;}#sk-container-id-7 div.sk-parallel-item::after {content: \"\";width: 100%;border-bottom: 1px solid gray;flex-grow: 1;}#sk-container-id-7 div.sk-label:hover label.sk-toggleable__label {background-color: #d4ebff;}#sk-container-id-7 div.sk-serial::before {content: \"\";position: absolute;border-left: 1px solid gray;box-sizing: border-box;top: 0;bottom: 0;left: 50%;z-index: 0;}#sk-container-id-7 div.sk-serial {display: flex;flex-direction: column;align-items: center;background-color: white;padding-right: 0.2em;padding-left: 0.2em;position: relative;}#sk-container-id-7 div.sk-item {position: relative;z-index: 1;}#sk-container-id-7 div.sk-parallel {display: flex;align-items: stretch;justify-content: center;background-color: white;position: relative;}#sk-container-id-7 div.sk-item::before, #sk-container-id-7 div.sk-parallel-item::before {content: \"\";position: absolute;border-left: 1px solid gray;box-sizing: border-box;top: 0;bottom: 0;left: 50%;z-index: -1;}#sk-container-id-7 div.sk-parallel-item {display: flex;flex-direction: column;z-index: 1;position: relative;background-color: white;}#sk-container-id-7 div.sk-parallel-item:first-child::after {align-self: flex-end;width: 50%;}#sk-container-id-7 div.sk-parallel-item:last-child::after {align-self: flex-start;width: 50%;}#sk-container-id-7 div.sk-parallel-item:only-child::after {width: 0;}#sk-container-id-7 div.sk-dashed-wrapped {border: 1px dashed gray;margin: 0 0.4em 0.5em 0.4em;box-sizing: border-box;padding-bottom: 0.4em;background-color: white;}#sk-container-id-7 div.sk-label label {font-family: monospace;font-weight: bold;display: inline-block;line-height: 1.2em;}#sk-container-id-7 div.sk-label-container {text-align: center;}#sk-container-id-7 div.sk-container {/* jupyter's `normalize.less` sets `[hidden] { display: none; }` but bootstrap.min.css set `[hidden] { display: none !important; }` so we also need the `!important` here to be able to override the default hidden behavior on the sphinx rendered scikit-learn.org. See: https://github.com/scikit-learn/scikit-learn/issues/21755 */display: inline-block !important;position: relative;}#sk-container-id-7 div.sk-text-repr-fallback {display: none;}</style><div id=\"sk-container-id-7\" class=\"sk-top-container\"><div class=\"sk-text-repr-fallback\"><pre>XGBRegressor(base_score=None, booster=None, callbacks=None,\n",
       "             colsample_bylevel=None, colsample_bynode=None,\n",
       "             colsample_bytree=None, device=None, early_stopping_rounds=None,\n",
       "             enable_categorical=False, eval_metric=None, feature_types=None,\n",
       "             gamma=None, grow_policy=None, importance_type=None,\n",
       "             interaction_constraints=None, learning_rate=None, max_bin=None,\n",
       "             max_cat_threshold=None, max_cat_to_onehot=None,\n",
       "             max_delta_step=None, max_depth=None, max_leaves=None,\n",
       "             min_child_weight=None, missing=nan, monotone_constraints=None,\n",
       "             multi_strategy=None, n_estimators=None, n_jobs=None,\n",
       "             num_parallel_tree=None, random_state=None, ...)</pre><b>In a Jupyter environment, please rerun this cell to show the HTML representation or trust the notebook. <br />On GitHub, the HTML representation is unable to render, please try loading this page with nbviewer.org.</b></div><div class=\"sk-container\" hidden><div class=\"sk-item\"><div class=\"sk-estimator sk-toggleable\"><input class=\"sk-toggleable__control sk-hidden--visually\" id=\"sk-estimator-id-7\" type=\"checkbox\" checked><label for=\"sk-estimator-id-7\" class=\"sk-toggleable__label sk-toggleable__label-arrow\">XGBRegressor</label><div class=\"sk-toggleable__content\"><pre>XGBRegressor(base_score=None, booster=None, callbacks=None,\n",
       "             colsample_bylevel=None, colsample_bynode=None,\n",
       "             colsample_bytree=None, device=None, early_stopping_rounds=None,\n",
       "             enable_categorical=False, eval_metric=None, feature_types=None,\n",
       "             gamma=None, grow_policy=None, importance_type=None,\n",
       "             interaction_constraints=None, learning_rate=None, max_bin=None,\n",
       "             max_cat_threshold=None, max_cat_to_onehot=None,\n",
       "             max_delta_step=None, max_depth=None, max_leaves=None,\n",
       "             min_child_weight=None, missing=nan, monotone_constraints=None,\n",
       "             multi_strategy=None, n_estimators=None, n_jobs=None,\n",
       "             num_parallel_tree=None, random_state=None, ...)</pre></div></div></div></div></div>"
      ],
      "text/plain": [
       "XGBRegressor(base_score=None, booster=None, callbacks=None,\n",
       "             colsample_bylevel=None, colsample_bynode=None,\n",
       "             colsample_bytree=None, device=None, early_stopping_rounds=None,\n",
       "             enable_categorical=False, eval_metric=None, feature_types=None,\n",
       "             gamma=None, grow_policy=None, importance_type=None,\n",
       "             interaction_constraints=None, learning_rate=None, max_bin=None,\n",
       "             max_cat_threshold=None, max_cat_to_onehot=None,\n",
       "             max_delta_step=None, max_depth=None, max_leaves=None,\n",
       "             min_child_weight=None, missing=nan, monotone_constraints=None,\n",
       "             multi_strategy=None, n_estimators=None, n_jobs=None,\n",
       "             num_parallel_tree=None, random_state=None, ...)"
      ]
     },
     "execution_count": 221,
     "metadata": {},
     "output_type": "execute_result"
    }
   ],
   "source": [
    "xgb_rating_likes.fit(X_train, y_train)"
   ]
  },
  {
   "cell_type": "code",
   "execution_count": 222,
   "id": "e83d53f8-85e6-46fe-ac9b-6a51626d1ae6",
   "metadata": {},
   "outputs": [],
   "source": [
    "xgb_booster_pred_likes = xgb_rating_likes.predict(X_test)\n"
   ]
  },
  {
   "cell_type": "code",
   "execution_count": 223,
   "id": "9a882430-3606-448e-bcdf-896ed1ea64d6",
   "metadata": {},
   "outputs": [
    {
     "data": {
      "text/plain": [
       "array([ 3.4245768,  2.477062 ,  5.1724734, ...,  4.1280956, 16.36456  ,\n",
       "        4.230941 ], dtype=float32)"
      ]
     },
     "execution_count": 223,
     "metadata": {},
     "output_type": "execute_result"
    }
   ],
   "source": [
    "xgb_booster_pred_likes"
   ]
  },
  {
   "cell_type": "code",
   "execution_count": 226,
   "id": "d4b57f81-23bb-4045-a4c8-6580af9e7a1f",
   "metadata": {},
   "outputs": [
    {
     "data": {
      "text/plain": [
       "3.984908575144971"
      ]
     },
     "execution_count": 226,
     "metadata": {},
     "output_type": "execute_result"
    }
   ],
   "source": [
    "mean_absolute_error(xgb_booster_pred_likes, y_test)"
   ]
  },
  {
   "cell_type": "code",
   "execution_count": 227,
   "id": "3ee16780-b630-42a1-bad4-0ab87a6e38c0",
   "metadata": {},
   "outputs": [],
   "source": [
    "with open (\"Encoders/encoder1.pkl\", \"wb\") as f:\n",
    "    pkl.dump(encoder1, f)\n",
    "\n",
    "\n",
    "with open (\"Encoders/tfidf_vectorizer1.pkl\", \"wb\") as f:\n",
    "    pkl.dump(tfidf_vectorizer1, f)\n",
    "\n",
    "with open (\"Encoders/tfidf_vectorizer_title.pkl\", \"wb\") as f:\n",
    "    pkl.dump(tfidf_vectorizer_title, f)\n",
    "\n",
    "with open (\"Encoders/tfidf_vectorizer_poem.pkl\", \"wb\") as f:\n",
    "    pkl.dump(tfidf_vectorizer_poem, f)\n",
    "\n",
    "with open (\"Models/dt_regressor.pkl\", \"wb\") as f:\n",
    "    pkl.dump(dt_regressor, f)\n",
    "    \n",
    "with open (\"Models/r_model.pkl\", \"wb\") as f:\n",
    "    pkl.dump(r_model, f)\n",
    "\n",
    "with open (\"Models/xgb_rating.pkl\", \"wb\") as f:\n",
    "    pkl.dump(xgb_rating, f)\n",
    "\n",
    "with open (\"Models/dt_likes .pkl\", \"wb\") as f:\n",
    "    pkl.dump(dt_likes, f)\n",
    "    \n",
    "with open (\"Models/r_model_likes.pkl\", \"wb\") as f:\n",
    "    pkl.dump(r_model_likes, f)\n",
    "\n",
    "with open (\"Models/xgb_rating_likes.pkl\", \"wb\") as f:\n",
    "    pkl.dump(xgb_rating_likes, f)\n",
    "\n"
   ]
  },
  {
   "cell_type": "code",
   "execution_count": null,
   "id": "fb261ac2-88a8-461c-b177-53541cb93409",
   "metadata": {},
   "outputs": [],
   "source": []
  }
 ],
 "metadata": {
  "kernelspec": {
   "display_name": "Python 3 (ipykernel)",
   "language": "python",
   "name": "python3"
  },
  "language_info": {
   "codemirror_mode": {
    "name": "ipython",
    "version": 3
   },
   "file_extension": ".py",
   "mimetype": "text/x-python",
   "name": "python",
   "nbconvert_exporter": "python",
   "pygments_lexer": "ipython3",
   "version": "3.8.9"
  }
 },
 "nbformat": 4,
 "nbformat_minor": 5
}
